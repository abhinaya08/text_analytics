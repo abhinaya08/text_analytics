{
 "cells": [
  {
   "cell_type": "code",
   "execution_count": 26,
   "metadata": {},
   "outputs": [],
   "source": [
    "#sentiment analysis\n",
    "\n",
    "#https://github.com/cjhutto/vaderSentiment\n",
    "\n",
    "#https://github.com/harrismohammed/tweets_sentiment_analysis-VADER-/blob/master/twitter_text_analysis.py\n",
    "#http://www.nltk.org/_modules/nltk/sentiment/vader.html"
   ]
  },
  {
   "cell_type": "code",
   "execution_count": 25,
   "metadata": {},
   "outputs": [],
   "source": [
    "#https://github.com/mikhilraj/TFIDF\n",
    "\n",
    "#TFIDF and cosine similarity scripts here\n",
    "#create corpus from each one of the company \"core values\" and then do TFIDF on all to figure out core values"
   ]
  },
  {
   "cell_type": "markdown",
   "metadata": {},
   "source": [
    "GOOGLE"
   ]
  },
  {
   "cell_type": "code",
   "execution_count": 2,
   "metadata": {},
   "outputs": [
    {
     "ename": "SyntaxError",
     "evalue": "invalid character in identifier (<ipython-input-2-3eec8cf2e70a>, line 3)",
     "output_type": "error",
     "traceback": [
      "\u001b[1;36m  File \u001b[1;32m\"<ipython-input-2-3eec8cf2e70a>\"\u001b[1;36m, line \u001b[1;32m3\u001b[0m\n\u001b[1;33m    World’s information\u001b[0m\n\u001b[1;37m          ^\u001b[0m\n\u001b[1;31mSyntaxError\u001b[0m\u001b[1;31m:\u001b[0m invalid character in identifier\n"
     ]
    }
   ],
   "source": [
    "\"to organize the world’s information and make it universally accessible and useful.\"\n",
    "\n",
    "World’s information\n",
    "Organization\n",
    "Universal accessibility\n",
    "Usefulness"
   ]
  },
  {
   "cell_type": "code",
   "execution_count": 18,
   "metadata": {},
   "outputs": [
    {
     "data": {
      "text/plain": [
       "'Focus on the user and all else will follow. It’s best to do one thing really, really well. Fast is better than slow. Democracy on the web works. You don’t need to be at your desk to need an answer. You can make money without doing evil. There’s always more information out there. The need for information crosses all borders. You can be serious without a suit. Great just isn’t good enough.'"
      ]
     },
     "execution_count": 18,
     "metadata": {},
     "output_type": "execute_result"
    }
   ],
   "source": [
    "#https://element-360.com/googles10corevalues/\n",
    "\n",
    "'Focus on the user and all else will follow. It’s best to do one thing really, really well. Fast is better than slow. Democracy on the web works. You don’t need to be at your desk to need an answer. You can make money without doing evil. There’s always more information out there. The need for information crosses all borders. You can be serious without a suit. Great just isn’t good enough.'"
   ]
  },
  {
   "cell_type": "code",
   "execution_count": 21,
   "metadata": {},
   "outputs": [],
   "source": [
    "#https://www.google.com/about/philosophy.html\n",
    "#parse this"
   ]
  },
  {
   "cell_type": "markdown",
   "metadata": {},
   "source": [
    "https://www.cio.com/article/3004381/careers-staffing/7-tech-giants-share-their-core-values.html"
   ]
  },
  {
   "cell_type": "code",
   "execution_count": 4,
   "metadata": {},
   "outputs": [],
   "source": [
    "#apple\n",
    "\n",
    "apple_values = ['value simplicity and avoid complexity', 'saying no', 'selectivity', 'collaboration', 'simplicity', 'courage']"
   ]
  },
  {
   "cell_type": "code",
   "execution_count": 1,
   "metadata": {},
   "outputs": [],
   "source": [
    "#https://thinkmarketingmagazine.com/apple-core-values/\n",
    "\n",
    "#parse the bottom"
   ]
  },
  {
   "cell_type": "code",
   "execution_count": 5,
   "metadata": {},
   "outputs": [],
   "source": [
    "#google\n",
    "# https://www.thestreet.com/story/12328981/1/googles-project-oxygen-pumps-fresh-air-into-management.html - still need to reference\n",
    "\n",
    "google_values = ['empowerment', 'avoid micromanagement', 'selectivity', 'openness', 'democracy', 'fun', 'freedom']"
   ]
  },
  {
   "cell_type": "code",
   "execution_count": 6,
   "metadata": {},
   "outputs": [],
   "source": [
    "#amazon\n",
    "\n",
    "amazon_values = ['simplicity', 'ownership','courage','frugality','foster trust','think big', 'customer obsession']"
   ]
  },
  {
   "cell_type": "code",
   "execution_count": 22,
   "metadata": {},
   "outputs": [],
   "source": [
    "#amazon values \n",
    "#parse this\n",
    "#https://www.amazon.jobs/principles"
   ]
  },
  {
   "cell_type": "code",
   "execution_count": 7,
   "metadata": {},
   "outputs": [],
   "source": [
    "#schwab\n",
    "#https://aboutschwab.com/about\n",
    "\n",
    "schwab_values = ['trust','innovation', 'teamwork','stewards', 'ethical', 'proactive']"
   ]
  },
  {
   "cell_type": "code",
   "execution_count": 13,
   "metadata": {
    "scrolled": true
   },
   "outputs": [
    {
     "data": {
      "text/plain": [
       "'Serve our clients in an ethical, empathetic and proactive way. Innovate constantly to improve the client experience. Respect fellow employees and reinforce the power of teamwork. Be good stewards of the resources entrusted to us – client assets, our brand, and stockholder value. '"
      ]
     },
     "execution_count": 13,
     "metadata": {},
     "output_type": "execute_result"
    }
   ],
   "source": [
    "#schwab core values\n",
    "#https://markdhogan.wordpress.com/2013/04/19/the-charles-schwab-brand-is-built-on-purpose-and-innovation-for-individual-investors/\n",
    "\n",
    "'Serve our clients in an ethical, empathetic and proactive way. Innovate constantly to improve the client experience. Respect fellow employees and reinforce the power of teamwork. Be good stewards of the resources entrusted to us – client assets, our brand, and stockholder value. '"
   ]
  },
  {
   "cell_type": "code",
   "execution_count": 15,
   "metadata": {},
   "outputs": [
    {
     "data": {
      "text/plain": [
       "'Dell is committed to creating a diverse workforce and creating a positive, collaborative environment where everyone is valued and included. We’re committed to improving the work experience for all of our team members. That means giving them the tools and flexibility to achieve their very best.'"
      ]
     },
     "execution_count": 15,
     "metadata": {},
     "output_type": "execute_result"
    }
   ],
   "source": [
    "#Dell\n",
    "\n",
    "'Dell is committed to creating a diverse workforce and creating a positive, collaborative environment where everyone is valued and included. We’re committed to improving the work experience for all of our team members. That means giving them the tools and flexibility to achieve their very best.'"
   ]
  },
  {
   "cell_type": "code",
   "execution_count": 16,
   "metadata": {},
   "outputs": [],
   "source": [
    "dell_values = ['entreprenuerial spirit', 'integrity', 'open','transparent','ethical','flexible','collaboration']"
   ]
  }
 ],
 "metadata": {
  "kernelspec": {
   "display_name": "Python 3",
   "language": "python",
   "name": "python3"
  },
  "language_info": {
   "codemirror_mode": {
    "name": "ipython",
    "version": 3
   },
   "file_extension": ".py",
   "mimetype": "text/x-python",
   "name": "python",
   "nbconvert_exporter": "python",
   "pygments_lexer": "ipython3",
   "version": "3.6.5"
  }
 },
 "nbformat": 4,
 "nbformat_minor": 2
}
