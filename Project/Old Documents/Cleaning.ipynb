{
 "cells": [
  {
   "cell_type": "code",
   "execution_count": 1,
   "metadata": {},
   "outputs": [],
   "source": [
    "import pickle as pk"
   ]
  },
  {
   "cell_type": "code",
   "execution_count": 17,
   "metadata": {},
   "outputs": [
    {
     "data": {
      "text/plain": [
       "4679"
      ]
     },
     "execution_count": 17,
     "metadata": {},
     "output_type": "execute_result"
    }
   ],
   "source": [
    "filename = \"Scraper/star\"\n",
    "infile = open(filename,'rb')\n",
    "star_list = pk.load(infile)\n",
    "infile.close()\n",
    "star_list_2 = [x for x in star_list if len(x)>0]\n",
    "len(star_list_2)"
   ]
  },
  {
   "cell_type": "code",
   "execution_count": 18,
   "metadata": {},
   "outputs": [
    {
     "data": {
      "text/plain": [
       "4535"
      ]
     },
     "execution_count": 18,
     "metadata": {},
     "output_type": "execute_result"
    }
   ],
   "source": [
    "filename = \"Scraper/outlook\"\n",
    "infile = open(filename,'rb')\n",
    "outlook_list = pk.load(infile)\n",
    "infile.close()\n",
    "#star_list_2 = [x for x in star_list if len(x)>0]\n",
    "print(len(outlook_list))\n"
   ]
  },
  {
   "cell_type": "code",
   "execution_count": 14,
   "metadata": {},
   "outputs": [
    {
     "data": {
      "text/plain": [
       "5797"
      ]
     },
     "execution_count": 14,
     "metadata": {},
     "output_type": "execute_result"
    }
   ],
   "source": [
    "filename = \"Scraper/pros\"\n",
    "infile = open(filename,'rb')\n",
    "pros_list = pk.load(infile)\n",
    "infile.close()\n",
    "pros_list_2 = [y for x in pros_list for y in x]\n",
    "len(pros_list_2)\n",
    "#pros_list_2"
   ]
  },
  {
   "cell_type": "code",
   "execution_count": 15,
   "metadata": {},
   "outputs": [
    {
     "data": {
      "text/plain": [
       "5797"
      ]
     },
     "execution_count": 15,
     "metadata": {},
     "output_type": "execute_result"
    }
   ],
   "source": [
    "filename = \"Scraper/cons\"\n",
    "infile = open(filename,'rb')\n",
    "cons_list = pk.load(infile)\n",
    "infile.close()\n",
    "cons_list_2 = [y for x in cons_list for y in x]\n",
    "len(cons_list_2)\n",
    "#pros_list_2"
   ]
  },
  {
   "cell_type": "code",
   "execution_count": null,
   "metadata": {},
   "outputs": [],
   "source": [
    "filename = \"Scraper/cons\"\n",
    "infile = open(filename,'rb')\n",
    "cons_list = pk.load(infile)\n",
    "infile.close()\n",
    "cons_list_2 = [y for x in cons_list for y in x]\n",
    "len(cons_list_2)"
   ]
  }
 ],
 "metadata": {
  "kernelspec": {
   "display_name": "Python 3",
   "language": "python",
   "name": "python3"
  },
  "language_info": {
   "codemirror_mode": {
    "name": "ipython",
    "version": 3
   },
   "file_extension": ".py",
   "mimetype": "text/x-python",
   "name": "python",
   "nbconvert_exporter": "python",
   "pygments_lexer": "ipython3",
   "version": "3.6.6"
  }
 },
 "nbformat": 4,
 "nbformat_minor": 2
}
