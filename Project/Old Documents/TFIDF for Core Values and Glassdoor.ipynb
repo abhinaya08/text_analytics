{
 "cells": [
  {
   "cell_type": "code",
   "execution_count": 13,
   "metadata": {},
   "outputs": [],
   "source": [
    "google = tb(\"\"\"Focus on the user and all else will follow. It’s best to do one thing really, really well. Fast is better than slow. Democracy on the web works. You don’t need to be at your desk to need an answer. You can make money without doing evil. There’s always more information out there. The need for information crosses all borders. You can be serious without a suit. Great just isn’t good enough.\"\"\")"
   ]
  },
  {
   "cell_type": "code",
   "execution_count": 14,
   "metadata": {},
   "outputs": [],
   "source": [
    "amazon = tb(\"\"\"Customer Obsession\n",
    "\n",
    "Ownership \n",
    "\n",
    "Invent and Simplify\n",
    "\n",
    "Are Right, A Lot\n",
    "\n",
    "Learn and Be Curious\n",
    "\n",
    "Hire and Develop the Best\n",
    "\n",
    "Insist on the Highest Standards\n",
    "\n",
    "Think Big\n",
    "\n",
    "Bias for Action\n",
    "\n",
    "Frugality\n",
    "\n",
    "Earn Trust\n",
    "\n",
    "Dive Deep\n",
    "\n",
    "Have Backbone; Disagree and Commit\n",
    "\n",
    "Deliver Results\"\"\")"
   ]
  },
  {
   "cell_type": "code",
   "execution_count": 11,
   "metadata": {},
   "outputs": [],
   "source": [
    "schwab = tb(\"\"\"Serve our clients in an ethical, empathetic and proactive way. Innovate constantly to improve the client experience. Respect fellow employees and reinforce the power of teamwork. Be good stewards of the resources entrusted to us – client assets, our brand, and stockholder value.\"\"\")"
   ]
  },
  {
   "cell_type": "code",
   "execution_count": 3,
   "metadata": {},
   "outputs": [],
   "source": [
    "\n",
    "\n",
    "dell = tb(\"\"\"Dell is committed to creating a diverse workforce and creating a positive, collaborative environment where everyone is valued and included. We’re committed to improving the work experience for all of our team members. That means giving them the tools and flexibility to achieve their very best.\"\"\")\n",
    "\n",
    "apple = tb(\"\"\"We believe that we’re on the face of the Earth to make great products.\n",
    "We believe in the simple, not the complex.\n",
    "We believe that we need to own and control the primary technologies behind the products we make.\n",
    "We participate only in markets where we can make a significant contribution.\n",
    "We believe in saying no to thousands of projects so that we can really focus on the few that are truly important and meaningful to us.\n",
    "We believe in deep collaboration and cross-pollination of our groups, which allow us to innovate in a way that others cannot.\n",
    "We don’t settle for anything less than excellence in every group in the company, and we have the self-honesty to admit when we’re wrong and the courage to change.\"\"\")"
   ]
  },
  {
   "cell_type": "code",
   "execution_count": 15,
   "metadata": {
    "scrolled": true
   },
   "outputs": [
    {
     "name": "stdout",
     "output_type": "stream",
     "text": [
      "Top words in document 1\n",
      "Word: You, TF-IDF: 0.03436\n",
      "Word: The, TF-IDF: 0.03436\n",
      "Word: without, TF-IDF: 0.02291\n",
      "Word: There, TF-IDF: 0.02291\n",
      "Word: information, TF-IDF: 0.02291\n",
      "Word: there, TF-IDF: 0.02291\n",
      "Word: need, TF-IDF: 0.01916\n",
      "Top words in document 2\n",
      "Word: committed, TF-IDF: 0.03818\n",
      "Word: creating, TF-IDF: 0.03818\n",
      "Word: Dell, TF-IDF: 0.01909\n",
      "Word: diverse, TF-IDF: 0.01909\n",
      "Word: workforce, TF-IDF: 0.01909\n",
      "Word: positive, TF-IDF: 0.01909\n",
      "Word: collaborative, TF-IDF: 0.01909\n",
      "Top words in document 3\n",
      "Word: We, TF-IDF: 0.05337\n",
      "Word: believe, TF-IDF: 0.03419\n",
      "Word: that, TF-IDF: 0.03419\n",
      "Word: we, TF-IDF: 0.02331\n",
      "Word: products, TF-IDF: 0.01368\n",
      "Word: not, TF-IDF: 0.01368\n",
      "Word: make, TF-IDF: 0.01144\n",
      "Top words in document 4\n",
      "Word: Customer, TF-IDF: 0.02235\n",
      "Word: Obsession, TF-IDF: 0.02235\n",
      "Word: Ownership, TF-IDF: 0.02235\n",
      "Word: Invent, TF-IDF: 0.02235\n",
      "Word: Simplify, TF-IDF: 0.02235\n",
      "Word: Are, TF-IDF: 0.02235\n",
      "Word: Right, TF-IDF: 0.02235\n",
      "Top words in document 5\n",
      "Word: client, TF-IDF: 0.04262\n",
      "Word: Serve, TF-IDF: 0.02131\n",
      "Word: clients, TF-IDF: 0.02131\n",
      "Word: ethical, TF-IDF: 0.02131\n",
      "Word: empathetic, TF-IDF: 0.02131\n",
      "Word: proactive, TF-IDF: 0.02131\n",
      "Word: Innovate, TF-IDF: 0.02131\n"
     ]
    }
   ],
   "source": [
    "import math\n",
    "from textblob import TextBlob as tb\n",
    "from textblob.classifiers import NaiveBayesClassifier\n",
    "from textblob.taggers import NLTKTagger\n",
    "\n",
    "def tf(word, blob):\n",
    "    return blob.words.count(word) / len(blob.words)\n",
    "\n",
    "def n_containing(word, bloblist):\n",
    "    return sum(1 for blob in bloblist if word in blob)\n",
    "\n",
    "def idf(word, bloblist):\n",
    "    return math.log(len(bloblist) / (1 + n_containing(word, bloblist)))\n",
    "\n",
    "def tfidf(word, blob, bloblist):\n",
    "    return tf(word, blob) * idf(word, bloblist)\n",
    "\n",
    "bloblist = [google, dell, apple, amazon, schwab]\n",
    "for i, blob in enumerate(bloblist):\n",
    "    print(\"Top words in document {}\".format(i + 1))\n",
    "    scores = {word: tfidf(word, blob, bloblist) for word in blob.words}\n",
    "    sorted_words = sorted(scores.items(), key=lambda x: x[1], reverse=True)\n",
    "    for word, score in sorted_words[:7]:\n",
    "        print(\"Word: {}, TF-IDF: {}\".format(word, round(score, 5)))"
   ]
  },
  {
   "cell_type": "code",
   "execution_count": 5,
   "metadata": {},
   "outputs": [],
   "source": []
  }
 ],
 "metadata": {
  "kernelspec": {
   "display_name": "Python 3",
   "language": "python",
   "name": "python3"
  },
  "language_info": {
   "codemirror_mode": {
    "name": "ipython",
    "version": 3
   },
   "file_extension": ".py",
   "mimetype": "text/x-python",
   "name": "python",
   "nbconvert_exporter": "python",
   "pygments_lexer": "ipython3",
   "version": "3.6.5"
  }
 },
 "nbformat": 4,
 "nbformat_minor": 2
}
