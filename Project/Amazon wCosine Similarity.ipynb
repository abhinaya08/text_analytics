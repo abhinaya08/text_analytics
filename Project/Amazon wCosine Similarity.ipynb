{
 "cells": [
  {
   "cell_type": "markdown",
   "metadata": {},
   "source": [
    "# All libraries"
   ]
  },
  {
   "cell_type": "code",
   "execution_count": 1,
   "metadata": {},
   "outputs": [
    {
     "name": "stdout",
     "output_type": "stream",
     "text": [
      "Populating the interactive namespace from numpy and matplotlib\n"
     ]
    }
   ],
   "source": [
    "from pandas import Series, DataFrame\n",
    "import statsmodels.api as sm\n",
    "import pandas as pd\n",
    "import nltk\n",
    "import operator\n",
    "import re,string\n",
    "from patsy import dmatrices\n",
    "%pylab inline\n",
    "from nltk.corpus import stopwords\n",
    "from itertools import chain\n",
    "from collections import Counter\n",
    "import random\n",
    "from nltk.probability import FreqDist\n",
    "import matplotlib.pyplot as plt\n",
    "from nltk.stem import WordNetLemmatizer\n",
    "from nltk.tokenize import sent_tokenize, word_tokenize\n",
    "import warnings\n",
    "warnings.filterwarnings('ignore')\n",
    "from nltk.util import ngrams\n",
    "from sklearn.feature_extraction.text import TfidfVectorizer"
   ]
  },
  {
   "cell_type": "code",
   "execution_count": 2,
   "metadata": {},
   "outputs": [],
   "source": [
    "import pandas as pd"
   ]
  },
  {
   "cell_type": "code",
   "execution_count": 3,
   "metadata": {},
   "outputs": [],
   "source": [
    "df = pd.read_csv('amazon.csv', encoding = \"ISO-8859-1\")"
   ]
  },
  {
   "cell_type": "code",
   "execution_count": 4,
   "metadata": {},
   "outputs": [
    {
     "data": {
      "text/html": [
       "<div>\n",
       "<style scoped>\n",
       "    .dataframe tbody tr th:only-of-type {\n",
       "        vertical-align: middle;\n",
       "    }\n",
       "\n",
       "    .dataframe tbody tr th {\n",
       "        vertical-align: top;\n",
       "    }\n",
       "\n",
       "    .dataframe thead th {\n",
       "        text-align: right;\n",
       "    }\n",
       "</style>\n",
       "<table border=\"1\" class=\"dataframe\">\n",
       "  <thead>\n",
       "    <tr style=\"text-align: right;\">\n",
       "      <th></th>\n",
       "      <th>Title</th>\n",
       "      <th>Date Written</th>\n",
       "      <th>Rating</th>\n",
       "      <th>Current/Former</th>\n",
       "      <th>Job Title</th>\n",
       "      <th>Location</th>\n",
       "      <th>Recommendation?</th>\n",
       "      <th>Outlook</th>\n",
       "      <th>Main Text</th>\n",
       "      <th>Pros</th>\n",
       "      <th>Cons</th>\n",
       "      <th>Advice to management</th>\n",
       "    </tr>\n",
       "  </thead>\n",
       "  <tbody>\n",
       "    <tr>\n",
       "      <th>0</th>\n",
       "      <td>\"Account Manager\"</td>\n",
       "      <td>Sep 9, 2018</td>\n",
       "      <td>3.0</td>\n",
       "      <td>Former Employee</td>\n",
       "      <td>Anonymous Employee</td>\n",
       "      <td>NaN</td>\n",
       "      <td>Recommends</td>\n",
       "      <td>NaN</td>\n",
       "      <td>- Fun environment and excellent team</td>\n",
       "      <td>- Proactive scenario</td>\n",
       "      <td>Almost none opportunities to grow or to move t...</td>\n",
       "      <td>NaN</td>\n",
       "    </tr>\n",
       "    <tr>\n",
       "      <th>1</th>\n",
       "      <td>\"All the \"bad\" things you heard about Amazon i...</td>\n",
       "      <td>Sep 9, 2018</td>\n",
       "      <td>1.0</td>\n",
       "      <td>Former Employee</td>\n",
       "      <td>Software Developer</td>\n",
       "      <td>Seattle, WA</td>\n",
       "      <td>Doesn't Recommend</td>\n",
       "      <td>Negative Outlook</td>\n",
       "      <td>I worked at Amazon full-time (More than a year)</td>\n",
       "      <td>You get to work a LOT of hours.</td>\n",
       "      <td>Work life balance is extremely bad. Work here ...</td>\n",
       "      <td>Hopeless</td>\n",
       "    </tr>\n",
       "    <tr>\n",
       "      <th>2</th>\n",
       "      <td>\"Amazon is giving hard time to the employees\"</td>\n",
       "      <td>Sep 9, 2018</td>\n",
       "      <td>1.0</td>\n",
       "      <td>Current Employee</td>\n",
       "      <td>Fruad Prevention</td>\n",
       "      <td>Hyderabad (India)</td>\n",
       "      <td>Doesn't Recommend</td>\n",
       "      <td>Negative Outlook</td>\n",
       "      <td>Becoming worst day by day</td>\n",
       "      <td>All I can say is Amazon has been changed drast...</td>\n",
       "      <td>Working at Amazon is the con</td>\n",
       "      <td>NaN</td>\n",
       "    </tr>\n",
       "    <tr>\n",
       "      <th>3</th>\n",
       "      <td>\"Amazon Warehouse Operative\"</td>\n",
       "      <td>Sep 9, 2018</td>\n",
       "      <td>1.0</td>\n",
       "      <td>Current Employee</td>\n",
       "      <td>Anonymous Employee</td>\n",
       "      <td>NaN</td>\n",
       "      <td>Doesn't Recommend</td>\n",
       "      <td>Negative Outlook</td>\n",
       "      <td>I have been working at Amazon full-time</td>\n",
       "      <td>Weekly pay was a plus</td>\n",
       "      <td>Treated as a number, long hours and no flexibi...</td>\n",
       "      <td>Treat staff equal</td>\n",
       "    </tr>\n",
       "    <tr>\n",
       "      <th>4</th>\n",
       "      <td>\"Amazon was the easiest job and I was surround...</td>\n",
       "      <td>Sep 9, 2018</td>\n",
       "      <td>5.0</td>\n",
       "      <td>Former Employee</td>\n",
       "      <td>Associate</td>\n",
       "      <td>Essex, MD</td>\n",
       "      <td>Recommends</td>\n",
       "      <td>Positive Outlook</td>\n",
       "      <td>I worked at Amazon full-time (Less than a year)</td>\n",
       "      <td>Fun, easy, positive energy, surrounded by cool...</td>\n",
       "      <td>Long hours but youâll get used to it</td>\n",
       "      <td>NaN</td>\n",
       "    </tr>\n",
       "  </tbody>\n",
       "</table>\n",
       "</div>"
      ],
      "text/plain": [
       "                                               Title Date Written  Rating  \\\n",
       "0                                  \"Account Manager\"  Sep 9, 2018     3.0   \n",
       "1  \"All the \"bad\" things you heard about Amazon i...  Sep 9, 2018     1.0   \n",
       "2      \"Amazon is giving hard time to the employees\"  Sep 9, 2018     1.0   \n",
       "3                       \"Amazon Warehouse Operative\"  Sep 9, 2018     1.0   \n",
       "4  \"Amazon was the easiest job and I was surround...  Sep 9, 2018     5.0   \n",
       "\n",
       "     Current/Former           Job Title           Location    Recommendation?  \\\n",
       "0   Former Employee  Anonymous Employee                NaN         Recommends   \n",
       "1   Former Employee  Software Developer        Seattle, WA  Doesn't Recommend   \n",
       "2  Current Employee    Fruad Prevention  Hyderabad (India)  Doesn't Recommend   \n",
       "3  Current Employee  Anonymous Employee                NaN  Doesn't Recommend   \n",
       "4   Former Employee           Associate          Essex, MD         Recommends   \n",
       "\n",
       "            Outlook                                        Main Text  \\\n",
       "0               NaN             - Fun environment and excellent team   \n",
       "1  Negative Outlook  I worked at Amazon full-time (More than a year)   \n",
       "2  Negative Outlook                        Becoming worst day by day   \n",
       "3  Negative Outlook          I have been working at Amazon full-time   \n",
       "4  Positive Outlook  I worked at Amazon full-time (Less than a year)   \n",
       "\n",
       "                                                Pros  \\\n",
       "0                               - Proactive scenario   \n",
       "1                    You get to work a LOT of hours.   \n",
       "2  All I can say is Amazon has been changed drast...   \n",
       "3                              Weekly pay was a plus   \n",
       "4  Fun, easy, positive energy, surrounded by cool...   \n",
       "\n",
       "                                                Cons Advice to management  \n",
       "0  Almost none opportunities to grow or to move t...                  NaN  \n",
       "1  Work life balance is extremely bad. Work here ...             Hopeless  \n",
       "2                       Working at Amazon is the con                  NaN  \n",
       "3  Treated as a number, long hours and no flexibi...    Treat staff equal  \n",
       "4             Long hours but youâll get used to it                  NaN  "
      ]
     },
     "execution_count": 4,
     "metadata": {},
     "output_type": "execute_result"
    }
   ],
   "source": [
    "df.head()"
   ]
  },
  {
   "cell_type": "code",
   "execution_count": 5,
   "metadata": {},
   "outputs": [
    {
     "data": {
      "text/plain": [
       "(25056, 12)"
      ]
     },
     "execution_count": 5,
     "metadata": {},
     "output_type": "execute_result"
    }
   ],
   "source": [
    "df.shape"
   ]
  },
  {
   "cell_type": "markdown",
   "metadata": {},
   "source": [
    "# Analysis of Pros and Cons"
   ]
  },
  {
   "cell_type": "code",
   "execution_count": 6,
   "metadata": {},
   "outputs": [],
   "source": [
    "pros = df['Pros'].astype(str)\n",
    "cons = df['Cons'].astype(str)"
   ]
  },
  {
   "cell_type": "code",
   "execution_count": 7,
   "metadata": {},
   "outputs": [],
   "source": [
    "#clean punctuation and white spaces\n",
    "pros_clean = pros.apply(lambda x:re.sub(r'[^\\w\\s]', ' ', x.lower()))\n",
    "pros_clean = pros_clean.apply(lambda x:re.sub(r'(\\\\n+)', ' ', x))\n",
    "pros_clean = pros_clean.apply(lambda x:re.sub(r'^b[\\'\\\"\\'\"\\\"''\\s]', '', x.lower()))\n",
    "pros_clean = pros_clean.apply(lambda x:re.sub(r'\\s+', ' ', x))"
   ]
  },
  {
   "cell_type": "code",
   "execution_count": 8,
   "metadata": {},
   "outputs": [],
   "source": [
    "#tokenizing and removing stop words\n",
    "stop = set(stopwords.words('english'))\n",
    "punc = string.punctuation\n",
    "pros_clean = pros_clean.apply(lambda x: [word for word in word_tokenize(x) if word not in stop])\n",
    "pros_clean = pros_clean.apply(lambda x: [word for word in x if word not in punc])"
   ]
  },
  {
   "cell_type": "code",
   "execution_count": 9,
   "metadata": {},
   "outputs": [],
   "source": [
    "#getting frequency distribution\n",
    "all_pros = pros_clean.sum()"
   ]
  },
  {
   "cell_type": "code",
   "execution_count": 10,
   "metadata": {},
   "outputs": [],
   "source": [
    "pros_dist = nltk.FreqDist(all_pros)\n",
    "pros_dict = pd.DataFrame.from_dict(pros_dist,orient='index').reset_index()\n",
    "pros_dict.columns = ['word','frequency']"
   ]
  },
  {
   "cell_type": "code",
   "execution_count": 11,
   "metadata": {},
   "outputs": [
    {
     "data": {
      "text/html": [
       "<div>\n",
       "<style scoped>\n",
       "    .dataframe tbody tr th:only-of-type {\n",
       "        vertical-align: middle;\n",
       "    }\n",
       "\n",
       "    .dataframe tbody tr th {\n",
       "        vertical-align: top;\n",
       "    }\n",
       "\n",
       "    .dataframe thead th {\n",
       "        text-align: right;\n",
       "    }\n",
       "</style>\n",
       "<table border=\"1\" class=\"dataframe\">\n",
       "  <thead>\n",
       "    <tr style=\"text-align: right;\">\n",
       "      <th></th>\n",
       "      <th>word</th>\n",
       "      <th>frequency</th>\n",
       "    </tr>\n",
       "  </thead>\n",
       "  <tbody>\n",
       "    <tr>\n",
       "      <th>0</th>\n",
       "      <td>proactive</td>\n",
       "      <td>12</td>\n",
       "    </tr>\n",
       "    <tr>\n",
       "      <th>1</th>\n",
       "      <td>scenario</td>\n",
       "      <td>2</td>\n",
       "    </tr>\n",
       "    <tr>\n",
       "      <th>2</th>\n",
       "      <td>get</td>\n",
       "      <td>1890</td>\n",
       "    </tr>\n",
       "    <tr>\n",
       "      <th>3</th>\n",
       "      <td>work</td>\n",
       "      <td>9076</td>\n",
       "    </tr>\n",
       "    <tr>\n",
       "      <th>4</th>\n",
       "      <td>lot</td>\n",
       "      <td>1769</td>\n",
       "    </tr>\n",
       "  </tbody>\n",
       "</table>\n",
       "</div>"
      ],
      "text/plain": [
       "        word  frequency\n",
       "0  proactive         12\n",
       "1   scenario          2\n",
       "2        get       1890\n",
       "3       work       9076\n",
       "4        lot       1769"
      ]
     },
     "execution_count": 11,
     "metadata": {},
     "output_type": "execute_result"
    }
   ],
   "source": [
    "pros_dict.head()"
   ]
  },
  {
   "cell_type": "code",
   "execution_count": 12,
   "metadata": {},
   "outputs": [
    {
     "data": {
      "text/plain": [
       "pandas.core.frame.DataFrame"
      ]
     },
     "execution_count": 12,
     "metadata": {},
     "output_type": "execute_result"
    }
   ],
   "source": [
    "type(pros_dict)"
   ]
  },
  {
   "cell_type": "code",
   "execution_count": 13,
   "metadata": {},
   "outputs": [
    {
     "data": {
      "text/html": [
       "<div>\n",
       "<style scoped>\n",
       "    .dataframe tbody tr th:only-of-type {\n",
       "        vertical-align: middle;\n",
       "    }\n",
       "\n",
       "    .dataframe tbody tr th {\n",
       "        vertical-align: top;\n",
       "    }\n",
       "\n",
       "    .dataframe thead th {\n",
       "        text-align: right;\n",
       "    }\n",
       "</style>\n",
       "<table border=\"1\" class=\"dataframe\">\n",
       "  <thead>\n",
       "    <tr style=\"text-align: right;\">\n",
       "      <th></th>\n",
       "      <th>word</th>\n",
       "      <th>frequency</th>\n",
       "    </tr>\n",
       "  </thead>\n",
       "  <tbody>\n",
       "    <tr>\n",
       "      <th>3</th>\n",
       "      <td>work</td>\n",
       "      <td>9076</td>\n",
       "    </tr>\n",
       "    <tr>\n",
       "      <th>35</th>\n",
       "      <td>good</td>\n",
       "      <td>6784</td>\n",
       "    </tr>\n",
       "    <tr>\n",
       "      <th>41</th>\n",
       "      <td>great</td>\n",
       "      <td>5853</td>\n",
       "    </tr>\n",
       "    <tr>\n",
       "      <th>27</th>\n",
       "      <td>people</td>\n",
       "      <td>3794</td>\n",
       "    </tr>\n",
       "    <tr>\n",
       "      <th>114</th>\n",
       "      <td>benefits</td>\n",
       "      <td>3436</td>\n",
       "    </tr>\n",
       "    <tr>\n",
       "      <th>19</th>\n",
       "      <td>pay</td>\n",
       "      <td>3333</td>\n",
       "    </tr>\n",
       "    <tr>\n",
       "      <th>45</th>\n",
       "      <td>company</td>\n",
       "      <td>3190</td>\n",
       "    </tr>\n",
       "    <tr>\n",
       "      <th>7</th>\n",
       "      <td>amazon</td>\n",
       "      <td>3036</td>\n",
       "    </tr>\n",
       "    <tr>\n",
       "      <th>36</th>\n",
       "      <td>environment</td>\n",
       "      <td>2531</td>\n",
       "    </tr>\n",
       "    <tr>\n",
       "      <th>96</th>\n",
       "      <td>time</td>\n",
       "      <td>1931</td>\n",
       "    </tr>\n",
       "    <tr>\n",
       "      <th>2</th>\n",
       "      <td>get</td>\n",
       "      <td>1890</td>\n",
       "    </tr>\n",
       "    <tr>\n",
       "      <th>84</th>\n",
       "      <td>working</td>\n",
       "      <td>1794</td>\n",
       "    </tr>\n",
       "    <tr>\n",
       "      <th>4</th>\n",
       "      <td>lot</td>\n",
       "      <td>1769</td>\n",
       "    </tr>\n",
       "    <tr>\n",
       "      <th>150</th>\n",
       "      <td>place</td>\n",
       "      <td>1739</td>\n",
       "    </tr>\n",
       "    <tr>\n",
       "      <th>33</th>\n",
       "      <td>learn</td>\n",
       "      <td>1696</td>\n",
       "    </tr>\n",
       "    <tr>\n",
       "      <th>73</th>\n",
       "      <td>culture</td>\n",
       "      <td>1687</td>\n",
       "    </tr>\n",
       "    <tr>\n",
       "      <th>160</th>\n",
       "      <td>opportunities</td>\n",
       "      <td>1621</td>\n",
       "    </tr>\n",
       "    <tr>\n",
       "      <th>83</th>\n",
       "      <td>job</td>\n",
       "      <td>1484</td>\n",
       "    </tr>\n",
       "    <tr>\n",
       "      <th>82</th>\n",
       "      <td>fast</td>\n",
       "      <td>1484</td>\n",
       "    </tr>\n",
       "    <tr>\n",
       "      <th>270</th>\n",
       "      <td>smart</td>\n",
       "      <td>1339</td>\n",
       "    </tr>\n",
       "  </tbody>\n",
       "</table>\n",
       "</div>"
      ],
      "text/plain": [
       "              word  frequency\n",
       "3             work       9076\n",
       "35            good       6784\n",
       "41           great       5853\n",
       "27          people       3794\n",
       "114       benefits       3436\n",
       "19             pay       3333\n",
       "45         company       3190\n",
       "7           amazon       3036\n",
       "36     environment       2531\n",
       "96            time       1931\n",
       "2              get       1890\n",
       "84         working       1794\n",
       "4              lot       1769\n",
       "150          place       1739\n",
       "33           learn       1696\n",
       "73         culture       1687\n",
       "160  opportunities       1621\n",
       "83             job       1484\n",
       "82            fast       1484\n",
       "270          smart       1339"
      ]
     },
     "execution_count": 13,
     "metadata": {},
     "output_type": "execute_result"
    }
   ],
   "source": [
    "pros_dict.sort_values(by='frequency', ascending=0)[:20]"
   ]
  },
  {
   "cell_type": "markdown",
   "metadata": {},
   "source": [
    "# Bigrams"
   ]
  },
  {
   "cell_type": "code",
   "execution_count": 14,
   "metadata": {},
   "outputs": [
    {
     "name": "stdout",
     "output_type": "stream",
     "text": [
      "[(('place', 'work'), 855), (('smart', 'people'), 836), (('good', 'pay'), 762), (('fast', 'paced'), 755), (('great', 'benefits'), 697), (('work', 'environment'), 696), (('work', 'culture'), 623), (('good', 'benefits'), 590), (('good', 'work'), 504), (('great', 'place'), 492), (('people', 'work'), 413), (('pay', 'good'), 395), (('work', 'life'), 386), (('learn', 'lot'), 376), (('great', 'pay'), 371), (('great', 'people'), 357), (('life', 'balance'), 352), (('company', 'work'), 332), (('decent', 'pay'), 320), (('co', 'workers'), 320)]\n"
     ]
    }
   ],
   "source": [
    "pro_bigrams = ngrams(all_pros, 2)\n",
    "print(Counter(pro_bigrams).most_common(20))"
   ]
  },
  {
   "cell_type": "code",
   "execution_count": 15,
   "metadata": {},
   "outputs": [
    {
     "name": "stdout",
     "output_type": "stream",
     "text": [
      "[(('work', 'life', 'balance'), 344), (('great', 'place', 'work'), 282), (('fast', 'paced', 'environment'), 182), (('good', 'place', 'work'), 143), (('good', 'work', 'culture'), 124), (('great', 'company', 'work'), 121), (('good', 'work', 'environment'), 111), (('work', 'smart', 'people'), 106), (('good', 'pay', 'good'), 101), (('great', 'work', 'environment'), 96), (('day', 'work', 'week'), 93), (('good', 'work', 'life'), 92), (('4', 'day', 'work'), 90), (('great', 'people', 'work'), 90), (('best', 'place', 'work'), 89), (('good', 'working', 'environment'), 83), (('really', 'smart', 'people'), 83), (('good', 'pay', 'benefits'), 80), (('great', 'place', 'learn'), 76), (('pay', 'good', 'benefits'), 75)]\n"
     ]
    }
   ],
   "source": [
    "pro_trigrams = ngrams(all_pros, 3)\n",
    "print(Counter(pro_trigrams).most_common(20))"
   ]
  },
  {
   "cell_type": "markdown",
   "metadata": {},
   "source": [
    "# Let's look at cons"
   ]
  },
  {
   "cell_type": "code",
   "execution_count": 16,
   "metadata": {},
   "outputs": [],
   "source": [
    "cons_clean = cons.apply(lambda x:re.sub(r'[^\\w\\s]', ' ', x.lower()))\n",
    "cons_clean = cons_clean.apply(lambda x:re.sub(r'(\\\\n+)', ' ', x))\n",
    "cons_clean = cons_clean.apply(lambda x:re.sub(r'^b[\\'\\\"\\'\"\\\"''\\s]', '', x.lower()))\n",
    "cons_clean = cons_clean.apply(lambda x:re.sub(r'\\s+', ' ', x))\n",
    "\n",
    "#tokenizing and removing stop words\n",
    "stop = set(stopwords.words('english'))\n",
    "punc = string.punctuation\n",
    "cons_clean = cons_clean.apply(lambda x: [word for word in word_tokenize(x) if word not in stop])\n",
    "cons_clean = cons_clean.apply(lambda x: [word for word in x if word not in punc])\n",
    "\n",
    "#getting frequency distribution\n",
    "all_cons = cons_clean.sum()"
   ]
  },
  {
   "cell_type": "code",
   "execution_count": 17,
   "metadata": {},
   "outputs": [],
   "source": [
    "cons_dist = nltk.FreqDist(all_cons)\n",
    "cons_dict = pd.DataFrame.from_dict(cons_dist,orient='index').reset_index()\n",
    "cons_dict.columns = ['word','frequency']"
   ]
  },
  {
   "cell_type": "code",
   "execution_count": 18,
   "metadata": {},
   "outputs": [
    {
     "data": {
      "text/html": [
       "<div>\n",
       "<style scoped>\n",
       "    .dataframe tbody tr th:only-of-type {\n",
       "        vertical-align: middle;\n",
       "    }\n",
       "\n",
       "    .dataframe tbody tr th {\n",
       "        vertical-align: top;\n",
       "    }\n",
       "\n",
       "    .dataframe thead th {\n",
       "        text-align: right;\n",
       "    }\n",
       "</style>\n",
       "<table border=\"1\" class=\"dataframe\">\n",
       "  <thead>\n",
       "    <tr style=\"text-align: right;\">\n",
       "      <th></th>\n",
       "      <th>word</th>\n",
       "      <th>frequency</th>\n",
       "    </tr>\n",
       "  </thead>\n",
       "  <tbody>\n",
       "    <tr>\n",
       "      <th>7</th>\n",
       "      <td>work</td>\n",
       "      <td>8247</td>\n",
       "    </tr>\n",
       "    <tr>\n",
       "      <th>28</th>\n",
       "      <td>hours</td>\n",
       "      <td>2972</td>\n",
       "    </tr>\n",
       "    <tr>\n",
       "      <th>80</th>\n",
       "      <td>management</td>\n",
       "      <td>2703</td>\n",
       "    </tr>\n",
       "    <tr>\n",
       "      <th>8</th>\n",
       "      <td>life</td>\n",
       "      <td>2597</td>\n",
       "    </tr>\n",
       "    <tr>\n",
       "      <th>50</th>\n",
       "      <td>time</td>\n",
       "      <td>2427</td>\n",
       "    </tr>\n",
       "    <tr>\n",
       "      <th>31</th>\n",
       "      <td>get</td>\n",
       "      <td>2423</td>\n",
       "    </tr>\n",
       "    <tr>\n",
       "      <th>9</th>\n",
       "      <td>balance</td>\n",
       "      <td>2206</td>\n",
       "    </tr>\n",
       "    <tr>\n",
       "      <th>27</th>\n",
       "      <td>long</td>\n",
       "      <td>2176</td>\n",
       "    </tr>\n",
       "    <tr>\n",
       "      <th>19</th>\n",
       "      <td>amazon</td>\n",
       "      <td>2106</td>\n",
       "    </tr>\n",
       "    <tr>\n",
       "      <th>99</th>\n",
       "      <td>people</td>\n",
       "      <td>2105</td>\n",
       "    </tr>\n",
       "    <tr>\n",
       "      <th>291</th>\n",
       "      <td>company</td>\n",
       "      <td>2035</td>\n",
       "    </tr>\n",
       "    <tr>\n",
       "      <th>239</th>\n",
       "      <td>hard</td>\n",
       "      <td>1612</td>\n",
       "    </tr>\n",
       "    <tr>\n",
       "      <th>138</th>\n",
       "      <td>employees</td>\n",
       "      <td>1590</td>\n",
       "    </tr>\n",
       "    <tr>\n",
       "      <th>57</th>\n",
       "      <td>much</td>\n",
       "      <td>1502</td>\n",
       "    </tr>\n",
       "    <tr>\n",
       "      <th>86</th>\n",
       "      <td>job</td>\n",
       "      <td>1491</td>\n",
       "    </tr>\n",
       "    <tr>\n",
       "      <th>226</th>\n",
       "      <td>like</td>\n",
       "      <td>1477</td>\n",
       "    </tr>\n",
       "    <tr>\n",
       "      <th>23</th>\n",
       "      <td>working</td>\n",
       "      <td>1462</td>\n",
       "    </tr>\n",
       "    <tr>\n",
       "      <th>241</th>\n",
       "      <td>lot</td>\n",
       "      <td>1378</td>\n",
       "    </tr>\n",
       "    <tr>\n",
       "      <th>363</th>\n",
       "      <td>pay</td>\n",
       "      <td>1322</td>\n",
       "    </tr>\n",
       "    <tr>\n",
       "      <th>35</th>\n",
       "      <td>managers</td>\n",
       "      <td>1301</td>\n",
       "    </tr>\n",
       "  </tbody>\n",
       "</table>\n",
       "</div>"
      ],
      "text/plain": [
       "           word  frequency\n",
       "7          work       8247\n",
       "28        hours       2972\n",
       "80   management       2703\n",
       "8          life       2597\n",
       "50         time       2427\n",
       "31          get       2423\n",
       "9       balance       2206\n",
       "27         long       2176\n",
       "19       amazon       2106\n",
       "99       people       2105\n",
       "291     company       2035\n",
       "239        hard       1612\n",
       "138   employees       1590\n",
       "57         much       1502\n",
       "86          job       1491\n",
       "226        like       1477\n",
       "23      working       1462\n",
       "241         lot       1378\n",
       "363         pay       1322\n",
       "35     managers       1301"
      ]
     },
     "execution_count": 18,
     "metadata": {},
     "output_type": "execute_result"
    }
   ],
   "source": [
    "cons_dict.sort_values(by='frequency', ascending=0)[:20]"
   ]
  },
  {
   "cell_type": "code",
   "execution_count": 19,
   "metadata": {},
   "outputs": [
    {
     "name": "stdout",
     "output_type": "stream",
     "text": [
      "[(('work', 'life'), 2106), (('life', 'balance'), 2043), (('long', 'hours'), 1100), (('hard', 'work'), 301), (('work', 'hard'), 257), (('fast', 'paced'), 217), (('mandatory', 'overtime'), 204), (('work', 'environment'), 198), (('short', 'breaks'), 189), (('10', 'hours'), 186), (('peak', 'season'), 173), (('place', 'work'), 168), (('low', 'pay'), 160), (('much', 'work'), 157), (('work', 'pressure'), 157), (('10', 'hour'), 150), (('working', 'amazon'), 145), (('working', 'hours'), 143), (('work', 'load'), 142), (('work', 'long'), 141)]\n"
     ]
    }
   ],
   "source": [
    "con_bigrams = ngrams(all_cons, 2)\n",
    "print(Counter(con_bigrams).most_common(20))"
   ]
  },
  {
   "cell_type": "code",
   "execution_count": 20,
   "metadata": {},
   "outputs": [
    {
     "name": "stdout",
     "output_type": "stream",
     "text": [
      "[(('work', 'life', 'balance'), 2003), (('poor', 'work', 'life'), 109), (('work', 'long', 'hours'), 100), (('life', 'balance', 'work'), 72), (('long', 'working', 'hours'), 70), (('10', 'hour', 'shifts'), 68), (('bad', 'work', 'life'), 68), (('long', 'hours', 'work'), 65), (('â', 'work', 'life'), 52), (('long', 'hours', 'short'), 49), (('balance', 'work', 'life'), 46), (('10', 'hours', 'day'), 46), (('work', 'work', 'life'), 45), (('hours', 'short', 'breaks'), 44), (('good', 'work', 'life'), 44), (('great', 'place', 'work'), 42), (('none', 'none', 'none'), 42), (('life', 'balance', 'good'), 41), (('hours', 'work', 'life'), 41), (('long', 'work', 'hours'), 39)]\n"
     ]
    }
   ],
   "source": [
    "con_trigrams = ngrams(all_cons, 3)\n",
    "print(Counter(con_trigrams).most_common(20))"
   ]
  },
  {
   "cell_type": "code",
   "execution_count": 21,
   "metadata": {},
   "outputs": [],
   "source": [
    "from gensim.models.tfidfmodel import TfidfModel\n",
    "import gensim"
   ]
  },
  {
   "cell_type": "markdown",
   "metadata": {},
   "source": [
    "# Let's combine both pros and cons into a column "
   ]
  },
  {
   "cell_type": "code",
   "execution_count": 24,
   "metadata": {},
   "outputs": [],
   "source": [
    "pnc = df['Pros_Cons']"
   ]
  },
  {
   "cell_type": "code",
   "execution_count": 25,
   "metadata": {},
   "outputs": [],
   "source": [
    "core_values = \"\"\"Customer Obsession. Leaders start with the customer and work backwards. They work vigorously to earn and keep customer trust. Although leaders pay attention to competitors, they obsess over customers. Ownership\n",
    "Leaders are owners. They think long term and don’t sacrifice long-term value for short-term results. They act on behalf of the entire company, beyond just their own team. They never say that’s not my job. \n",
    "\n",
    "Invent and Simplify\n",
    "Leaders expect and require innovation and invention from their teams and always find ways to simplify. They are externally aware, look for new ideas from everywhere, and are not limited by “not invented here\". As we do new things, we accept that we may be misunderstood for long periods of time.\n",
    "\n",
    "Are Right, A Lot\n",
    "Leaders are right a lot. They have strong judgment and good instincts. They seek diverse perspectives and work to disconfirm their beliefs.\n",
    "\n",
    "Learn and Be Curious\n",
    "Leaders are never done learning and always seek to improve themselves. They are curious about new possibilities and act to explore them.\n",
    "\n",
    "Hire and Develop the Best\n",
    "Leaders raise the performance bar with every hire and promotion. They recognize exceptional talent, and willingly move them throughout the organization. Leaders develop leaders and take seriously their role in coaching others. We work on behalf of our people to invent mechanisms for development like Career Choice.\n",
    "\n",
    "Insist on the Highest Standards\n",
    "Leaders have relentlessly high standards - many people may think these standards are unreasonably high. Leaders are continually raising the bar and drive their teams to deliver high quality products, services and processes. Leaders ensure that defects do not get sent down the line and that problems are fixed so they stay fixed.\n",
    "\n",
    "Think Big\n",
    "Thinking small is a self-fulfilling prophecy. Leaders create and communicate a bold direction that inspires results. They think differently and look around corners for ways to serve customers.\n",
    "\n",
    "Bias for Action\n",
    "Speed matters in business. Many decisions and actions are reversible and do not need extensive study. We value calculated risk taking. \n",
    "\n",
    "Frugality\n",
    "Accomplish more with less. Constraints breed resourcefulness, self-sufficiency and invention. There are no extra points for growing headcount, budget size or fixed expense.\n",
    "\n",
    "Earn Trust\n",
    "Leaders listen attentively, speak candidly, and treat others respectfully. They are vocally self-critical, even when doing so is awkward or embarrassing. Leaders do not believe their or their team’s body odor smells of perfume. They benchmark themselves and their teams against the best.\n",
    "\n",
    "Dive Deep\n",
    "Leaders operate at all levels, stay connected to the details, audit frequently, and are skeptical when metrics and anecdote differ. No task is beneath them.\n",
    "\n",
    "Have Backbone; Disagree and Commit\n",
    "Leaders are obligated to respectfully challenge decisions when they disagree, even when doing so is uncomfortable or exhausting. Leaders have conviction and are tenacious. They do not compromise for the sake of social cohesion. Once a decision is determined, they commit wholly.\n",
    "\n",
    "Deliver Results\n",
    "Leaders focus on the key inputs for their business and deliver them with the right quality and in a timely fashion. Despite setbacks, they rise to the occasion and never settle.\"\"\""
   ]
  },
  {
   "cell_type": "code",
   "execution_count": 26,
   "metadata": {},
   "outputs": [],
   "source": [
    "import nltk, string\n",
    "from sklearn.feature_extraction.text import TfidfVectorizer\n",
    "\n",
    "\n",
    "stemmer = nltk.stem.porter.PorterStemmer()\n",
    "remove_punctuation_map = dict((ord(char), None) for char in string.punctuation)\n",
    "\n",
    "def stem_tokens(tokens):\n",
    "    return [stemmer.stem(item) for item in tokens]\n",
    "\n",
    "'''remove punctuation, lowercase, stem'''\n",
    "def normalize(text):\n",
    "    return stem_tokens(nltk.word_tokenize(text.lower().translate(remove_punctuation_map)))\n",
    "\n",
    "vectorizer = TfidfVectorizer(tokenizer=normalize, stop_words='english')\n",
    "\n",
    "def cosine_sim(text1, text2):\n",
    "    tfidf = vectorizer.fit_transform([text1, text2])\n",
    "    return ((tfidf * tfidf.T).A)[0,1]\n",
    "\n"
   ]
  },
  {
   "cell_type": "code",
   "execution_count": 27,
   "metadata": {},
   "outputs": [
    {
     "data": {
      "text/plain": [
       "list"
      ]
     },
     "execution_count": 27,
     "metadata": {},
     "output_type": "execute_result"
    }
   ],
   "source": [
    "type(pros_clean.sum())"
   ]
  },
  {
   "cell_type": "code",
   "execution_count": 28,
   "metadata": {},
   "outputs": [],
   "source": [
    "pros_str = ' '.join(pros_clean.sum())"
   ]
  },
  {
   "cell_type": "code",
   "execution_count": 29,
   "metadata": {},
   "outputs": [
    {
     "data": {
      "text/plain": [
       "0.21553968492444436"
      ]
     },
     "execution_count": 29,
     "metadata": {},
     "output_type": "execute_result"
    }
   ],
   "source": [
    "cosine_sim(pros_str, core_values)"
   ]
  },
  {
   "cell_type": "code",
   "execution_count": 30,
   "metadata": {},
   "outputs": [],
   "source": [
    "list_pros_cons = all_pros + all_cons "
   ]
  },
  {
   "cell_type": "code",
   "execution_count": 31,
   "metadata": {},
   "outputs": [],
   "source": [
    "all_str = ' '.join(list_pros_cons)"
   ]
  },
  {
   "cell_type": "code",
   "execution_count": 32,
   "metadata": {},
   "outputs": [
    {
     "data": {
      "text/plain": [
       "0.23666609349546605"
      ]
     },
     "execution_count": 32,
     "metadata": {},
     "output_type": "execute_result"
    }
   ],
   "source": [
    "cosine_sim(all_str, core_values)"
   ]
  },
  {
   "cell_type": "code",
   "execution_count": 33,
   "metadata": {},
   "outputs": [
    {
     "data": {
      "text/plain": [
       "0.9999999999999998"
      ]
     },
     "execution_count": 33,
     "metadata": {},
     "output_type": "execute_result"
    }
   ],
   "source": [
    "cosine_sim('a little bird', 'a little bird')"
   ]
  }
 ],
 "metadata": {
  "kernelspec": {
   "display_name": "Python 3",
   "language": "python",
   "name": "python3"
  },
  "language_info": {
   "codemirror_mode": {
    "name": "ipython",
    "version": 3
   },
   "file_extension": ".py",
   "mimetype": "text/x-python",
   "name": "python",
   "nbconvert_exporter": "python",
   "pygments_lexer": "ipython3",
   "version": "3.6.5"
  }
 },
 "nbformat": 4,
 "nbformat_minor": 2
}
