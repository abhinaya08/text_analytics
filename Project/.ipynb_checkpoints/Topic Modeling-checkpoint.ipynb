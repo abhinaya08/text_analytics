{
 "cells": [
  {
   "cell_type": "code",
   "execution_count": 4,
   "metadata": {},
   "outputs": [],
   "source": [
    "import statsmodels.api as sm\n",
    "import pandas as pd\n",
    "import re,string\n",
    "import nltk\n",
    "from patsy import dmatrices\n",
    "from nltk.corpus import stopwords\n",
    "from nltk.probability import FreqDist\n",
    "from nltk.stem import WordNetLemmatizer\n",
    "from nltk.corpus import wordnet\n",
    "from nltk.tokenize import sent_tokenize, word_tokenize\n",
    "import matplotlib.pyplot as plt\n",
    "import warnings\n",
    "%pylab inline\n",
    "import numpy as np\n",
    "from sklearn.manifold import MDS\n",
    "from sklearn.metrics import euclidean_distances\n",
    "import spacy\n"
   ]
  },
  {
   "cell_type": "markdown",
   "metadata": {},
   "source": [
    "## starting with Amazon"
   ]
  },
  {
   "cell_type": "code",
   "execution_count": 9,
   "metadata": {},
   "outputs": [],
   "source": [
    "df_amazon = pd.read_csv('Scraper/amazon.csv', encoding=\"iso-8859-1\")"
   ]
  },
  {
   "cell_type": "code",
   "execution_count": 10,
   "metadata": {},
   "outputs": [
    {
     "data": {
      "text/html": [
       "<div>\n",
       "<style scoped>\n",
       "    .dataframe tbody tr th:only-of-type {\n",
       "        vertical-align: middle;\n",
       "    }\n",
       "\n",
       "    .dataframe tbody tr th {\n",
       "        vertical-align: top;\n",
       "    }\n",
       "\n",
       "    .dataframe thead th {\n",
       "        text-align: right;\n",
       "    }\n",
       "</style>\n",
       "<table border=\"1\" class=\"dataframe\">\n",
       "  <thead>\n",
       "    <tr style=\"text-align: right;\">\n",
       "      <th></th>\n",
       "      <th>Title</th>\n",
       "      <th>Date Written</th>\n",
       "      <th>Rating</th>\n",
       "      <th>Current/Former</th>\n",
       "      <th>Job Title</th>\n",
       "      <th>Location</th>\n",
       "      <th>Recommendation?</th>\n",
       "      <th>Outlook</th>\n",
       "      <th>Main Text</th>\n",
       "      <th>Pros</th>\n",
       "      <th>Cons</th>\n",
       "      <th>Advice to management</th>\n",
       "    </tr>\n",
       "  </thead>\n",
       "  <tbody>\n",
       "    <tr>\n",
       "      <th>0</th>\n",
       "      <td>\"Account Manager\"</td>\n",
       "      <td>Sep 9, 2018</td>\n",
       "      <td>3.0</td>\n",
       "      <td>Former Employee</td>\n",
       "      <td>Anonymous Employee</td>\n",
       "      <td>NaN</td>\n",
       "      <td>Recommends</td>\n",
       "      <td>NaN</td>\n",
       "      <td>- Fun environment and excellent team</td>\n",
       "      <td>- Proactive scenario</td>\n",
       "      <td>Almost none opportunities to grow or to move t...</td>\n",
       "      <td>NaN</td>\n",
       "    </tr>\n",
       "    <tr>\n",
       "      <th>1</th>\n",
       "      <td>\"All the \"bad\" things you heard about Amazon i...</td>\n",
       "      <td>Sep 9, 2018</td>\n",
       "      <td>1.0</td>\n",
       "      <td>Former Employee</td>\n",
       "      <td>Software Developer</td>\n",
       "      <td>Seattle, WA</td>\n",
       "      <td>Doesn't Recommend</td>\n",
       "      <td>Negative Outlook</td>\n",
       "      <td>I worked at Amazon full-time (More than a year)</td>\n",
       "      <td>You get to work a LOT of hours.</td>\n",
       "      <td>Work life balance is extremely bad. Work here ...</td>\n",
       "      <td>Hopeless</td>\n",
       "    </tr>\n",
       "    <tr>\n",
       "      <th>2</th>\n",
       "      <td>\"Amazon is giving hard time to the employees\"</td>\n",
       "      <td>Sep 9, 2018</td>\n",
       "      <td>1.0</td>\n",
       "      <td>Current Employee</td>\n",
       "      <td>Fruad Prevention</td>\n",
       "      <td>Hyderabad (India)</td>\n",
       "      <td>Doesn't Recommend</td>\n",
       "      <td>Negative Outlook</td>\n",
       "      <td>Becoming worst day by day</td>\n",
       "      <td>All I can say is Amazon has been changed drast...</td>\n",
       "      <td>Working at Amazon is the con</td>\n",
       "      <td>NaN</td>\n",
       "    </tr>\n",
       "    <tr>\n",
       "      <th>3</th>\n",
       "      <td>\"Amazon Warehouse Operative\"</td>\n",
       "      <td>Sep 9, 2018</td>\n",
       "      <td>1.0</td>\n",
       "      <td>Current Employee</td>\n",
       "      <td>Anonymous Employee</td>\n",
       "      <td>NaN</td>\n",
       "      <td>Doesn't Recommend</td>\n",
       "      <td>Negative Outlook</td>\n",
       "      <td>I have been working at Amazon full-time</td>\n",
       "      <td>Weekly pay was a plus</td>\n",
       "      <td>Treated as a number, long hours and no flexibi...</td>\n",
       "      <td>Treat staff equal</td>\n",
       "    </tr>\n",
       "    <tr>\n",
       "      <th>4</th>\n",
       "      <td>\"Amazon was the easiest job and I was surround...</td>\n",
       "      <td>Sep 9, 2018</td>\n",
       "      <td>5.0</td>\n",
       "      <td>Former Employee</td>\n",
       "      <td>Associate</td>\n",
       "      <td>Essex, MD</td>\n",
       "      <td>Recommends</td>\n",
       "      <td>Positive Outlook</td>\n",
       "      <td>I worked at Amazon full-time (Less than a year)</td>\n",
       "      <td>Fun, easy, positive energy, surrounded by cool...</td>\n",
       "      <td>Long hours but youâll get used to it</td>\n",
       "      <td>NaN</td>\n",
       "    </tr>\n",
       "  </tbody>\n",
       "</table>\n",
       "</div>"
      ],
      "text/plain": [
       "                                               Title Date Written  Rating  \\\n",
       "0                                  \"Account Manager\"  Sep 9, 2018     3.0   \n",
       "1  \"All the \"bad\" things you heard about Amazon i...  Sep 9, 2018     1.0   \n",
       "2      \"Amazon is giving hard time to the employees\"  Sep 9, 2018     1.0   \n",
       "3                       \"Amazon Warehouse Operative\"  Sep 9, 2018     1.0   \n",
       "4  \"Amazon was the easiest job and I was surround...  Sep 9, 2018     5.0   \n",
       "\n",
       "     Current/Former           Job Title           Location    Recommendation?  \\\n",
       "0   Former Employee  Anonymous Employee                NaN         Recommends   \n",
       "1   Former Employee  Software Developer        Seattle, WA  Doesn't Recommend   \n",
       "2  Current Employee    Fruad Prevention  Hyderabad (India)  Doesn't Recommend   \n",
       "3  Current Employee  Anonymous Employee                NaN  Doesn't Recommend   \n",
       "4   Former Employee           Associate          Essex, MD         Recommends   \n",
       "\n",
       "            Outlook                                        Main Text  \\\n",
       "0               NaN             - Fun environment and excellent team   \n",
       "1  Negative Outlook  I worked at Amazon full-time (More than a year)   \n",
       "2  Negative Outlook                        Becoming worst day by day   \n",
       "3  Negative Outlook          I have been working at Amazon full-time   \n",
       "4  Positive Outlook  I worked at Amazon full-time (Less than a year)   \n",
       "\n",
       "                                                Pros  \\\n",
       "0                               - Proactive scenario   \n",
       "1                    You get to work a LOT of hours.   \n",
       "2  All I can say is Amazon has been changed drast...   \n",
       "3                              Weekly pay was a plus   \n",
       "4  Fun, easy, positive energy, surrounded by cool...   \n",
       "\n",
       "                                                Cons Advice to management  \n",
       "0  Almost none opportunities to grow or to move t...                  NaN  \n",
       "1  Work life balance is extremely bad. Work here ...             Hopeless  \n",
       "2                       Working at Amazon is the con                  NaN  \n",
       "3  Treated as a number, long hours and no flexibi...    Treat staff equal  \n",
       "4             Long hours but youâll get used to it                  NaN  "
      ]
     },
     "execution_count": 10,
     "metadata": {},
     "output_type": "execute_result"
    }
   ],
   "source": [
    "df_amazon.head()"
   ]
  },
  {
   "cell_type": "code",
   "execution_count": 11,
   "metadata": {
    "scrolled": true
   },
   "outputs": [
    {
     "data": {
      "text/plain": [
       "Title                       0\n",
       "Date Written                0\n",
       "Rating                      0\n",
       "Current/Former              0\n",
       "Job Title                   1\n",
       "Location                 9201\n",
       "Recommendation?          3931\n",
       "Outlook                  5712\n",
       "Main Text                1237\n",
       "Pros                        2\n",
       "Cons                        1\n",
       "Advice to management    10708\n",
       "dtype: int64"
      ]
     },
     "execution_count": 11,
     "metadata": {},
     "output_type": "execute_result"
    }
   ],
   "source": [
    "df_amazon.isnull().sum()"
   ]
  },
  {
   "cell_type": "code",
   "execution_count": 12,
   "metadata": {},
   "outputs": [
    {
     "data": {
      "text/plain": [
       "(25056, 12)"
      ]
     },
     "execution_count": 12,
     "metadata": {},
     "output_type": "execute_result"
    }
   ],
   "source": [
    "df_amazon.shape"
   ]
  },
  {
   "cell_type": "code",
   "execution_count": 16,
   "metadata": {
    "collapsed": true
   },
   "outputs": [],
   "source": [
    "pros = pd.DataFrame(df_amazon['Pros'], index= df_amazon.index)\n",
    "cons = pd.DataFrame(df_amazon['Cons'],  index= df_amazon.index)"
   ]
  },
  {
   "cell_type": "code",
   "execution_count": 19,
   "metadata": {},
   "outputs": [],
   "source": [
    "pros.dropna(axis=0, inplace=True)\n",
    "cons.dropna(axis=0, inplace=True)"
   ]
  },
  {
   "cell_type": "code",
   "execution_count": 56,
   "metadata": {},
   "outputs": [],
   "source": [
    "#pros.dropna(axis=0, inplace=True)\n",
    "#cons.dropna(axis=0, inplace=True)\n",
    "def clean_tokenize(s):\n",
    "        s = re.sub(r'[^\\w\\s]', '',s.lower())\n",
    "        return([word for word in word_tokenize(s) if word not in stop if word not in punc])\n",
    "def get_lemma(word):\n",
    "        lemma = wn.morphy(word)\n",
    "        if lemma is None:\n",
    "            return word\n",
    "        else:\n",
    "            return lemma\n",
    "        def get_lemma2(word):\n",
    "            return WordNetLemmatizer().lemmatize(word)\n",
    "def lemmatize(my_tokens):\n",
    "    \"\"\"Function to enable data preparation for topic modeling using LDA, \n",
    "    includes removing stop words, lemmatization, tokenization\"\"\"\n",
    "    my_tokens = [get_lemma(token) for token in my_tokens]\n",
    "    return my_tokens\n",
    "\n",
    "def dataprep(text_data_df):\n",
    "    pros = pd.DataFrame(text_data_df['Pros'], index= text_data_df.index)\n",
    "    cons = pd.DataFrame(text_data_df['Cons'],  index= text_data_df.index)\n",
    "    pros.dropna(axis=0, inplace=True)\n",
    "    cons.dropna(axis=0, inplace=True)\n",
    "    stop = set(stopwords.words('english'))\n",
    "    punc = string.punctuation\n",
    "    \n",
    "    pros['pros_tokens'] =pros.Pros.map(clean_tokenize)\n",
    "    cons['cons_tokens'] =cons.Cons.map(clean_tokenize)\n",
    "    #my_tokens = [get_lemma(token) for token in my_tokens]\n",
    "    pros['pros_lemma_tokens'] = pros['pros_tokens'].apply(lemmatize)\n",
    "    #pros['pros_lemma_tokens'] = [get_lemma(token) for token in pros['pros_tokens']]\n",
    "    cons['cons_lemma_tokens'] = cons['cons_tokens'].apply(lemmatize)\n",
    "    return pros, cons\n",
    "    \n",
    "    \n",
    "\n",
    "\n",
    "    \n",
    "    "
   ]
  },
  {
   "cell_type": "code",
   "execution_count": 27,
   "metadata": {},
   "outputs": [],
   "source": [
    "pros['pros_tokens'] =pros.Pros.map(clean_tokenize)\n",
    "cons['cons_tokens'] =cons.Cons.map(clean_tokenize)"
   ]
  },
  {
   "cell_type": "code",
   "execution_count": 28,
   "metadata": {},
   "outputs": [
    {
     "data": {
      "text/html": [
       "<div>\n",
       "<style scoped>\n",
       "    .dataframe tbody tr th:only-of-type {\n",
       "        vertical-align: middle;\n",
       "    }\n",
       "\n",
       "    .dataframe tbody tr th {\n",
       "        vertical-align: top;\n",
       "    }\n",
       "\n",
       "    .dataframe thead th {\n",
       "        text-align: right;\n",
       "    }\n",
       "</style>\n",
       "<table border=\"1\" class=\"dataframe\">\n",
       "  <thead>\n",
       "    <tr style=\"text-align: right;\">\n",
       "      <th></th>\n",
       "      <th>Pros</th>\n",
       "      <th>pros_tokens</th>\n",
       "    </tr>\n",
       "  </thead>\n",
       "  <tbody>\n",
       "    <tr>\n",
       "      <th>0</th>\n",
       "      <td>- Proactive scenario</td>\n",
       "      <td>[proactive, scenario]</td>\n",
       "    </tr>\n",
       "    <tr>\n",
       "      <th>1</th>\n",
       "      <td>You get to work a LOT of hours.</td>\n",
       "      <td>[get, work, lot, hours]</td>\n",
       "    </tr>\n",
       "    <tr>\n",
       "      <th>2</th>\n",
       "      <td>All I can say is Amazon has been changed drast...</td>\n",
       "      <td>[say, amazon, changed, drastically, trying, im...</td>\n",
       "    </tr>\n",
       "    <tr>\n",
       "      <th>3</th>\n",
       "      <td>Weekly pay was a plus</td>\n",
       "      <td>[weekly, pay, plus]</td>\n",
       "    </tr>\n",
       "    <tr>\n",
       "      <th>4</th>\n",
       "      <td>Fun, easy, positive energy, surrounded by cool...</td>\n",
       "      <td>[fun, easy, positive, energy, surrounded, cool...</td>\n",
       "    </tr>\n",
       "  </tbody>\n",
       "</table>\n",
       "</div>"
      ],
      "text/plain": [
       "                                                Pros  \\\n",
       "0                               - Proactive scenario   \n",
       "1                    You get to work a LOT of hours.   \n",
       "2  All I can say is Amazon has been changed drast...   \n",
       "3                              Weekly pay was a plus   \n",
       "4  Fun, easy, positive energy, surrounded by cool...   \n",
       "\n",
       "                                         pros_tokens  \n",
       "0                              [proactive, scenario]  \n",
       "1                            [get, work, lot, hours]  \n",
       "2  [say, amazon, changed, drastically, trying, im...  \n",
       "3                                [weekly, pay, plus]  \n",
       "4  [fun, easy, positive, energy, surrounded, cool...  "
      ]
     },
     "execution_count": 28,
     "metadata": {},
     "output_type": "execute_result"
    }
   ],
   "source": [
    "pros.head()"
   ]
  },
  {
   "cell_type": "code",
   "execution_count": 42,
   "metadata": {},
   "outputs": [
    {
     "name": "stderr",
     "output_type": "stream",
     "text": [
      "C:\\Users\\Preetika\\Anaconda2\\envs\\py36\\lib\\site-packages\\gensim\\utils.py:1197: UserWarning: detected Windows; aliasing chunkize to chunkize_serial\n",
      "  warnings.warn(\"detected Windows; aliasing chunkize to chunkize_serial\")\n"
     ]
    }
   ],
   "source": [
    "from gensim import corpora\n",
    "dictionary = corpora.Dictionary(pros['pros_tokens'])\n",
    "corpus = [dictionary.doc2bow(text) for text in pros['pros_tokens']]\n",
    "import pickle\n",
    "pickle.dump(corpus, open('corpus.pkl', 'wb'))\n",
    "dictionary.save('dictionary.gensim')"
   ]
  },
  {
   "cell_type": "code",
   "execution_count": 45,
   "metadata": {},
   "outputs": [
    {
     "name": "stdout",
     "output_type": "stream",
     "text": [
      "(0, '0.041*\"work\" + 0.036*\"people\" + 0.024*\"great\" + 0.023*\"learn\"')\n",
      "(1, '0.053*\"time\" + 0.044*\"work\" + 0.036*\"hours\" + 0.023*\"flexible\"')\n",
      "(2, '0.031*\"job\" + 0.025*\"amazon\" + 0.020*\"easy\" + 0.017*\"get\"')\n",
      "(3, '0.050*\"fast\" + 0.028*\"customer\" + 0.024*\"paced\" + 0.019*\"leadership\"')\n",
      "(4, '0.120*\"good\" + 0.072*\"great\" + 0.072*\"work\" + 0.054*\"benefits\"')\n"
     ]
    }
   ],
   "source": [
    "import gensim\n",
    "NUM_TOPICS = 5\n",
    "ldamodel = gensim.models.ldamodel.LdaModel(corpus, num_topics = NUM_TOPICS, id2word=dictionary, passes=15)\n",
    "ldamodel.save('model5.gensim')\n",
    "topics = ldamodel.print_topics(num_words=4)\n",
    "for topic in topics:\n",
    "    print(topic)"
   ]
  },
  {
   "cell_type": "markdown",
   "metadata": {},
   "source": [
    "#### TM for cons"
   ]
  },
  {
   "cell_type": "code",
   "execution_count": 57,
   "metadata": {},
   "outputs": [],
   "source": [
    "pros_az, cons_az = dataprep(df_amazon)"
   ]
  },
  {
   "cell_type": "markdown",
   "metadata": {},
   "source": [
    "### Defining generalized functions for TM"
   ]
  },
  {
   "cell_type": "code",
   "execution_count": 93,
   "metadata": {
    "collapsed": true
   },
   "outputs": [],
   "source": [
    "def topics_reveal(pros_df, cons_df, num_topics = 5, num_words = 4):\n",
    "    dictionary = corpora.Dictionary(pros_df['pros_lemma_tokens'])\n",
    "    corpus = [dictionary.doc2bow(text) for text in pros_df['pros_lemma_tokens']]\n",
    "    pickle.dump(corpus, open('corpus_pros.pkl', 'wb'))\n",
    "    NUM_TOPICS = num_topics\n",
    "    ldamodel = gensim.models.ldamodel.LdaModel(corpus, num_topics = NUM_TOPICS, id2word=dictionary, passes=15)\n",
    "    topics_pros = ldamodel.print_topics(num_words=4)\n",
    "    print(\" For Pros, 5 topics are defined as follows: \")\n",
    "    for topic in topics_pros:\n",
    "        print(topic)\n",
    "        \n",
    "    dictionary = corpora.Dictionary(cons_df['cons_lemma_tokens'])\n",
    "    corpus = [dictionary.doc2bow(text) for text in cons_df['cons_lemma_tokens']]\n",
    "    pickle.dump(corpus, open('corpus_cons.pkl', 'wb'))\n",
    "    NUM_TOPICS = num_topics\n",
    "    ldamodel = gensim.models.ldamodel.LdaModel(corpus, num_topics = NUM_TOPICS, id2word=dictionary, passes=15)\n",
    "    topics_cons = ldamodel.print_topics(num_words=num_words)\n",
    "    print(\" For Cons, 5 topics are defined as follows: \")\n",
    "    for topic in topics_cons:\n",
    "        print(topic)\n",
    "    return topics_pros, topics_cons"
   ]
  },
  {
   "cell_type": "code",
   "execution_count": 72,
   "metadata": {},
   "outputs": [
    {
     "name": "stdout",
     "output_type": "stream",
     "text": [
      " For Pros, 5 topics are defined as follows: \n",
      "(0, '0.132*\"good\" + 0.118*\"work\" + 0.047*\"great\" + 0.042*\"job\"')\n",
      "(1, '0.045*\"friendly\" + 0.025*\"life\" + 0.021*\"balance\" + 0.019*\"atmosphere\"')\n",
      "(2, '0.043*\"work\" + 0.037*\"company\" + 0.033*\"people\" + 0.030*\"great\"')\n",
      "(3, '0.033*\"learn\" + 0.032*\"amazon\" + 0.030*\"lot\" + 0.023*\"get\"')\n",
      "(4, '0.077*\"benefit\" + 0.067*\"pay\" + 0.036*\"great\" + 0.033*\"time\"')\n",
      " For Cons, 5 topics are defined as follows: \n",
      "(0, '0.026*\"management\" + 0.020*\"employee\" + 0.016*\"manager\" + 0.014*\"people\"')\n",
      "(1, '0.013*\"perk\" + 0.011*\"free\" + 0.010*\"food\" + 0.009*\"office\"')\n",
      "(2, '0.023*\"amazon\" + 0.020*\"con\" + 0.014*\"nothing\" + 0.014*\"dont\"')\n",
      "(3, '0.121*\"work\" + 0.046*\"balance\" + 0.038*\"life\" + 0.027*\"pay\"')\n",
      "(4, '0.050*\"hours\" + 0.037*\"long\" + 0.034*\"work\" + 0.021*\"time\"')\n"
     ]
    }
   ],
   "source": [
    "t = topics_reveal(pros_az, cons_az)"
   ]
  },
  {
   "cell_type": "markdown",
   "metadata": {},
   "source": [
    "### Pros: They talk about great work quality, friendly atmosphere, learn alot, great pay\n",
    "### Cons: poor management, bad perks related to food, bad work life balance, long working hours"
   ]
  },
  {
   "cell_type": "code",
   "execution_count": null,
   "metadata": {
    "collapsed": true
   },
   "outputs": [],
   "source": []
  },
  {
   "cell_type": "markdown",
   "metadata": {},
   "source": [
    "### For Dell"
   ]
  },
  {
   "cell_type": "code",
   "execution_count": 76,
   "metadata": {},
   "outputs": [],
   "source": [
    "df_dell = pd.read_csv('Scraper/Dell_csv.csv', encoding= \"iso-8859-1\")"
   ]
  },
  {
   "cell_type": "code",
   "execution_count": 78,
   "metadata": {},
   "outputs": [
    {
     "data": {
      "text/html": [
       "<div>\n",
       "<style scoped>\n",
       "    .dataframe tbody tr th:only-of-type {\n",
       "        vertical-align: middle;\n",
       "    }\n",
       "\n",
       "    .dataframe tbody tr th {\n",
       "        vertical-align: top;\n",
       "    }\n",
       "\n",
       "    .dataframe thead th {\n",
       "        text-align: right;\n",
       "    }\n",
       "</style>\n",
       "<table border=\"1\" class=\"dataframe\">\n",
       "  <thead>\n",
       "    <tr style=\"text-align: right;\">\n",
       "      <th></th>\n",
       "      <th>Title</th>\n",
       "      <th>Date Written</th>\n",
       "      <th>Rating</th>\n",
       "      <th>Current/Former</th>\n",
       "      <th>Job Title</th>\n",
       "      <th>Location</th>\n",
       "      <th>Recommendation?</th>\n",
       "      <th>Outlook</th>\n",
       "      <th>Main Text</th>\n",
       "      <th>Pros</th>\n",
       "      <th>Cons</th>\n",
       "      <th>Advice to management</th>\n",
       "    </tr>\n",
       "  </thead>\n",
       "  <tbody>\n",
       "    <tr>\n",
       "      <th>0</th>\n",
       "      <td>\"Financial Analyst\"</td>\n",
       "      <td>Sep 24, 2018</td>\n",
       "      <td>5.0</td>\n",
       "      <td>Current Employee</td>\n",
       "      <td>Anonymous Employee</td>\n",
       "      <td>NaN</td>\n",
       "      <td>NaN</td>\n",
       "      <td>NaN</td>\n",
       "      <td>I have been working at Dell full-time</td>\n",
       "      <td>Company culture, work life balance</td>\n",
       "      <td>High achieving individuals may feel underemployed</td>\n",
       "      <td>NaN</td>\n",
       "    </tr>\n",
       "    <tr>\n",
       "      <th>1</th>\n",
       "      <td>\"Sr Principal Engineer\"</td>\n",
       "      <td>Sep 27, 2018</td>\n",
       "      <td>4.0</td>\n",
       "      <td>Current Employee</td>\n",
       "      <td>Architect</td>\n",
       "      <td>Austin, TX</td>\n",
       "      <td>Recommends</td>\n",
       "      <td>Positive Outlook</td>\n",
       "      <td>Oct 2, 2018 â Candidate and Employee Experie...</td>\n",
       "      <td>Good work environment</td>\n",
       "      <td>Slow career growth</td>\n",
       "      <td>NaN</td>\n",
       "    </tr>\n",
       "    <tr>\n",
       "      <th>2</th>\n",
       "      <td>\"Good Place to work\"</td>\n",
       "      <td>Sep 28, 2018</td>\n",
       "      <td>4.0</td>\n",
       "      <td>Current Employee</td>\n",
       "      <td>Anonymous Employee</td>\n",
       "      <td>NaN</td>\n",
       "      <td>NaN</td>\n",
       "      <td>NaN</td>\n",
       "      <td>NaN</td>\n",
       "      <td>Flexibility in work, Friendly environment,scop...</td>\n",
       "      <td>Lack of communication gap between team members...</td>\n",
       "      <td>NaN</td>\n",
       "    </tr>\n",
       "    <tr>\n",
       "      <th>3</th>\n",
       "      <td>\"I enjoy working here, but my compensation is ...</td>\n",
       "      <td>Sep 25, 2018</td>\n",
       "      <td>4.0</td>\n",
       "      <td>Current Employee</td>\n",
       "      <td>Senior Representative</td>\n",
       "      <td>Franklin, MA</td>\n",
       "      <td>Recommends</td>\n",
       "      <td>Neutral Outlook</td>\n",
       "      <td>I have been working at Dell full-time (More th...</td>\n",
       "      <td>I like my job, I have a lot of responsibility,...</td>\n",
       "      <td>My pay does not reflect the level of difficult...</td>\n",
       "      <td>I would like more opportunities for growth in ...</td>\n",
       "    </tr>\n",
       "    <tr>\n",
       "      <th>4</th>\n",
       "      <td>\"Technical Support Manager\"</td>\n",
       "      <td>Sep 26, 2018</td>\n",
       "      <td>4.0</td>\n",
       "      <td>Former Employee</td>\n",
       "      <td>Anonymous Employee</td>\n",
       "      <td>NaN</td>\n",
       "      <td>Recommends</td>\n",
       "      <td>Positive Outlook</td>\n",
       "      <td>I worked at Dell part-time</td>\n",
       "      <td>Competitive salary, great culture</td>\n",
       "      <td>Career growth limited at the management level ...</td>\n",
       "      <td>promote more african Americans to senior manag...</td>\n",
       "    </tr>\n",
       "  </tbody>\n",
       "</table>\n",
       "</div>"
      ],
      "text/plain": [
       "                                               Title  Date Written  Rating  \\\n",
       "0                                \"Financial Analyst\"  Sep 24, 2018     5.0   \n",
       "1                            \"Sr Principal Engineer\"  Sep 27, 2018     4.0   \n",
       "2                               \"Good Place to work\"  Sep 28, 2018     4.0   \n",
       "3  \"I enjoy working here, but my compensation is ...  Sep 25, 2018     4.0   \n",
       "4                        \"Technical Support Manager\"  Sep 26, 2018     4.0   \n",
       "\n",
       "     Current/Former              Job Title      Location Recommendation?  \\\n",
       "0  Current Employee     Anonymous Employee           NaN             NaN   \n",
       "1  Current Employee              Architect    Austin, TX      Recommends   \n",
       "2  Current Employee     Anonymous Employee           NaN             NaN   \n",
       "3  Current Employee  Senior Representative  Franklin, MA      Recommends   \n",
       "4   Former Employee     Anonymous Employee           NaN      Recommends   \n",
       "\n",
       "            Outlook                                          Main Text  \\\n",
       "0               NaN              I have been working at Dell full-time   \n",
       "1  Positive Outlook  Oct 2, 2018 â Candidate and Employee Experie...   \n",
       "2               NaN                                                NaN   \n",
       "3   Neutral Outlook  I have been working at Dell full-time (More th...   \n",
       "4  Positive Outlook                         I worked at Dell part-time   \n",
       "\n",
       "                                                Pros  \\\n",
       "0                 Company culture, work life balance   \n",
       "1                              Good work environment   \n",
       "2  Flexibility in work, Friendly environment,scop...   \n",
       "3  I like my job, I have a lot of responsibility,...   \n",
       "4                  Competitive salary, great culture   \n",
       "\n",
       "                                                Cons  \\\n",
       "0  High achieving individuals may feel underemployed   \n",
       "1                                 Slow career growth   \n",
       "2  Lack of communication gap between team members...   \n",
       "3  My pay does not reflect the level of difficult...   \n",
       "4  Career growth limited at the management level ...   \n",
       "\n",
       "                                Advice to management  \n",
       "0                                                NaN  \n",
       "1                                                NaN  \n",
       "2                                                NaN  \n",
       "3  I would like more opportunities for growth in ...  \n",
       "4  promote more african Americans to senior manag...  "
      ]
     },
     "execution_count": 78,
     "metadata": {},
     "output_type": "execute_result"
    }
   ],
   "source": [
    "df_dell.head()"
   ]
  },
  {
   "cell_type": "code",
   "execution_count": 79,
   "metadata": {},
   "outputs": [
    {
     "data": {
      "text/plain": [
       "(11222, 12)"
      ]
     },
     "execution_count": 79,
     "metadata": {},
     "output_type": "execute_result"
    }
   ],
   "source": [
    "df_dell.shape"
   ]
  },
  {
   "cell_type": "code",
   "execution_count": 80,
   "metadata": {
    "collapsed": true
   },
   "outputs": [],
   "source": [
    "pros_dell, cons_dell = dataprep(df_dell)"
   ]
  },
  {
   "cell_type": "code",
   "execution_count": 81,
   "metadata": {},
   "outputs": [
    {
     "data": {
      "text/html": [
       "<div>\n",
       "<style scoped>\n",
       "    .dataframe tbody tr th:only-of-type {\n",
       "        vertical-align: middle;\n",
       "    }\n",
       "\n",
       "    .dataframe tbody tr th {\n",
       "        vertical-align: top;\n",
       "    }\n",
       "\n",
       "    .dataframe thead th {\n",
       "        text-align: right;\n",
       "    }\n",
       "</style>\n",
       "<table border=\"1\" class=\"dataframe\">\n",
       "  <thead>\n",
       "    <tr style=\"text-align: right;\">\n",
       "      <th></th>\n",
       "      <th>Pros</th>\n",
       "      <th>pros_tokens</th>\n",
       "      <th>pros_lemma_tokens</th>\n",
       "    </tr>\n",
       "  </thead>\n",
       "  <tbody>\n",
       "    <tr>\n",
       "      <th>0</th>\n",
       "      <td>Company culture, work life balance</td>\n",
       "      <td>[company, culture, work, life, balance]</td>\n",
       "      <td>[company, culture, work, life, balance]</td>\n",
       "    </tr>\n",
       "    <tr>\n",
       "      <th>1</th>\n",
       "      <td>Good work environment</td>\n",
       "      <td>[good, work, environment]</td>\n",
       "      <td>[good, work, environment]</td>\n",
       "    </tr>\n",
       "    <tr>\n",
       "      <th>2</th>\n",
       "      <td>Flexibility in work, Friendly environment,scop...</td>\n",
       "      <td>[flexibility, work, friendly, environmentscope...</td>\n",
       "      <td>[flexibility, work, friendly, environmentscope...</td>\n",
       "    </tr>\n",
       "    <tr>\n",
       "      <th>3</th>\n",
       "      <td>I like my job, I have a lot of responsibility,...</td>\n",
       "      <td>[like, job, lot, responsibility, work, good, p...</td>\n",
       "      <td>[like, job, lot, responsibility, work, good, p...</td>\n",
       "    </tr>\n",
       "    <tr>\n",
       "      <th>4</th>\n",
       "      <td>Competitive salary, great culture</td>\n",
       "      <td>[competitive, salary, great, culture]</td>\n",
       "      <td>[competitive, salary, great, culture]</td>\n",
       "    </tr>\n",
       "  </tbody>\n",
       "</table>\n",
       "</div>"
      ],
      "text/plain": [
       "                                                Pros  \\\n",
       "0                 Company culture, work life balance   \n",
       "1                              Good work environment   \n",
       "2  Flexibility in work, Friendly environment,scop...   \n",
       "3  I like my job, I have a lot of responsibility,...   \n",
       "4                  Competitive salary, great culture   \n",
       "\n",
       "                                         pros_tokens  \\\n",
       "0            [company, culture, work, life, balance]   \n",
       "1                          [good, work, environment]   \n",
       "2  [flexibility, work, friendly, environmentscope...   \n",
       "3  [like, job, lot, responsibility, work, good, p...   \n",
       "4              [competitive, salary, great, culture]   \n",
       "\n",
       "                                   pros_lemma_tokens  \n",
       "0            [company, culture, work, life, balance]  \n",
       "1                          [good, work, environment]  \n",
       "2  [flexibility, work, friendly, environmentscope...  \n",
       "3  [like, job, lot, responsibility, work, good, p...  \n",
       "4              [competitive, salary, great, culture]  "
      ]
     },
     "execution_count": 81,
     "metadata": {},
     "output_type": "execute_result"
    }
   ],
   "source": [
    "pros_dell.head()"
   ]
  },
  {
   "cell_type": "code",
   "execution_count": 82,
   "metadata": {},
   "outputs": [
    {
     "name": "stdout",
     "output_type": "stream",
     "text": [
      " For Pros, 5 topics are defined as follows: \n",
      "(0, '0.047*\"dell\" + 0.026*\"company\" + 0.019*\"good\" + 0.018*\"great\"')\n",
      "(1, '0.032*\"good\" + 0.024*\"benefit\" + 0.020*\"salary\" + 0.019*\"brand\"')\n",
      "(2, '0.087*\"work\" + 0.040*\"great\" + 0.036*\"flexible\" + 0.032*\"working\"')\n",
      "(3, '0.042*\"opportunity\" + 0.028*\"company\" + 0.025*\"learn\" + 0.018*\"dell\"')\n",
      "(4, '0.148*\"work\" + 0.145*\"good\" + 0.065*\"balance\" + 0.060*\"great\"')\n",
      " For Cons, 5 topics are defined as follows: \n",
      "(0, '0.015*\"work\" + 0.015*\"manager\" + 0.015*\"dell\" + 0.015*\"con\"')\n",
      "(1, '0.062*\"company\" + 0.028*\"dell\" + 0.013*\"business\" + 0.012*\"employee\"')\n",
      "(2, '0.049*\"work\" + 0.017*\"get\" + 0.016*\"people\" + 0.015*\"management\"')\n",
      "(3, '0.037*\"change\" + 0.015*\"de\" + 0.011*\"le\" + 0.011*\"shift\"')\n",
      "(4, '0.033*\"management\" + 0.026*\"salary\" + 0.023*\"pay\" + 0.022*\"growth\"')\n"
     ]
    }
   ],
   "source": [
    "dell_topics = topics_reveal(pros_dell, cons_dell)"
   ]
  },
  {
   "cell_type": "code",
   "execution_count": 94,
   "metadata": {},
   "outputs": [
    {
     "name": "stdout",
     "output_type": "stream",
     "text": [
      " For Pros, 5 topics are defined as follows: \n",
      "(0, '0.098*\"opportunity\" + 0.050*\"learn\" + 0.043*\"good\" + 0.033*\"lots\"')\n",
      "(1, '0.047*\"work\" + 0.039*\"employee\" + 0.029*\"environment\" + 0.026*\"fast\"')\n",
      "(2, '0.198*\"work\" + 0.123*\"good\" + 0.091*\"balance\" + 0.071*\"life\"')\n",
      "(3, '0.131*\"work\" + 0.077*\"flexible\" + 0.063*\"home\" + 0.044*\"working\"')\n",
      "(4, '0.077*\"pay\" + 0.070*\"good\" + 0.044*\"benefit\" + 0.034*\"job\"')\n",
      "(5, '0.103*\"good\" + 0.070*\"benefit\" + 0.068*\"great\" + 0.035*\"salary\"')\n",
      "(6, '0.037*\"brand\" + 0.026*\"name\" + 0.014*\"nothing\" + 0.011*\"et\"')\n",
      "(7, '0.045*\"people\" + 0.037*\"team\" + 0.020*\"great\" + 0.019*\"open\"')\n",
      "(8, '0.078*\"dell\" + 0.037*\"company\" + 0.022*\"best\" + 0.018*\"product\"')\n",
      "(9, '0.045*\"company\" + 0.027*\"dell\" + 0.017*\"employee\" + 0.014*\"within\"')\n",
      " For Cons, 5 topics are defined as follows: \n",
      "(0, '0.032*\"dell\" + 0.028*\"company\" + 0.022*\"employee\" + 0.021*\"good\" + 0.021*\"people\"')\n",
      "(1, '0.035*\"management\" + 0.032*\"poor\" + 0.029*\"lack\" + 0.024*\"team\" + 0.020*\"shift\"')\n",
      "(2, '0.034*\"get\" + 0.029*\"work\" + 0.025*\"time\" + 0.017*\"company\" + 0.015*\"lot\"')\n",
      "(3, '0.036*\"job\" + 0.035*\"dell\" + 0.034*\"con\" + 0.017*\"company\" + 0.017*\"employee\"')\n",
      "(4, '0.109*\"work\" + 0.037*\"balance\" + 0.034*\"life\" + 0.024*\"pressure\" + 0.022*\"hours\"')\n",
      "(5, '0.049*\"salary\" + 0.036*\"pay\" + 0.028*\"le\" + 0.024*\"low\" + 0.019*\"benefit\"')\n",
      "(6, '0.047*\"growth\" + 0.044*\"company\" + 0.035*\"career\" + 0.027*\"opportunity\" + 0.025*\"slow\"')\n",
      "(7, '0.016*\"find\" + 0.014*\"et\" + 0.013*\"downside\" + 0.010*\"le\" + 0.009*\"pas\"')\n",
      "(8, '0.035*\"management\" + 0.022*\"sales\" + 0.015*\"customer\" + 0.014*\"long\" + 0.014*\"many\"')\n",
      "(9, '0.074*\"change\" + 0.019*\"business\" + 0.018*\"dell\" + 0.017*\"company\" + 0.017*\"lack\"')\n"
     ]
    }
   ],
   "source": [
    "dell_topics_2 = topics_reveal(pros_dell, cons_dell, 10, 5)"
   ]
  },
  {
   "cell_type": "markdown",
   "metadata": {},
   "source": [
    "### Pros: Opportunity, work life balance, flexible work from home, within the company employess\n",
    "### Cons: pressure, low salary and benefits, slow growth, lack of business"
   ]
  },
  {
   "cell_type": "code",
   "execution_count": null,
   "metadata": {
    "collapsed": true
   },
   "outputs": [],
   "source": []
  },
  {
   "cell_type": "markdown",
   "metadata": {},
   "source": [
    "### Topic Modeling for Apple"
   ]
  },
  {
   "cell_type": "code",
   "execution_count": 83,
   "metadata": {
    "collapsed": true
   },
   "outputs": [],
   "source": [
    "df_app = pd.read_csv('apples_reviews.csv', encoding= \"iso-8859-1\")"
   ]
  },
  {
   "cell_type": "code",
   "execution_count": 84,
   "metadata": {},
   "outputs": [
    {
     "data": {
      "text/html": [
       "<div>\n",
       "<style scoped>\n",
       "    .dataframe tbody tr th:only-of-type {\n",
       "        vertical-align: middle;\n",
       "    }\n",
       "\n",
       "    .dataframe tbody tr th {\n",
       "        vertical-align: top;\n",
       "    }\n",
       "\n",
       "    .dataframe thead th {\n",
       "        text-align: right;\n",
       "    }\n",
       "</style>\n",
       "<table border=\"1\" class=\"dataframe\">\n",
       "  <thead>\n",
       "    <tr style=\"text-align: right;\">\n",
       "      <th></th>\n",
       "      <th>Title</th>\n",
       "      <th>Date Written</th>\n",
       "      <th>Rating</th>\n",
       "      <th>Current/Former</th>\n",
       "      <th>Job Title</th>\n",
       "      <th>Location</th>\n",
       "      <th>Recommendation?</th>\n",
       "      <th>Outlook</th>\n",
       "      <th>Main Text</th>\n",
       "      <th>Pros</th>\n",
       "      <th>Cons</th>\n",
       "      <th>Advice to management</th>\n",
       "    </tr>\n",
       "  </thead>\n",
       "  <tbody>\n",
       "    <tr>\n",
       "      <th>0</th>\n",
       "      <td>\"Product Specialist\"</td>\n",
       "      <td>Apr 23, 2018</td>\n",
       "      <td>5.0</td>\n",
       "      <td>Current Employee</td>\n",
       "      <td>Product Specialist</td>\n",
       "      <td>Louisville, KY</td>\n",
       "      <td>Recommends</td>\n",
       "      <td>Positive Outlook</td>\n",
       "      <td>I have been working at Apple part-time (Less t...</td>\n",
       "      <td>I love working for Apple! The pay and benefits...</td>\n",
       "      <td>I don't have anything negative to say about ap...</td>\n",
       "      <td>NaN</td>\n",
       "    </tr>\n",
       "    <tr>\n",
       "      <th>1</th>\n",
       "      <td>\"Challenging, Rewarding, but ZERO work/life ba...</td>\n",
       "      <td>Aug 28, 2014</td>\n",
       "      <td>4.0</td>\n",
       "      <td>Current Employee</td>\n",
       "      <td>Anonymous Employee</td>\n",
       "      <td>NaN</td>\n",
       "      <td>Recommends</td>\n",
       "      <td>Positive Outlook</td>\n",
       "      <td>Show More</td>\n",
       "      <td>We work with geniuses - in every department, W...</td>\n",
       "      <td>ZERO ZERO ZERO work/life balance. Execs have b...</td>\n",
       "      <td>NaN</td>\n",
       "    </tr>\n",
       "    <tr>\n",
       "      <th>2</th>\n",
       "      <td>\"A Company as Meticulous as Their Products!\"</td>\n",
       "      <td>Mar 10, 2017</td>\n",
       "      <td>5.0</td>\n",
       "      <td>Current Employee</td>\n",
       "      <td>Specialist</td>\n",
       "      <td>Tempe, AZ</td>\n",
       "      <td>Recommends</td>\n",
       "      <td>Positive Outlook</td>\n",
       "      <td>I have been working at Apple full-time (More t...</td>\n",
       "      <td>Competitive Pay, Great Benefits, Amazing Peopl...</td>\n",
       "      <td>None! I had one of the best times ever at this...</td>\n",
       "      <td>You guys are awesome. Keep up the good work!</td>\n",
       "    </tr>\n",
       "    <tr>\n",
       "      <th>3</th>\n",
       "      <td>\"At-Home-Advisor\"</td>\n",
       "      <td>May 13, 2015</td>\n",
       "      <td>5.0</td>\n",
       "      <td>Current Employee</td>\n",
       "      <td>Apple At Home Advisor</td>\n",
       "      <td>Lakewood, CO</td>\n",
       "      <td>NaN</td>\n",
       "      <td>NaN</td>\n",
       "      <td>Show More</td>\n",
       "      <td>The position is at home. The company is AMAZIN...</td>\n",
       "      <td>The schedule changes every 90 days and you hav...</td>\n",
       "      <td>The management consists of a team manager and ...</td>\n",
       "    </tr>\n",
       "    <tr>\n",
       "      <th>4</th>\n",
       "      <td>\"Changing the world (in a small way)\"</td>\n",
       "      <td>Jan 22, 2016</td>\n",
       "      <td>5.0</td>\n",
       "      <td>Current Employee</td>\n",
       "      <td>Software Engineer IV</td>\n",
       "      <td>Cupertino, CA</td>\n",
       "      <td>Recommends</td>\n",
       "      <td>Positive Outlook</td>\n",
       "      <td>I have been working at Apple full-time (More t...</td>\n",
       "      <td>Working at Apple means that the things you wor...</td>\n",
       "      <td>It's a lot of work, teams are usually strapped...</td>\n",
       "      <td>Keep fighting for \"what's right\". Renewable en...</td>\n",
       "    </tr>\n",
       "  </tbody>\n",
       "</table>\n",
       "</div>"
      ],
      "text/plain": [
       "                                               Title  Date Written  Rating  \\\n",
       "0                               \"Product Specialist\"  Apr 23, 2018     5.0   \n",
       "1  \"Challenging, Rewarding, but ZERO work/life ba...  Aug 28, 2014     4.0   \n",
       "2       \"A Company as Meticulous as Their Products!\"  Mar 10, 2017     5.0   \n",
       "3                                  \"At-Home-Advisor\"  May 13, 2015     5.0   \n",
       "4              \"Changing the world (in a small way)\"  Jan 22, 2016     5.0   \n",
       "\n",
       "     Current/Former              Job Title        Location Recommendation?  \\\n",
       "0  Current Employee     Product Specialist  Louisville, KY      Recommends   \n",
       "1  Current Employee     Anonymous Employee             NaN      Recommends   \n",
       "2  Current Employee             Specialist       Tempe, AZ      Recommends   \n",
       "3  Current Employee  Apple At Home Advisor    Lakewood, CO             NaN   \n",
       "4  Current Employee   Software Engineer IV   Cupertino, CA      Recommends   \n",
       "\n",
       "            Outlook                                          Main Text  \\\n",
       "0  Positive Outlook  I have been working at Apple part-time (Less t...   \n",
       "1  Positive Outlook                                          Show More   \n",
       "2  Positive Outlook  I have been working at Apple full-time (More t...   \n",
       "3               NaN                                          Show More   \n",
       "4  Positive Outlook  I have been working at Apple full-time (More t...   \n",
       "\n",
       "                                                Pros  \\\n",
       "0  I love working for Apple! The pay and benefits...   \n",
       "1  We work with geniuses - in every department, W...   \n",
       "2  Competitive Pay, Great Benefits, Amazing Peopl...   \n",
       "3  The position is at home. The company is AMAZIN...   \n",
       "4  Working at Apple means that the things you wor...   \n",
       "\n",
       "                                                Cons  \\\n",
       "0  I don't have anything negative to say about ap...   \n",
       "1  ZERO ZERO ZERO work/life balance. Execs have b...   \n",
       "2  None! I had one of the best times ever at this...   \n",
       "3  The schedule changes every 90 days and you hav...   \n",
       "4  It's a lot of work, teams are usually strapped...   \n",
       "\n",
       "                                Advice to management  \n",
       "0                                                NaN  \n",
       "1                                                NaN  \n",
       "2       You guys are awesome. Keep up the good work!  \n",
       "3  The management consists of a team manager and ...  \n",
       "4  Keep fighting for \"what's right\". Renewable en...  "
      ]
     },
     "execution_count": 84,
     "metadata": {},
     "output_type": "execute_result"
    }
   ],
   "source": [
    "df_app.head()"
   ]
  },
  {
   "cell_type": "code",
   "execution_count": 85,
   "metadata": {},
   "outputs": [
    {
     "data": {
      "text/plain": [
       "(12681, 12)"
      ]
     },
     "execution_count": 85,
     "metadata": {},
     "output_type": "execute_result"
    }
   ],
   "source": [
    "df_app.shape"
   ]
  },
  {
   "cell_type": "code",
   "execution_count": 86,
   "metadata": {
    "collapsed": true
   },
   "outputs": [],
   "source": [
    "pros_app, cons_app = dataprep(df_app)"
   ]
  },
  {
   "cell_type": "code",
   "execution_count": 87,
   "metadata": {},
   "outputs": [
    {
     "data": {
      "text/html": [
       "<div>\n",
       "<style scoped>\n",
       "    .dataframe tbody tr th:only-of-type {\n",
       "        vertical-align: middle;\n",
       "    }\n",
       "\n",
       "    .dataframe tbody tr th {\n",
       "        vertical-align: top;\n",
       "    }\n",
       "\n",
       "    .dataframe thead th {\n",
       "        text-align: right;\n",
       "    }\n",
       "</style>\n",
       "<table border=\"1\" class=\"dataframe\">\n",
       "  <thead>\n",
       "    <tr style=\"text-align: right;\">\n",
       "      <th></th>\n",
       "      <th>Pros</th>\n",
       "      <th>pros_tokens</th>\n",
       "      <th>pros_lemma_tokens</th>\n",
       "    </tr>\n",
       "  </thead>\n",
       "  <tbody>\n",
       "    <tr>\n",
       "      <th>0</th>\n",
       "      <td>I love working for Apple! The pay and benefits...</td>\n",
       "      <td>[love, working, apple, pay, benefits, great, m...</td>\n",
       "      <td>[love, working, apple, pay, benefit, great, ma...</td>\n",
       "    </tr>\n",
       "    <tr>\n",
       "      <th>1</th>\n",
       "      <td>We work with geniuses - in every department, W...</td>\n",
       "      <td>[work, geniuses, every, department, create, in...</td>\n",
       "      <td>[work, genius, every, department, create, inno...</td>\n",
       "    </tr>\n",
       "    <tr>\n",
       "      <th>2</th>\n",
       "      <td>Competitive Pay, Great Benefits, Amazing Peopl...</td>\n",
       "      <td>[competitive, pay, great, benefits, amazing, p...</td>\n",
       "      <td>[competitive, pay, great, benefit, amaze, peop...</td>\n",
       "    </tr>\n",
       "    <tr>\n",
       "      <th>3</th>\n",
       "      <td>The position is at home. The company is AMAZIN...</td>\n",
       "      <td>[position, home, company, amazing, limitless, ...</td>\n",
       "      <td>[position, home, company, amaze, limitless, ad...</td>\n",
       "    </tr>\n",
       "    <tr>\n",
       "      <th>4</th>\n",
       "      <td>Working at Apple means that the things you wor...</td>\n",
       "      <td>[working, apple, means, things, work, get, han...</td>\n",
       "      <td>[working, apple, means, things, work, get, han...</td>\n",
       "    </tr>\n",
       "  </tbody>\n",
       "</table>\n",
       "</div>"
      ],
      "text/plain": [
       "                                                Pros  \\\n",
       "0  I love working for Apple! The pay and benefits...   \n",
       "1  We work with geniuses - in every department, W...   \n",
       "2  Competitive Pay, Great Benefits, Amazing Peopl...   \n",
       "3  The position is at home. The company is AMAZIN...   \n",
       "4  Working at Apple means that the things you wor...   \n",
       "\n",
       "                                         pros_tokens  \\\n",
       "0  [love, working, apple, pay, benefits, great, m...   \n",
       "1  [work, geniuses, every, department, create, in...   \n",
       "2  [competitive, pay, great, benefits, amazing, p...   \n",
       "3  [position, home, company, amazing, limitless, ...   \n",
       "4  [working, apple, means, things, work, get, han...   \n",
       "\n",
       "                                   pros_lemma_tokens  \n",
       "0  [love, working, apple, pay, benefit, great, ma...  \n",
       "1  [work, genius, every, department, create, inno...  \n",
       "2  [competitive, pay, great, benefit, amaze, peop...  \n",
       "3  [position, home, company, amaze, limitless, ad...  \n",
       "4  [working, apple, means, things, work, get, han...  "
      ]
     },
     "execution_count": 87,
     "metadata": {},
     "output_type": "execute_result"
    }
   ],
   "source": [
    "pros_app.head()"
   ]
  },
  {
   "cell_type": "code",
   "execution_count": 95,
   "metadata": {},
   "outputs": [
    {
     "name": "stdout",
     "output_type": "stream",
     "text": [
      " For Pros, 5 topics are defined as follows: \n",
      "(0, '0.214*\"good\" + 0.050*\"work\" + 0.049*\"pay\" + 0.048*\"benefit\"')\n",
      "(1, '0.057*\"le\" + 0.018*\"software\" + 0.018*\"motivate\" + 0.017*\"high\"')\n",
      "(2, '0.022*\"skill\" + 0.022*\"opportunity\" + 0.018*\"help\" + 0.017*\"learn\"')\n",
      "(3, '0.049*\"company\" + 0.040*\"brand\" + 0.028*\"world\" + 0.024*\"big\"')\n",
      "(4, '0.169*\"great\" + 0.068*\"benefit\" + 0.036*\"company\" + 0.036*\"culture\"')\n",
      "(5, '0.048*\"product\" + 0.029*\"apple\" + 0.027*\"customer\" + 0.025*\"technology\"')\n",
      "(6, '0.035*\"de\" + 0.012*\"la\" + 0.011*\"des\" + 0.010*\"une\"')\n",
      "(7, '0.072*\"benefit\" + 0.064*\"discount\" + 0.054*\"great\" + 0.040*\"employee\"')\n",
      "(8, '0.089*\"people\" + 0.086*\"work\" + 0.079*\"great\" + 0.051*\"environment\"')\n",
      "(9, '0.064*\"apple\" + 0.051*\"work\" + 0.030*\"people\" + 0.024*\"best\"')\n",
      " For Cons, 5 topics are defined as follows: \n",
      "(0, '0.024*\"management\" + 0.022*\"manager\" + 0.020*\"get\" + 0.016*\"people\" + 0.016*\"employee\"')\n",
      "(1, '0.042*\"customer\" + 0.031*\"hours\" + 0.029*\"time\" + 0.026*\"retail\" + 0.024*\"long\"')\n",
      "(2, '0.027*\"et\" + 0.026*\"la\" + 0.017*\"progression\" + 0.015*\"set\" + 0.014*\"competitive\"')\n",
      "(3, '0.036*\"le\" + 0.011*\"management\" + 0.007*\"au\" + 0.007*\"manager\" + 0.006*\"1\"')\n",
      "(4, '0.046*\"apple\" + 0.030*\"con\" + 0.028*\"company\" + 0.027*\"think\" + 0.024*\"really\"')\n",
      "(5, '0.062*\"retail\" + 0.043*\"management\" + 0.032*\"opportunity\" + 0.027*\"career\" + 0.023*\"growth\"')\n",
      "(6, '0.099*\"work\" + 0.065*\"balance\" + 0.053*\"life\" + 0.037*\"schedule\" + 0.028*\"worklife\"')\n",
      "(7, '0.054*\"pay\" + 0.022*\"apple\" + 0.020*\"high\" + 0.020*\"employee\" + 0.020*\"low\"')\n",
      "(8, '0.047*\"de\" + 0.025*\"le\" + 0.018*\"pas\" + 0.013*\"à\" + 0.010*\"en\"')\n",
      "(9, '0.019*\"lots\" + 0.019*\"times\" + 0.018*\"policy\" + 0.015*\"better\" + 0.013*\"bit\"')\n"
     ]
    }
   ],
   "source": [
    "topics_app = topics_reveal(pros_app, cons_app, 10,5)"
   ]
  },
  {
   "cell_type": "markdown",
   "metadata": {},
   "source": [
    "### Pros: good work, skills and learning, brand value, Best people, Technology\n",
    "### Cons: management, long customer retail time, low pay, policies "
   ]
  },
  {
   "cell_type": "code",
   "execution_count": null,
   "metadata": {
    "collapsed": true
   },
   "outputs": [],
   "source": []
  },
  {
   "cell_type": "markdown",
   "metadata": {},
   "source": [
    "### For Charles Schwab"
   ]
  },
  {
   "cell_type": "code",
   "execution_count": 96,
   "metadata": {
    "collapsed": true
   },
   "outputs": [],
   "source": [
    "df_chwb = pd.read_csv('Scraper/charles.csv', encoding= \"iso-8859-1\")"
   ]
  },
  {
   "cell_type": "code",
   "execution_count": 97,
   "metadata": {},
   "outputs": [
    {
     "data": {
      "text/html": [
       "<div>\n",
       "<style scoped>\n",
       "    .dataframe tbody tr th:only-of-type {\n",
       "        vertical-align: middle;\n",
       "    }\n",
       "\n",
       "    .dataframe tbody tr th {\n",
       "        vertical-align: top;\n",
       "    }\n",
       "\n",
       "    .dataframe thead th {\n",
       "        text-align: right;\n",
       "    }\n",
       "</style>\n",
       "<table border=\"1\" class=\"dataframe\">\n",
       "  <thead>\n",
       "    <tr style=\"text-align: right;\">\n",
       "      <th></th>\n",
       "      <th>Title</th>\n",
       "      <th>Date Written</th>\n",
       "      <th>Rating</th>\n",
       "      <th>Current/Former</th>\n",
       "      <th>Job Title</th>\n",
       "      <th>Location</th>\n",
       "      <th>Recommendation?</th>\n",
       "      <th>Outlook</th>\n",
       "      <th>Main Text</th>\n",
       "      <th>Pros</th>\n",
       "      <th>Cons</th>\n",
       "      <th>Advice to management</th>\n",
       "    </tr>\n",
       "  </thead>\n",
       "  <tbody>\n",
       "    <tr>\n",
       "      <th>0</th>\n",
       "      <td>\"Senior Manager\"</td>\n",
       "      <td>Oct 4, 2018</td>\n",
       "      <td>5.0</td>\n",
       "      <td>Current Employee</td>\n",
       "      <td>Senior Manager</td>\n",
       "      <td>San Francisco, CA</td>\n",
       "      <td>Recommends</td>\n",
       "      <td>Positive Outlook</td>\n",
       "      <td>Benefits are comparable to other financial ser...</td>\n",
       "      <td>Great work/life balance</td>\n",
       "      <td>Company isn't doing enough to ensure equal rep...</td>\n",
       "      <td>Create a formal policy for pay parity</td>\n",
       "    </tr>\n",
       "    <tr>\n",
       "      <th>1</th>\n",
       "      <td>\"Specialist - Operations\"</td>\n",
       "      <td>Oct 2, 2018</td>\n",
       "      <td>5.0</td>\n",
       "      <td>Current Employee</td>\n",
       "      <td>Anonymous Employee</td>\n",
       "      <td>Lonetree, CO</td>\n",
       "      <td>Recommends</td>\n",
       "      <td>Positive Outlook</td>\n",
       "      <td>I have been working at Charles Schwab full-tim...</td>\n",
       "      <td>Culture, Sabbaticals, Volunteering opportuniti...</td>\n",
       "      <td>Very top heavy for management.</td>\n",
       "      <td>NaN</td>\n",
       "    </tr>\n",
       "    <tr>\n",
       "      <th>2</th>\n",
       "      <td>\"Business Analyst\"</td>\n",
       "      <td>Sep 30, 2018</td>\n",
       "      <td>5.0</td>\n",
       "      <td>Current Employee</td>\n",
       "      <td>Business Analyst</td>\n",
       "      <td>Austin, TX</td>\n",
       "      <td>Recommends</td>\n",
       "      <td>Positive Outlook</td>\n",
       "      <td>I have been working at Charles Schwab full-tim...</td>\n",
       "      <td>Charles Schwab is a an excellent Company. Even...</td>\n",
       "      <td>Something vertical movement can be a little slow.</td>\n",
       "      <td>NaN</td>\n",
       "    </tr>\n",
       "    <tr>\n",
       "      <th>3</th>\n",
       "      <td>\"Great Culture\"</td>\n",
       "      <td>Sep 26, 2018</td>\n",
       "      <td>5.0</td>\n",
       "      <td>Current Employee</td>\n",
       "      <td>Talent Sourcing Advisor</td>\n",
       "      <td>Chicago, IL</td>\n",
       "      <td>Recommends</td>\n",
       "      <td>Positive Outlook</td>\n",
       "      <td>I have been working at Charles Schwab full-tim...</td>\n",
       "      <td>Great management that truly cares about its em...</td>\n",
       "      <td>not a large campus in Chicago</td>\n",
       "      <td>NaN</td>\n",
       "    </tr>\n",
       "    <tr>\n",
       "      <th>4</th>\n",
       "      <td>\"Job Review\"</td>\n",
       "      <td>Sep 26, 2018</td>\n",
       "      <td>5.0</td>\n",
       "      <td>Current Employee</td>\n",
       "      <td>Anonymous Employee</td>\n",
       "      <td>NaN</td>\n",
       "      <td>NaN</td>\n",
       "      <td>NaN</td>\n",
       "      <td>I have been working at Charles Schwab full-time</td>\n",
       "      <td>Very nice environment to work in.</td>\n",
       "      <td>no cons come to my mind</td>\n",
       "      <td>Keep up the good work</td>\n",
       "    </tr>\n",
       "  </tbody>\n",
       "</table>\n",
       "</div>"
      ],
      "text/plain": [
       "                       Title  Date Written  Rating    Current/Former  \\\n",
       "0           \"Senior Manager\"   Oct 4, 2018     5.0  Current Employee   \n",
       "1  \"Specialist - Operations\"   Oct 2, 2018     5.0  Current Employee   \n",
       "2         \"Business Analyst\"  Sep 30, 2018     5.0  Current Employee   \n",
       "3            \"Great Culture\"  Sep 26, 2018     5.0  Current Employee   \n",
       "4               \"Job Review\"  Sep 26, 2018     5.0  Current Employee   \n",
       "\n",
       "                 Job Title           Location Recommendation?  \\\n",
       "0           Senior Manager  San Francisco, CA      Recommends   \n",
       "1       Anonymous Employee       Lonetree, CO      Recommends   \n",
       "2         Business Analyst         Austin, TX      Recommends   \n",
       "3  Talent Sourcing Advisor        Chicago, IL      Recommends   \n",
       "4       Anonymous Employee                NaN             NaN   \n",
       "\n",
       "            Outlook                                          Main Text  \\\n",
       "0  Positive Outlook  Benefits are comparable to other financial ser...   \n",
       "1  Positive Outlook  I have been working at Charles Schwab full-tim...   \n",
       "2  Positive Outlook  I have been working at Charles Schwab full-tim...   \n",
       "3  Positive Outlook  I have been working at Charles Schwab full-tim...   \n",
       "4               NaN    I have been working at Charles Schwab full-time   \n",
       "\n",
       "                                                Pros  \\\n",
       "0                            Great work/life balance   \n",
       "1  Culture, Sabbaticals, Volunteering opportuniti...   \n",
       "2  Charles Schwab is a an excellent Company. Even...   \n",
       "3  Great management that truly cares about its em...   \n",
       "4                  Very nice environment to work in.   \n",
       "\n",
       "                                                Cons  \\\n",
       "0  Company isn't doing enough to ensure equal rep...   \n",
       "1                     Very top heavy for management.   \n",
       "2  Something vertical movement can be a little slow.   \n",
       "3                      not a large campus in Chicago   \n",
       "4                            no cons come to my mind   \n",
       "\n",
       "                    Advice to management  \n",
       "0  Create a formal policy for pay parity  \n",
       "1                                    NaN  \n",
       "2                                    NaN  \n",
       "3                                    NaN  \n",
       "4                  Keep up the good work  "
      ]
     },
     "execution_count": 97,
     "metadata": {},
     "output_type": "execute_result"
    }
   ],
   "source": [
    "df_chwb.head()"
   ]
  },
  {
   "cell_type": "code",
   "execution_count": 98,
   "metadata": {
    "collapsed": true
   },
   "outputs": [],
   "source": [
    "pros_chwb, cons_chwb = dataprep(df_chwb)"
   ]
  },
  {
   "cell_type": "code",
   "execution_count": 99,
   "metadata": {},
   "outputs": [
    {
     "data": {
      "text/html": [
       "<div>\n",
       "<style scoped>\n",
       "    .dataframe tbody tr th:only-of-type {\n",
       "        vertical-align: middle;\n",
       "    }\n",
       "\n",
       "    .dataframe tbody tr th {\n",
       "        vertical-align: top;\n",
       "    }\n",
       "\n",
       "    .dataframe thead th {\n",
       "        text-align: right;\n",
       "    }\n",
       "</style>\n",
       "<table border=\"1\" class=\"dataframe\">\n",
       "  <thead>\n",
       "    <tr style=\"text-align: right;\">\n",
       "      <th></th>\n",
       "      <th>Pros</th>\n",
       "      <th>pros_tokens</th>\n",
       "      <th>pros_lemma_tokens</th>\n",
       "    </tr>\n",
       "  </thead>\n",
       "  <tbody>\n",
       "    <tr>\n",
       "      <th>0</th>\n",
       "      <td>Great work/life balance</td>\n",
       "      <td>[great, worklife, balance]</td>\n",
       "      <td>[great, worklife, balance]</td>\n",
       "    </tr>\n",
       "    <tr>\n",
       "      <th>1</th>\n",
       "      <td>Culture, Sabbaticals, Volunteering opportuniti...</td>\n",
       "      <td>[culture, sabbaticals, volunteering, opportuni...</td>\n",
       "      <td>[culture, sabbatical, volunteer, opportunity, ...</td>\n",
       "    </tr>\n",
       "    <tr>\n",
       "      <th>2</th>\n",
       "      <td>Charles Schwab is a an excellent Company. Even...</td>\n",
       "      <td>[charles, schwab, excellent, company, even, th...</td>\n",
       "      <td>[charles, schwab, excellent, company, even, th...</td>\n",
       "    </tr>\n",
       "    <tr>\n",
       "      <th>3</th>\n",
       "      <td>Great management that truly cares about its em...</td>\n",
       "      <td>[great, management, truly, cares, employees, c...</td>\n",
       "      <td>[great, management, truly, care, employee, coa...</td>\n",
       "    </tr>\n",
       "    <tr>\n",
       "      <th>4</th>\n",
       "      <td>Very nice environment to work in.</td>\n",
       "      <td>[nice, environment, work]</td>\n",
       "      <td>[nice, environment, work]</td>\n",
       "    </tr>\n",
       "  </tbody>\n",
       "</table>\n",
       "</div>"
      ],
      "text/plain": [
       "                                                Pros  \\\n",
       "0                            Great work/life balance   \n",
       "1  Culture, Sabbaticals, Volunteering opportuniti...   \n",
       "2  Charles Schwab is a an excellent Company. Even...   \n",
       "3  Great management that truly cares about its em...   \n",
       "4                  Very nice environment to work in.   \n",
       "\n",
       "                                         pros_tokens  \\\n",
       "0                         [great, worklife, balance]   \n",
       "1  [culture, sabbaticals, volunteering, opportuni...   \n",
       "2  [charles, schwab, excellent, company, even, th...   \n",
       "3  [great, management, truly, cares, employees, c...   \n",
       "4                          [nice, environment, work]   \n",
       "\n",
       "                                   pros_lemma_tokens  \n",
       "0                         [great, worklife, balance]  \n",
       "1  [culture, sabbatical, volunteer, opportunity, ...  \n",
       "2  [charles, schwab, excellent, company, even, th...  \n",
       "3  [great, management, truly, care, employee, coa...  \n",
       "4                          [nice, environment, work]  "
      ]
     },
     "execution_count": 99,
     "metadata": {},
     "output_type": "execute_result"
    }
   ],
   "source": [
    "pros_chwb.head()"
   ]
  },
  {
   "cell_type": "code",
   "execution_count": 100,
   "metadata": {},
   "outputs": [
    {
     "name": "stdout",
     "output_type": "stream",
     "text": [
      " For Pros, 5 topics are defined as follows: \n",
      "(0, '0.096*\"work\" + 0.082*\"good\" + 0.077*\"great\" + 0.040*\"environment\"')\n",
      "(1, '0.051*\"good\" + 0.039*\"great\" + 0.026*\"manager\" + 0.025*\"schwab\"')\n",
      "(2, '0.066*\"benefit\" + 0.051*\"good\" + 0.036*\"generous\" + 0.031*\"work\"')\n",
      "(3, '0.038*\"company\" + 0.025*\"product\" + 0.025*\"benefit\" + 0.024*\"schwab\"')\n",
      "(4, '0.089*\"company\" + 0.047*\"make\" + 0.045*\"well\" + 0.042*\"respect\"')\n",
      " For Cons, 5 topics are defined as follows: \n",
      "(0, '0.019*\"employee\" + 0.017*\"one\" + 0.017*\"work\" + 0.013*\"pay\"')\n",
      "(1, '0.025*\"business\" + 0.020*\"management\" + 0.019*\"lack\" + 0.018*\"move\"')\n",
      "(2, '0.042*\"employee\" + 0.025*\"new\" + 0.025*\"care\" + 0.020*\"management\"')\n",
      "(3, '0.035*\"poor\" + 0.024*\"training\" + 0.024*\"employee\" + 0.024*\"con\"')\n",
      "(4, '0.033*\"lobby\" + 0.020*\"think\" + 0.019*\"customer\" + 0.018*\"really\"')\n"
     ]
    }
   ],
   "source": [
    "topics_chwb = topics_reveal(pros_chwb, cons_chwb)"
   ]
  },
  {
   "cell_type": "code",
   "execution_count": 101,
   "metadata": {},
   "outputs": [
    {
     "name": "stdout",
     "output_type": "stream",
     "text": [
      " For Pros, 5 topics are defined as follows: \n",
      "(0, '0.080*\"generous\" + 0.059*\"benefit\" + 0.042*\"people\" + 0.037*\"time\"')\n",
      "(1, '0.080*\"good\" + 0.066*\"training\" + 0.065*\"great\" + 0.064*\"place\"')\n",
      "(2, '0.092*\"excellent\" + 0.074*\"benefit\" + 0.074*\"bad\" + 0.066*\"good\"')\n",
      "(3, '0.077*\"like\" + 0.068*\"series\" + 0.068*\"7\" + 0.065*\"pay\"')\n",
      "(4, '0.061*\"manager\" + 0.047*\"great\" + 0.046*\"schwab\" + 0.042*\"well\"')\n",
      "(5, '0.092*\"good\" + 0.080*\"industry\" + 0.057*\"financial\" + 0.052*\"services\"')\n",
      "(6, '0.040*\"get\" + 0.038*\"market\" + 0.038*\"company\" + 0.036*\"act\"')\n",
      "(7, '0.082*\"great\" + 0.077*\"good\" + 0.063*\"work\" + 0.048*\"benefit\"')\n",
      "(8, '0.078*\"company\" + 0.051*\"work\" + 0.038*\"good\" + 0.033*\"friendly\"')\n",
      "(9, '0.113*\"peer\" + 0.072*\"support\" + 0.067*\"within\" + 0.065*\"fair\"')\n",
      " For Cons, 5 topics are defined as follows: \n",
      "(0, '0.046*\"think\" + 0.041*\"new\" + 0.040*\"like\" + 0.022*\"often\" + 0.022*\"internal\" + 0.022*\"direction\"')\n",
      "(1, '0.046*\"sometimes\" + 0.045*\"become\" + 0.043*\"customer\" + 0.036*\"mistake\" + 0.035*\"decline\" + 0.035*\"script\"')\n",
      "(2, '0.040*\"business\" + 0.029*\"leadership\" + 0.028*\"lack\" + 0.027*\"feel\" + 0.016*\"turnover\" + 0.015*\"area\"')\n",
      "(3, '0.046*\"employee\" + 0.035*\"really\" + 0.034*\"care\" + 0.032*\"trading\" + 0.032*\"platform\" + 0.031*\"sit\"')\n",
      "(4, '0.081*\"lobby\" + 0.047*\"con\" + 0.044*\"one\" + 0.044*\"bank\" + 0.023*\"really\" + 0.023*\"hours\"')\n",
      "(5, '0.048*\"new\" + 0.032*\"dont\" + 0.031*\"client\" + 0.030*\"career\" + 0.020*\"base\" + 0.019*\"process\"')\n",
      "(6, '0.016*\"company\" + 0.015*\"pay\" + 0.014*\"management\" + 0.012*\"get\" + 0.011*\"work\" + 0.010*\"job\"')\n",
      "(7, '0.039*\"pay\" + 0.026*\"company\" + 0.026*\"good\" + 0.025*\"way\" + 0.025*\"people\" + 0.024*\"work\"')\n",
      "(8, '0.040*\"employee\" + 0.037*\"one\" + 0.026*\"well\" + 0.015*\"career\" + 0.014*\"â\" + 0.014*\"call\"')\n",
      "(9, '0.045*\"training\" + 0.044*\"poor\" + 0.044*\"much\" + 0.041*\"political\" + 0.040*\"although\" + 0.040*\"employee\"')\n"
     ]
    }
   ],
   "source": [
    "topics_chwb_2 = topics_reveal(pros_chwb, cons_chwb, 10,6)"
   ]
  },
  {
   "cell_type": "markdown",
   "metadata": {},
   "source": [
    "### Pros: training, manager, benefits, peer support\n",
    "### Cons: politics, clients, turnovers"
   ]
  },
  {
   "cell_type": "code",
   "execution_count": null,
   "metadata": {
    "collapsed": true
   },
   "outputs": [],
   "source": []
  },
  {
   "cell_type": "markdown",
   "metadata": {},
   "source": [
    "### For Google"
   ]
  },
  {
   "cell_type": "code",
   "execution_count": 102,
   "metadata": {
    "collapsed": true
   },
   "outputs": [],
   "source": [
    "df_google = pd.read_csv('google1.csv', encoding= \"iso-8859-1\")\n"
   ]
  },
  {
   "cell_type": "code",
   "execution_count": 103,
   "metadata": {},
   "outputs": [
    {
     "data": {
      "text/html": [
       "<div>\n",
       "<style scoped>\n",
       "    .dataframe tbody tr th:only-of-type {\n",
       "        vertical-align: middle;\n",
       "    }\n",
       "\n",
       "    .dataframe tbody tr th {\n",
       "        vertical-align: top;\n",
       "    }\n",
       "\n",
       "    .dataframe thead th {\n",
       "        text-align: right;\n",
       "    }\n",
       "</style>\n",
       "<table border=\"1\" class=\"dataframe\">\n",
       "  <thead>\n",
       "    <tr style=\"text-align: right;\">\n",
       "      <th></th>\n",
       "      <th>Title</th>\n",
       "      <th>Date Written</th>\n",
       "      <th>Rating</th>\n",
       "      <th>Current/Former</th>\n",
       "      <th>Job Title</th>\n",
       "      <th>Location</th>\n",
       "      <th>Recommendation?</th>\n",
       "      <th>Outlook</th>\n",
       "      <th>Main Text</th>\n",
       "      <th>Pros</th>\n",
       "      <th>Cons</th>\n",
       "      <th>Advice to management</th>\n",
       "    </tr>\n",
       "  </thead>\n",
       "  <tbody>\n",
       "    <tr>\n",
       "      <th>0</th>\n",
       "      <td>\"Operations manager\"</td>\n",
       "      <td>Oct 5, 2018</td>\n",
       "      <td>5.0</td>\n",
       "      <td>Current Employee</td>\n",
       "      <td>Operations Manager</td>\n",
       "      <td>New York, NY</td>\n",
       "      <td>Recommends</td>\n",
       "      <td>Positive Outlook</td>\n",
       "      <td>I have been working at Google full-time (More ...</td>\n",
       "      <td>Perks, food, spaces, culture, health care and ...</td>\n",
       "      <td>Flat org, hard to grow</td>\n",
       "      <td>NaN</td>\n",
       "    </tr>\n",
       "    <tr>\n",
       "      <th>1</th>\n",
       "      <td>\"Moving at the speed of light, burn out is ine...</td>\n",
       "      <td>Jun 21, 2013</td>\n",
       "      <td>4.0</td>\n",
       "      <td>Former Employee</td>\n",
       "      <td>Program Manager</td>\n",
       "      <td>Mountain View, CA</td>\n",
       "      <td>Doesn't Recommend</td>\n",
       "      <td>Negative Outlook</td>\n",
       "      <td>Show More</td>\n",
       "      <td>1) Food, food, food. 15+ cafes on main campus ...</td>\n",
       "      <td>1) Work/life balance. What balance? All those ...</td>\n",
       "      <td>NaN</td>\n",
       "    </tr>\n",
       "    <tr>\n",
       "      <th>2</th>\n",
       "      <td>\"Great balance between big-company security an...</td>\n",
       "      <td>May 10, 2014</td>\n",
       "      <td>5.0</td>\n",
       "      <td>Current Employee</td>\n",
       "      <td>Software Engineer III</td>\n",
       "      <td>New York, NY</td>\n",
       "      <td>Recommends</td>\n",
       "      <td>Positive Outlook</td>\n",
       "      <td>Show More</td>\n",
       "      <td>* If you're a software engineer, you're among ...</td>\n",
       "      <td>* It *is* becoming larger, and with it comes g...</td>\n",
       "      <td>NaN</td>\n",
       "    </tr>\n",
       "    <tr>\n",
       "      <th>3</th>\n",
       "      <td>\"The best place I've worked and also the most ...</td>\n",
       "      <td>Feb 8, 2015</td>\n",
       "      <td>5.0</td>\n",
       "      <td>Current Employee</td>\n",
       "      <td>Anonymous Employee</td>\n",
       "      <td>Mountain View, CA</td>\n",
       "      <td>Recommends</td>\n",
       "      <td>Positive Outlook</td>\n",
       "      <td>Show More</td>\n",
       "      <td>You can't find a more well-regarded company th...</td>\n",
       "      <td>I live in SF so the commute can take between 1...</td>\n",
       "      <td>NaN</td>\n",
       "    </tr>\n",
       "    <tr>\n",
       "      <th>4</th>\n",
       "      <td>\"Unique, one of a kind dream job\"</td>\n",
       "      <td>Jul 19, 2018</td>\n",
       "      <td>5.0</td>\n",
       "      <td>Former Employee</td>\n",
       "      <td>Software Engineer</td>\n",
       "      <td>Los Angeles, CA</td>\n",
       "      <td>Recommends</td>\n",
       "      <td>Neutral Outlook</td>\n",
       "      <td>Roll back the trend towards becoming a regular...</td>\n",
       "      <td>Google is a world of its own. At every other c...</td>\n",
       "      <td>If you don't work in MTV (HQ), you will be giv...</td>\n",
       "      <td>NaN</td>\n",
       "    </tr>\n",
       "  </tbody>\n",
       "</table>\n",
       "</div>"
      ],
      "text/plain": [
       "                                               Title  Date Written  Rating  \\\n",
       "0                               \"Operations manager\"   Oct 5, 2018     5.0   \n",
       "1  \"Moving at the speed of light, burn out is ine...  Jun 21, 2013     4.0   \n",
       "2  \"Great balance between big-company security an...  May 10, 2014     5.0   \n",
       "3  \"The best place I've worked and also the most ...   Feb 8, 2015     5.0   \n",
       "4                  \"Unique, one of a kind dream job\"  Jul 19, 2018     5.0   \n",
       "\n",
       "     Current/Former              Job Title           Location  \\\n",
       "0  Current Employee     Operations Manager       New York, NY   \n",
       "1   Former Employee        Program Manager  Mountain View, CA   \n",
       "2  Current Employee  Software Engineer III       New York, NY   \n",
       "3  Current Employee     Anonymous Employee  Mountain View, CA   \n",
       "4   Former Employee      Software Engineer    Los Angeles, CA   \n",
       "\n",
       "     Recommendation?           Outlook  \\\n",
       "0         Recommends  Positive Outlook   \n",
       "1  Doesn't Recommend  Negative Outlook   \n",
       "2         Recommends  Positive Outlook   \n",
       "3         Recommends  Positive Outlook   \n",
       "4         Recommends   Neutral Outlook   \n",
       "\n",
       "                                           Main Text  \\\n",
       "0  I have been working at Google full-time (More ...   \n",
       "1                                          Show More   \n",
       "2                                          Show More   \n",
       "3                                          Show More   \n",
       "4  Roll back the trend towards becoming a regular...   \n",
       "\n",
       "                                                Pros  \\\n",
       "0  Perks, food, spaces, culture, health care and ...   \n",
       "1  1) Food, food, food. 15+ cafes on main campus ...   \n",
       "2  * If you're a software engineer, you're among ...   \n",
       "3  You can't find a more well-regarded company th...   \n",
       "4  Google is a world of its own. At every other c...   \n",
       "\n",
       "                                                Cons  Advice to management  \n",
       "0                             Flat org, hard to grow                   NaN  \n",
       "1  1) Work/life balance. What balance? All those ...                   NaN  \n",
       "2  * It *is* becoming larger, and with it comes g...                   NaN  \n",
       "3  I live in SF so the commute can take between 1...                   NaN  \n",
       "4  If you don't work in MTV (HQ), you will be giv...                   NaN  "
      ]
     },
     "execution_count": 103,
     "metadata": {},
     "output_type": "execute_result"
    }
   ],
   "source": [
    "df_google.head()"
   ]
  },
  {
   "cell_type": "code",
   "execution_count": 104,
   "metadata": {
    "collapsed": true
   },
   "outputs": [],
   "source": [
    "pros_ggl, cons_ggl = dataprep(df_google)"
   ]
  },
  {
   "cell_type": "code",
   "execution_count": 105,
   "metadata": {},
   "outputs": [
    {
     "data": {
      "text/html": [
       "<div>\n",
       "<style scoped>\n",
       "    .dataframe tbody tr th:only-of-type {\n",
       "        vertical-align: middle;\n",
       "    }\n",
       "\n",
       "    .dataframe tbody tr th {\n",
       "        vertical-align: top;\n",
       "    }\n",
       "\n",
       "    .dataframe thead th {\n",
       "        text-align: right;\n",
       "    }\n",
       "</style>\n",
       "<table border=\"1\" class=\"dataframe\">\n",
       "  <thead>\n",
       "    <tr style=\"text-align: right;\">\n",
       "      <th></th>\n",
       "      <th>Pros</th>\n",
       "      <th>pros_tokens</th>\n",
       "      <th>pros_lemma_tokens</th>\n",
       "    </tr>\n",
       "  </thead>\n",
       "  <tbody>\n",
       "    <tr>\n",
       "      <th>0</th>\n",
       "      <td>Perks, food, spaces, culture, health care and ...</td>\n",
       "      <td>[perks, food, spaces, culture, health, care, w...</td>\n",
       "      <td>[perk, food, space, culture, health, care, wor...</td>\n",
       "    </tr>\n",
       "    <tr>\n",
       "      <th>1</th>\n",
       "      <td>1) Food, food, food. 15+ cafes on main campus ...</td>\n",
       "      <td>[1, food, food, food, 15, cafes, main, campus,...</td>\n",
       "      <td>[1, food, food, food, 15, cafe, main, campus, ...</td>\n",
       "    </tr>\n",
       "    <tr>\n",
       "      <th>2</th>\n",
       "      <td>* If you're a software engineer, you're among ...</td>\n",
       "      <td>[youre, software, engineer, youre, among, king...</td>\n",
       "      <td>[youre, software, engineer, youre, among, king...</td>\n",
       "    </tr>\n",
       "    <tr>\n",
       "      <th>3</th>\n",
       "      <td>You can't find a more well-regarded company th...</td>\n",
       "      <td>[cant, find, wellregarded, company, actually, ...</td>\n",
       "      <td>[cant, find, wellregarded, company, actually, ...</td>\n",
       "    </tr>\n",
       "    <tr>\n",
       "      <th>4</th>\n",
       "      <td>Google is a world of its own. At every other c...</td>\n",
       "      <td>[google, world, every, company, lots, people, ...</td>\n",
       "      <td>[google, world, every, company, lots, people, ...</td>\n",
       "    </tr>\n",
       "  </tbody>\n",
       "</table>\n",
       "</div>"
      ],
      "text/plain": [
       "                                                Pros  \\\n",
       "0  Perks, food, spaces, culture, health care and ...   \n",
       "1  1) Food, food, food. 15+ cafes on main campus ...   \n",
       "2  * If you're a software engineer, you're among ...   \n",
       "3  You can't find a more well-regarded company th...   \n",
       "4  Google is a world of its own. At every other c...   \n",
       "\n",
       "                                         pros_tokens  \\\n",
       "0  [perks, food, spaces, culture, health, care, w...   \n",
       "1  [1, food, food, food, 15, cafes, main, campus,...   \n",
       "2  [youre, software, engineer, youre, among, king...   \n",
       "3  [cant, find, wellregarded, company, actually, ...   \n",
       "4  [google, world, every, company, lots, people, ...   \n",
       "\n",
       "                                   pros_lemma_tokens  \n",
       "0  [perk, food, space, culture, health, care, wor...  \n",
       "1  [1, food, food, food, 15, cafe, main, campus, ...  \n",
       "2  [youre, software, engineer, youre, among, king...  \n",
       "3  [cant, find, wellregarded, company, actually, ...  \n",
       "4  [google, world, every, company, lots, people, ...  "
      ]
     },
     "execution_count": 105,
     "metadata": {},
     "output_type": "execute_result"
    }
   ],
   "source": [
    "pros_ggl.head()"
   ]
  },
  {
   "cell_type": "code",
   "execution_count": 106,
   "metadata": {},
   "outputs": [
    {
     "data": {
      "text/html": [
       "<div>\n",
       "<style scoped>\n",
       "    .dataframe tbody tr th:only-of-type {\n",
       "        vertical-align: middle;\n",
       "    }\n",
       "\n",
       "    .dataframe tbody tr th {\n",
       "        vertical-align: top;\n",
       "    }\n",
       "\n",
       "    .dataframe thead th {\n",
       "        text-align: right;\n",
       "    }\n",
       "</style>\n",
       "<table border=\"1\" class=\"dataframe\">\n",
       "  <thead>\n",
       "    <tr style=\"text-align: right;\">\n",
       "      <th></th>\n",
       "      <th>Cons</th>\n",
       "      <th>cons_tokens</th>\n",
       "      <th>cons_lemma_tokens</th>\n",
       "    </tr>\n",
       "  </thead>\n",
       "  <tbody>\n",
       "    <tr>\n",
       "      <th>0</th>\n",
       "      <td>Flat org, hard to grow</td>\n",
       "      <td>[flat, org, hard, grow]</td>\n",
       "      <td>[flat, org, hard, grow]</td>\n",
       "    </tr>\n",
       "    <tr>\n",
       "      <th>1</th>\n",
       "      <td>1) Work/life balance. What balance? All those ...</td>\n",
       "      <td>[1, worklife, balance, balance, perks, benefit...</td>\n",
       "      <td>[1, worklife, balance, balance, perk, benefit,...</td>\n",
       "    </tr>\n",
       "    <tr>\n",
       "      <th>2</th>\n",
       "      <td>* It *is* becoming larger, and with it comes g...</td>\n",
       "      <td>[becoming, larger, comes, growing, pains, bure...</td>\n",
       "      <td>[become, larger, come, growing, pains, bureauc...</td>\n",
       "    </tr>\n",
       "    <tr>\n",
       "      <th>3</th>\n",
       "      <td>I live in SF so the commute can take between 1...</td>\n",
       "      <td>[live, sf, commute, take, 15, hours, 175, hour...</td>\n",
       "      <td>[live, sf, commute, take, 15, hours, 175, hour...</td>\n",
       "    </tr>\n",
       "    <tr>\n",
       "      <th>4</th>\n",
       "      <td>If you don't work in MTV (HQ), you will be giv...</td>\n",
       "      <td>[dont, work, mtv, hq, given, work, however, pa...</td>\n",
       "      <td>[dont, work, mtv, hq, given, work, however, pa...</td>\n",
       "    </tr>\n",
       "  </tbody>\n",
       "</table>\n",
       "</div>"
      ],
      "text/plain": [
       "                                                Cons  \\\n",
       "0                             Flat org, hard to grow   \n",
       "1  1) Work/life balance. What balance? All those ...   \n",
       "2  * It *is* becoming larger, and with it comes g...   \n",
       "3  I live in SF so the commute can take between 1...   \n",
       "4  If you don't work in MTV (HQ), you will be giv...   \n",
       "\n",
       "                                         cons_tokens  \\\n",
       "0                            [flat, org, hard, grow]   \n",
       "1  [1, worklife, balance, balance, perks, benefit...   \n",
       "2  [becoming, larger, comes, growing, pains, bure...   \n",
       "3  [live, sf, commute, take, 15, hours, 175, hour...   \n",
       "4  [dont, work, mtv, hq, given, work, however, pa...   \n",
       "\n",
       "                                   cons_lemma_tokens  \n",
       "0                            [flat, org, hard, grow]  \n",
       "1  [1, worklife, balance, balance, perk, benefit,...  \n",
       "2  [become, larger, come, growing, pains, bureauc...  \n",
       "3  [live, sf, commute, take, 15, hours, 175, hour...  \n",
       "4  [dont, work, mtv, hq, given, work, however, pa...  "
      ]
     },
     "execution_count": 106,
     "metadata": {},
     "output_type": "execute_result"
    }
   ],
   "source": [
    "cons_ggl.head()"
   ]
  },
  {
   "cell_type": "code",
   "execution_count": 107,
   "metadata": {},
   "outputs": [
    {
     "name": "stdout",
     "output_type": "stream",
     "text": [
      " For Pros, 5 topics are defined as follows: \n",
      "(0, '0.108*\"people\" + 0.070*\"smart\" + 0.030*\"work\" + 0.020*\"really\"')\n",
      "(1, '0.166*\"food\" + 0.114*\"free\" + 0.025*\"gym\" + 0.021*\"perk\"')\n",
      "(2, '0.048*\"opportunity\" + 0.033*\"great\" + 0.032*\"project\" + 0.031*\"interest\"')\n",
      "(3, '0.015*\"und\" + 0.013*\"de\" + 0.012*\"allow\" + 0.010*\"network\"')\n",
      "(4, '0.055*\"best\" + 0.054*\"google\" + 0.033*\"company\" + 0.027*\"world\"')\n",
      "(5, '0.193*\"great\" + 0.065*\"people\" + 0.056*\"work\" + 0.054*\"perk\"')\n",
      "(6, '0.107*\"work\" + 0.065*\"place\" + 0.042*\"good\" + 0.035*\"environment\"')\n",
      "(7, '0.095*\"work\" + 0.082*\"balance\" + 0.067*\"life\" + 0.038*\"flexible\"')\n",
      "(8, '0.028*\"high\" + 0.027*\"pay\" + 0.024*\"team\" + 0.023*\"fast\"')\n",
      "(9, '0.207*\"good\" + 0.043*\"company\" + 0.040*\"pay\" + 0.035*\"benefit\"')\n",
      " For Cons, 5 topics are defined as follows: \n",
      "(0, '0.043*\"get\" + 0.037*\"work\" + 0.032*\"hard\" + 0.029*\"people\" + 0.020*\"project\" + 0.015*\"many\"')\n",
      "(1, '0.030*\"management\" + 0.018*\"process\" + 0.016*\"middle\" + 0.015*\"manager\" + 0.014*\"change\" + 0.014*\"structure\"')\n",
      "(2, '0.050*\"long\" + 0.037*\"hours\" + 0.032*\"office\" + 0.026*\"salary\" + 0.026*\"think\" + 0.019*\"growth\"')\n",
      "(3, '0.036*\"people\" + 0.034*\"google\" + 0.027*\"none\" + 0.020*\"many\" + 0.019*\"culture\" + 0.013*\"company\"')\n",
      "(4, '0.100*\"company\" + 0.048*\"big\" + 0.024*\"large\" + 0.019*\"slow\" + 0.018*\"become\" + 0.017*\"google\"')\n",
      "(5, '0.042*\"management\" + 0.019*\"employee\" + 0.015*\"google\" + 0.012*\"better\" + 0.011*\"could\" + 0.011*\"level\"')\n",
      "(6, '0.025*\"manager\" + 0.017*\"de\" + 0.017*\"food\" + 0.015*\"experience\" + 0.013*\"great\" + 0.011*\"free\"')\n",
      "(7, '0.094*\"con\" + 0.032*\"competitive\" + 0.021*\"dont\" + 0.021*\"environment\" + 0.019*\"google\" + 0.017*\"working\"')\n",
      "(8, '0.094*\"work\" + 0.037*\"balance\" + 0.035*\"nothing\" + 0.029*\"life\" + 0.022*\"good\" + 0.016*\"high\"')\n",
      "(9, '0.024*\"career\" + 0.013*\"people\" + 0.012*\"development\" + 0.010*\"organization\" + 0.008*\"role\" + 0.008*\"sales\"')\n"
     ]
    }
   ],
   "source": [
    "topics_ggl = topics_reveal(pros_ggl, cons_ggl, 10, 6)"
   ]
  },
  {
   "cell_type": "markdown",
   "metadata": {},
   "source": [
    "### Pros: Smart people, free food-perks, networking, pay, work life balance\n",
    "### Cons: Middle management and structure, long hours, roles organization"
   ]
  },
  {
   "cell_type": "code",
   "execution_count": 108,
   "metadata": {
    "collapsed": true
   },
   "outputs": [],
   "source": [
    "### Ttying cons with rating lower than mean"
   ]
  },
  {
   "cell_type": "code",
   "execution_count": 109,
   "metadata": {
    "collapsed": true
   },
   "outputs": [],
   "source": [
    "df_ggl_poor = df_google[df_google['Rating'] <= np.mean(df_google['Rating'])]"
   ]
  },
  {
   "cell_type": "code",
   "execution_count": 111,
   "metadata": {},
   "outputs": [
    {
     "data": {
      "text/plain": [
       "4.335429769392033"
      ]
     },
     "execution_count": 111,
     "metadata": {},
     "output_type": "execute_result"
    }
   ],
   "source": [
    "df_google['Rating'].mean()"
   ]
  },
  {
   "cell_type": "code",
   "execution_count": 115,
   "metadata": {},
   "outputs": [],
   "source": [
    "df_app_poor = df_app[df_app['Rating'] <= np.mean(df_app['Rating'])]"
   ]
  },
  {
   "cell_type": "code",
   "execution_count": 116,
   "metadata": {
    "scrolled": true
   },
   "outputs": [
    {
     "data": {
      "text/html": [
       "<div>\n",
       "<style scoped>\n",
       "    .dataframe tbody tr th:only-of-type {\n",
       "        vertical-align: middle;\n",
       "    }\n",
       "\n",
       "    .dataframe tbody tr th {\n",
       "        vertical-align: top;\n",
       "    }\n",
       "\n",
       "    .dataframe thead th {\n",
       "        text-align: right;\n",
       "    }\n",
       "</style>\n",
       "<table border=\"1\" class=\"dataframe\">\n",
       "  <thead>\n",
       "    <tr style=\"text-align: right;\">\n",
       "      <th></th>\n",
       "      <th>Title</th>\n",
       "      <th>Date Written</th>\n",
       "      <th>Rating</th>\n",
       "      <th>Current/Former</th>\n",
       "      <th>Job Title</th>\n",
       "      <th>Location</th>\n",
       "      <th>Recommendation?</th>\n",
       "      <th>Outlook</th>\n",
       "      <th>Main Text</th>\n",
       "      <th>Pros</th>\n",
       "      <th>Cons</th>\n",
       "      <th>Advice to management</th>\n",
       "    </tr>\n",
       "  </thead>\n",
       "  <tbody>\n",
       "    <tr>\n",
       "      <th>68</th>\n",
       "      <td>\"Tech Specialist\"</td>\n",
       "      <td>Oct 5, 2018</td>\n",
       "      <td>3.0</td>\n",
       "      <td>Former Employee</td>\n",
       "      <td>Anonymous Employee</td>\n",
       "      <td>NaN</td>\n",
       "      <td>Recommends</td>\n",
       "      <td>Neutral Outlook</td>\n",
       "      <td>Too much politics.</td>\n",
       "      <td>Great Job for College Students.</td>\n",
       "      <td>Demanding hours. You'll never have a free week...</td>\n",
       "      <td>stop making it so difficult to request off.</td>\n",
       "    </tr>\n",
       "    <tr>\n",
       "      <th>69</th>\n",
       "      <td>\"Do it for the money\"</td>\n",
       "      <td>Oct 5, 2018</td>\n",
       "      <td>2.0</td>\n",
       "      <td>Former Employee</td>\n",
       "      <td>Anonymous Employee</td>\n",
       "      <td>NaN</td>\n",
       "      <td>NaN</td>\n",
       "      <td>NaN</td>\n",
       "      <td>Poor customer service training</td>\n",
       "      <td>Higher part time wages</td>\n",
       "      <td>NPS obsessed</td>\n",
       "      <td>NaN</td>\n",
       "    </tr>\n",
       "    <tr>\n",
       "      <th>72</th>\n",
       "      <td>\"Specialist\"</td>\n",
       "      <td>Oct 4, 2018</td>\n",
       "      <td>3.0</td>\n",
       "      <td>Current Employee</td>\n",
       "      <td>Specialist</td>\n",
       "      <td>Los Angeles, CA</td>\n",
       "      <td>Recommends</td>\n",
       "      <td>Positive Outlook</td>\n",
       "      <td>I have been working at Apple full-time (More t...</td>\n",
       "      <td>health care for both PT &amp; FT, better coverage ...</td>\n",
       "      <td>Its retail so wage growth is minuscule. Corpo...</td>\n",
       "      <td>Pay more. Better discounts. Hire more people d...</td>\n",
       "    </tr>\n",
       "    <tr>\n",
       "      <th>73</th>\n",
       "      <td>\"Tech support\"</td>\n",
       "      <td>Oct 4, 2018</td>\n",
       "      <td>2.0</td>\n",
       "      <td>Former Employee</td>\n",
       "      <td>Anonymous Employee</td>\n",
       "      <td>NaN</td>\n",
       "      <td>NaN</td>\n",
       "      <td>NaN</td>\n",
       "      <td>I worked at Apple (More than 3 years)</td>\n",
       "      <td>Working from home was great</td>\n",
       "      <td>High turnover rate and no room for advancement</td>\n",
       "      <td>NaN</td>\n",
       "    </tr>\n",
       "    <tr>\n",
       "      <th>78</th>\n",
       "      <td>\"Meat Grinder\"</td>\n",
       "      <td>Oct 2, 2018</td>\n",
       "      <td>3.0</td>\n",
       "      <td>Former Employee</td>\n",
       "      <td>IOS Senior Advisor</td>\n",
       "      <td>Spokane, WA</td>\n",
       "      <td>Doesn't Recommend</td>\n",
       "      <td>Positive Outlook</td>\n",
       "      <td>Show More</td>\n",
       "      <td>It's a huge company with a lot of job openings.</td>\n",
       "      <td>It's easier to get hired in at a high level th...</td>\n",
       "      <td>Promote from within long before you hire from ...</td>\n",
       "    </tr>\n",
       "  </tbody>\n",
       "</table>\n",
       "</div>"
      ],
      "text/plain": [
       "                    Title Date Written  Rating    Current/Former  \\\n",
       "68      \"Tech Specialist\"  Oct 5, 2018     3.0   Former Employee   \n",
       "69  \"Do it for the money\"  Oct 5, 2018     2.0   Former Employee   \n",
       "72           \"Specialist\"  Oct 4, 2018     3.0  Current Employee   \n",
       "73         \"Tech support\"  Oct 4, 2018     2.0   Former Employee   \n",
       "78         \"Meat Grinder\"  Oct 2, 2018     3.0   Former Employee   \n",
       "\n",
       "             Job Title         Location    Recommendation?           Outlook  \\\n",
       "68  Anonymous Employee              NaN         Recommends   Neutral Outlook   \n",
       "69  Anonymous Employee              NaN                NaN               NaN   \n",
       "72          Specialist  Los Angeles, CA         Recommends  Positive Outlook   \n",
       "73  Anonymous Employee              NaN                NaN               NaN   \n",
       "78  IOS Senior Advisor      Spokane, WA  Doesn't Recommend  Positive Outlook   \n",
       "\n",
       "                                            Main Text  \\\n",
       "68                                 Too much politics.   \n",
       "69                     Poor customer service training   \n",
       "72  I have been working at Apple full-time (More t...   \n",
       "73              I worked at Apple (More than 3 years)   \n",
       "78                                          Show More   \n",
       "\n",
       "                                                 Pros  \\\n",
       "68                    Great Job for College Students.   \n",
       "69                             Higher part time wages   \n",
       "72  health care for both PT & FT, better coverage ...   \n",
       "73                        Working from home was great   \n",
       "78    It's a huge company with a lot of job openings.   \n",
       "\n",
       "                                                 Cons  \\\n",
       "68  Demanding hours. You'll never have a free week...   \n",
       "69                                       NPS obsessed   \n",
       "72  Its retail so wage growth is minuscule. Corpo...   \n",
       "73     High turnover rate and no room for advancement   \n",
       "78  It's easier to get hired in at a high level th...   \n",
       "\n",
       "                                 Advice to management  \n",
       "68        stop making it so difficult to request off.  \n",
       "69                                                NaN  \n",
       "72  Pay more. Better discounts. Hire more people d...  \n",
       "73                                                NaN  \n",
       "78  Promote from within long before you hire from ...  "
      ]
     },
     "execution_count": 116,
     "metadata": {},
     "output_type": "execute_result"
    }
   ],
   "source": [
    "df_app_poor.head()"
   ]
  },
  {
   "cell_type": "code",
   "execution_count": 117,
   "metadata": {},
   "outputs": [
    {
     "name": "stdout",
     "output_type": "stream",
     "text": [
      "(0, '0.024*\"retail\" + 0.022*\"apple\" + 0.018*\"employee\" + 0.013*\"management\" + 0.010*\"company\" + 0.010*\"job\"')\n",
      "(1, '0.028*\"management\" + 0.017*\"work\" + 0.014*\"manager\" + 0.014*\"company\" + 0.013*\"get\" + 0.013*\"apple\"')\n",
      "(2, '0.024*\"pay\" + 0.011*\"company\" + 0.010*\"apple\" + 0.010*\"job\" + 0.010*\"much\" + 0.010*\"time\"')\n",
      "(3, '0.033*\"work\" + 0.020*\"hours\" + 0.018*\"customer\" + 0.013*\"get\" + 0.012*\"schedule\" + 0.011*\"shift\"')\n",
      "(4, '0.040*\"balance\" + 0.021*\"work\" + 0.020*\"life\" + 0.019*\"worklife\" + 0.012*\"management\" + 0.011*\"de\"')\n"
     ]
    }
   ],
   "source": [
    "cons = pd.DataFrame(df_app_poor['Cons'],  index= df_app_poor.index)\n",
    "cons.dropna(axis=0, inplace=True)\n",
    "cons['cons_tokens'] =cons.Cons.map(clean_tokenize)\n",
    "cons['lemma_cons_token'] = cons['cons_tokens'].apply(lemmatize)\n",
    "\n",
    "dictionary = corpora.Dictionary(cons['lemma_cons_token'])\n",
    "corpus = [dictionary.doc2bow(text) for text in cons['lemma_cons_token']]\n",
    "\n",
    "NUM_TOPICS = 5\n",
    "ldamodel = gensim.models.ldamodel.LdaModel(corpus, num_topics = NUM_TOPICS, id2word=dictionary, passes=15)\n",
    "#ldamodel.save('model5.gensim')\n",
    "topics = ldamodel.print_topics(num_words=6)\n",
    "for topic in topics:\n",
    "    print(topic)"
   ]
  },
  {
   "cell_type": "code",
   "execution_count": 118,
   "metadata": {},
   "outputs": [
    {
     "data": {
      "text/plain": [
       "([(0, '0.214*\"good\" + 0.050*\"work\" + 0.049*\"pay\" + 0.048*\"benefit\"'),\n",
       "  (1, '0.057*\"le\" + 0.018*\"software\" + 0.018*\"motivate\" + 0.017*\"high\"'),\n",
       "  (2, '0.022*\"skill\" + 0.022*\"opportunity\" + 0.018*\"help\" + 0.017*\"learn\"'),\n",
       "  (3, '0.049*\"company\" + 0.040*\"brand\" + 0.028*\"world\" + 0.024*\"big\"'),\n",
       "  (4, '0.169*\"great\" + 0.068*\"benefit\" + 0.036*\"company\" + 0.036*\"culture\"'),\n",
       "  (5,\n",
       "   '0.048*\"product\" + 0.029*\"apple\" + 0.027*\"customer\" + 0.025*\"technology\"'),\n",
       "  (6, '0.035*\"de\" + 0.012*\"la\" + 0.011*\"des\" + 0.010*\"une\"'),\n",
       "  (7, '0.072*\"benefit\" + 0.064*\"discount\" + 0.054*\"great\" + 0.040*\"employee\"'),\n",
       "  (8, '0.089*\"people\" + 0.086*\"work\" + 0.079*\"great\" + 0.051*\"environment\"'),\n",
       "  (9, '0.064*\"apple\" + 0.051*\"work\" + 0.030*\"people\" + 0.024*\"best\"')],\n",
       " [(0,\n",
       "   '0.024*\"management\" + 0.022*\"manager\" + 0.020*\"get\" + 0.016*\"people\" + 0.016*\"employee\"'),\n",
       "  (1,\n",
       "   '0.042*\"customer\" + 0.031*\"hours\" + 0.029*\"time\" + 0.026*\"retail\" + 0.024*\"long\"'),\n",
       "  (2,\n",
       "   '0.027*\"et\" + 0.026*\"la\" + 0.017*\"progression\" + 0.015*\"set\" + 0.014*\"competitive\"'),\n",
       "  (3,\n",
       "   '0.036*\"le\" + 0.011*\"management\" + 0.007*\"au\" + 0.007*\"manager\" + 0.006*\"1\"'),\n",
       "  (4,\n",
       "   '0.046*\"apple\" + 0.030*\"con\" + 0.028*\"company\" + 0.027*\"think\" + 0.024*\"really\"'),\n",
       "  (5,\n",
       "   '0.062*\"retail\" + 0.043*\"management\" + 0.032*\"opportunity\" + 0.027*\"career\" + 0.023*\"growth\"'),\n",
       "  (6,\n",
       "   '0.099*\"work\" + 0.065*\"balance\" + 0.053*\"life\" + 0.037*\"schedule\" + 0.028*\"worklife\"'),\n",
       "  (7,\n",
       "   '0.054*\"pay\" + 0.022*\"apple\" + 0.020*\"high\" + 0.020*\"employee\" + 0.020*\"low\"'),\n",
       "  (8, '0.047*\"de\" + 0.025*\"le\" + 0.018*\"pas\" + 0.013*\"à\" + 0.010*\"en\"'),\n",
       "  (9,\n",
       "   '0.019*\"lots\" + 0.019*\"times\" + 0.018*\"policy\" + 0.015*\"better\" + 0.013*\"bit\"')])"
      ]
     },
     "execution_count": 118,
     "metadata": {},
     "output_type": "execute_result"
    }
   ],
   "source": [
    "topics_app"
   ]
  },
  {
   "cell_type": "code",
   "execution_count": null,
   "metadata": {
    "collapsed": true
   },
   "outputs": [],
   "source": []
  },
  {
   "cell_type": "code",
   "execution_count": null,
   "metadata": {
    "collapsed": true
   },
   "outputs": [],
   "source": []
  },
  {
   "cell_type": "code",
   "execution_count": null,
   "metadata": {
    "collapsed": true
   },
   "outputs": [],
   "source": []
  },
  {
   "cell_type": "code",
   "execution_count": null,
   "metadata": {
    "collapsed": true
   },
   "outputs": [],
   "source": []
  }
 ],
 "metadata": {
  "kernelspec": {
   "display_name": "Python 3",
   "language": "python",
   "name": "python3"
  },
  "language_info": {
   "codemirror_mode": {
    "name": "ipython",
    "version": 3
   },
   "file_extension": ".py",
   "mimetype": "text/x-python",
   "name": "python",
   "nbconvert_exporter": "python",
   "pygments_lexer": "ipython3",
   "version": "3.6.6"
  }
 },
 "nbformat": 4,
 "nbformat_minor": 2
}
