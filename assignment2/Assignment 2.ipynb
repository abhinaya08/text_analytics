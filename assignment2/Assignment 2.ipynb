{
 "cells": [
  {
   "cell_type": "code",
   "execution_count": 1,
   "metadata": {},
   "outputs": [
    {
     "name": "stdout",
     "output_type": "stream",
     "text": [
      "Populating the interactive namespace from numpy and matplotlib\n"
     ]
    }
   ],
   "source": [
    "import statsmodels.api as sm\n",
    "import pandas as pd\n",
    "import re,string\n",
    "import nltk\n",
    "from patsy import dmatrices\n",
    "from nltk.corpus import stopwords\n",
    "from nltk.probability import FreqDist\n",
    "from nltk.stem import WordNetLemmatizer\n",
    "from nltk.corpus import wordnet\n",
    "from nltk.tokenize import sent_tokenize, word_tokenize\n",
    "import matplotlib.pyplot as plt\n",
    "import warnings\n",
    "%pylab inline\n",
    "import numpy as np\n",
    "from sklearn.manifold import MDS\n",
    "from sklearn.metrics import euclidean_distances"
   ]
  },
  {
   "cell_type": "code",
   "execution_count": 2,
   "metadata": {},
   "outputs": [
    {
     "name": "stdout",
     "output_type": "stream",
     "text": [
      "date        object\n",
      "username    object\n",
      "post        object\n",
      "quotes      object\n",
      "dtype: object\n",
      "(12552, 4)\n"
     ]
    },
    {
     "data": {
      "text/html": [
       "<div>\n",
       "<style scoped>\n",
       "    .dataframe tbody tr th:only-of-type {\n",
       "        vertical-align: middle;\n",
       "    }\n",
       "\n",
       "    .dataframe tbody tr th {\n",
       "        vertical-align: top;\n",
       "    }\n",
       "\n",
       "    .dataframe thead th {\n",
       "        text-align: right;\n",
       "    }\n",
       "</style>\n",
       "<table border=\"1\" class=\"dataframe\">\n",
       "  <thead>\n",
       "    <tr style=\"text-align: right;\">\n",
       "      <th></th>\n",
       "      <th>date</th>\n",
       "      <th>username</th>\n",
       "      <th>post</th>\n",
       "      <th>quotes</th>\n",
       "    </tr>\n",
       "  </thead>\n",
       "  <tbody>\n",
       "    <tr>\n",
       "      <th>0</th>\n",
       "      <td>b'September 7'</td>\n",
       "      <td>b'dino001'</td>\n",
       "      <td>b'If they keep it around in next four-five yea...</td>\n",
       "      <td>b\"The lease rate is the factor that stops me c...</td>\n",
       "    </tr>\n",
       "    <tr>\n",
       "      <th>1</th>\n",
       "      <td>b'September 7'</td>\n",
       "      <td>b'circlew'</td>\n",
       "      <td>b'2018 430i Gran Coupe'</td>\n",
       "      <td>b\"show previous quotes\\n\\n\\nThe Stinger is too...</td>\n",
       "    </tr>\n",
       "    <tr>\n",
       "      <th>2</th>\n",
       "      <td>b'September 8'</td>\n",
       "      <td>b'qbrozen'</td>\n",
       "      <td>b\"The lease rate is the factor that stops me c...</td>\n",
       "      <td>b''</td>\n",
       "    </tr>\n",
       "    <tr>\n",
       "      <th>3</th>\n",
       "      <td>b'September 9'</td>\n",
       "      <td>b'FlightNurse2'</td>\n",
       "      <td>b\"circlew said:\\nThe lease rate is the factor ...</td>\n",
       "      <td>b'Again, the local dealer are hopeless at best...</td>\n",
       "    </tr>\n",
       "    <tr>\n",
       "      <th>4</th>\n",
       "      <td>b'September 9'</td>\n",
       "      <td>b'roadburner'</td>\n",
       "      <td>b\"'17 F150 Crew 2.7; '67 Coronet R/T; '14 Town...</td>\n",
       "      <td>b'Thanks, but I am more than aware of the dist...</td>\n",
       "    </tr>\n",
       "  </tbody>\n",
       "</table>\n",
       "</div>"
      ],
      "text/plain": [
       "             date         username  \\\n",
       "0  b'September 7'       b'dino001'   \n",
       "1  b'September 7'       b'circlew'   \n",
       "2  b'September 8'       b'qbrozen'   \n",
       "3  b'September 9'  b'FlightNurse2'   \n",
       "4  b'September 9'    b'roadburner'   \n",
       "\n",
       "                                                post  \\\n",
       "0  b'If they keep it around in next four-five yea...   \n",
       "1                            b'2018 430i Gran Coupe'   \n",
       "2  b\"The lease rate is the factor that stops me c...   \n",
       "3  b\"circlew said:\\nThe lease rate is the factor ...   \n",
       "4  b\"'17 F150 Crew 2.7; '67 Coronet R/T; '14 Town...   \n",
       "\n",
       "                                              quotes  \n",
       "0  b\"The lease rate is the factor that stops me c...  \n",
       "1  b\"show previous quotes\\n\\n\\nThe Stinger is too...  \n",
       "2                                                b''  \n",
       "3  b'Again, the local dealer are hopeless at best...  \n",
       "4  b'Thanks, but I am more than aware of the dist...  "
      ]
     },
     "execution_count": 2,
     "metadata": {},
     "output_type": "execute_result"
    }
   ],
   "source": [
    "df = pd.read_csv(\"edmunds_comments.csv\",encoding='utf8')\n",
    "df.post = df.post.astype(str)\n",
    "print(df.dtypes)\n",
    "print(df.shape)\n",
    "df.head()"
   ]
  },
  {
   "cell_type": "code",
   "execution_count": 3,
   "metadata": {},
   "outputs": [],
   "source": [
    "#clean punctuation and white spaces\n",
    "df[\"post_clean\"] = df.post.apply(lambda x:re.sub(r'[^\\w\\s]', ' ', x.lower()))\n",
    "df[\"post_clean\"] = df.post_clean.apply(lambda x:re.sub(r'(\\\\n+)', ' ', x))\n",
    "df[\"post_clean\"] = df.post_clean.apply(lambda x:re.sub(r'^b[\\'\\\"\\'\"\\\"''\\s]', '', x.lower()))\n",
    "df[\"post_clean\"] = df.post_clean.apply(lambda x:re.sub(r'\\s+', ' ', x))"
   ]
  },
  {
   "cell_type": "code",
   "execution_count": 4,
   "metadata": {},
   "outputs": [],
   "source": [
    "#tokenizing and removing stop words\n",
    "stop = set(stopwords.words('english'))\n",
    "punc = string.punctuation\n",
    "df['post_clean'] = df.post_clean.apply(lambda x: [word for word in word_tokenize(x) if word not in stop])\n",
    "df['post_clean'] = df['post_clean'].apply(lambda x: [word for word in x if word not in punc])"
   ]
  },
  {
   "cell_type": "code",
   "execution_count": 5,
   "metadata": {},
   "outputs": [
    {
     "data": {
      "text/html": [
       "<div>\n",
       "<style scoped>\n",
       "    .dataframe tbody tr th:only-of-type {\n",
       "        vertical-align: middle;\n",
       "    }\n",
       "\n",
       "    .dataframe tbody tr th {\n",
       "        vertical-align: top;\n",
       "    }\n",
       "\n",
       "    .dataframe thead th {\n",
       "        text-align: right;\n",
       "    }\n",
       "</style>\n",
       "<table border=\"1\" class=\"dataframe\">\n",
       "  <thead>\n",
       "    <tr style=\"text-align: right;\">\n",
       "      <th></th>\n",
       "      <th>date</th>\n",
       "      <th>username</th>\n",
       "      <th>post</th>\n",
       "      <th>quotes</th>\n",
       "      <th>post_clean</th>\n",
       "    </tr>\n",
       "  </thead>\n",
       "  <tbody>\n",
       "    <tr>\n",
       "      <th>0</th>\n",
       "      <td>b'September 7'</td>\n",
       "      <td>b'dino001'</td>\n",
       "      <td>b'If they keep it around in next four-five yea...</td>\n",
       "      <td>b\"The lease rate is the factor that stops me c...</td>\n",
       "      <td>[keep, around, next, four, five, years, think,...</td>\n",
       "    </tr>\n",
       "    <tr>\n",
       "      <th>1</th>\n",
       "      <td>b'September 7'</td>\n",
       "      <td>b'circlew'</td>\n",
       "      <td>b'2018 430i Gran Coupe'</td>\n",
       "      <td>b\"show previous quotes\\n\\n\\nThe Stinger is too...</td>\n",
       "      <td>[2018, 430i, gran, coupe]</td>\n",
       "    </tr>\n",
       "    <tr>\n",
       "      <th>2</th>\n",
       "      <td>b'September 8'</td>\n",
       "      <td>b'qbrozen'</td>\n",
       "      <td>b\"The lease rate is the factor that stops me c...</td>\n",
       "      <td>b''</td>\n",
       "      <td>[lease, rate, factor, stops, cold, taking, lea...</td>\n",
       "    </tr>\n",
       "    <tr>\n",
       "      <th>3</th>\n",
       "      <td>b'September 9'</td>\n",
       "      <td>b'FlightNurse2'</td>\n",
       "      <td>b\"circlew said:\\nThe lease rate is the factor ...</td>\n",
       "      <td>b'Again, the local dealer are hopeless at best...</td>\n",
       "      <td>[circlew, said, nthe, lease, rate, factor, sto...</td>\n",
       "    </tr>\n",
       "    <tr>\n",
       "      <th>4</th>\n",
       "      <td>b'September 9'</td>\n",
       "      <td>b'roadburner'</td>\n",
       "      <td>b\"'17 F150 Crew 2.7; '67 Coronet R/T; '14 Town...</td>\n",
       "      <td>b'Thanks, but I am more than aware of the dist...</td>\n",
       "      <td>[17, f150, crew, 2, 7, 67, coronet, r, 14, tow...</td>\n",
       "    </tr>\n",
       "  </tbody>\n",
       "</table>\n",
       "</div>"
      ],
      "text/plain": [
       "             date         username  \\\n",
       "0  b'September 7'       b'dino001'   \n",
       "1  b'September 7'       b'circlew'   \n",
       "2  b'September 8'       b'qbrozen'   \n",
       "3  b'September 9'  b'FlightNurse2'   \n",
       "4  b'September 9'    b'roadburner'   \n",
       "\n",
       "                                                post  \\\n",
       "0  b'If they keep it around in next four-five yea...   \n",
       "1                            b'2018 430i Gran Coupe'   \n",
       "2  b\"The lease rate is the factor that stops me c...   \n",
       "3  b\"circlew said:\\nThe lease rate is the factor ...   \n",
       "4  b\"'17 F150 Crew 2.7; '67 Coronet R/T; '14 Town...   \n",
       "\n",
       "                                              quotes  \\\n",
       "0  b\"The lease rate is the factor that stops me c...   \n",
       "1  b\"show previous quotes\\n\\n\\nThe Stinger is too...   \n",
       "2                                                b''   \n",
       "3  b'Again, the local dealer are hopeless at best...   \n",
       "4  b'Thanks, but I am more than aware of the dist...   \n",
       "\n",
       "                                          post_clean  \n",
       "0  [keep, around, next, four, five, years, think,...  \n",
       "1                          [2018, 430i, gran, coupe]  \n",
       "2  [lease, rate, factor, stops, cold, taking, lea...  \n",
       "3  [circlew, said, nthe, lease, rate, factor, sto...  \n",
       "4  [17, f150, crew, 2, 7, 67, coronet, r, 14, tow...  "
      ]
     },
     "execution_count": 5,
     "metadata": {},
     "output_type": "execute_result"
    }
   ],
   "source": [
    "df.head()"
   ]
  },
  {
   "cell_type": "markdown",
   "metadata": {},
   "source": [
    "### Replacing model with make in the corpus"
   ]
  },
  {
   "cell_type": "code",
   "execution_count": 6,
   "metadata": {},
   "outputs": [
    {
     "name": "stdout",
     "output_type": "stream",
     "text": [
      "make      object\n",
      "model1    object\n",
      "dtype: object\n"
     ]
    },
    {
     "data": {
      "text/html": [
       "<div>\n",
       "<style scoped>\n",
       "    .dataframe tbody tr th:only-of-type {\n",
       "        vertical-align: middle;\n",
       "    }\n",
       "\n",
       "    .dataframe tbody tr th {\n",
       "        vertical-align: top;\n",
       "    }\n",
       "\n",
       "    .dataframe thead th {\n",
       "        text-align: right;\n",
       "    }\n",
       "</style>\n",
       "<table border=\"1\" class=\"dataframe\">\n",
       "  <thead>\n",
       "    <tr style=\"text-align: right;\">\n",
       "      <th></th>\n",
       "      <th>make</th>\n",
       "      <th>model1</th>\n",
       "    </tr>\n",
       "  </thead>\n",
       "  <tbody>\n",
       "    <tr>\n",
       "      <th>0</th>\n",
       "      <td>ACURA</td>\n",
       "      <td>CL</td>\n",
       "    </tr>\n",
       "    <tr>\n",
       "      <th>1</th>\n",
       "      <td>ACURA</td>\n",
       "      <td>CSX</td>\n",
       "    </tr>\n",
       "    <tr>\n",
       "      <th>2</th>\n",
       "      <td>ACURA</td>\n",
       "      <td>EL</td>\n",
       "    </tr>\n",
       "    <tr>\n",
       "      <th>3</th>\n",
       "      <td>ACURA</td>\n",
       "      <td>ILX</td>\n",
       "    </tr>\n",
       "    <tr>\n",
       "      <th>4</th>\n",
       "      <td>ACURA</td>\n",
       "      <td>INTEGRA</td>\n",
       "    </tr>\n",
       "  </tbody>\n",
       "</table>\n",
       "</div>"
      ],
      "text/plain": [
       "    make   model1\n",
       "0  ACURA       CL\n",
       "1  ACURA      CSX\n",
       "2  ACURA       EL\n",
       "3  ACURA      ILX\n",
       "4  ACURA  INTEGRA"
      ]
     },
     "execution_count": 6,
     "metadata": {},
     "output_type": "execute_result"
    }
   ],
   "source": [
    "#importing model list\n",
    "car_models = pd.read_csv(\"car_models_curated.csv\")\n",
    "print(car_models.dtypes)\n",
    "car_models.head()"
   ]
  },
  {
   "cell_type": "code",
   "execution_count": 7,
   "metadata": {},
   "outputs": [],
   "source": [
    "car_models[\"model1\"]=car_models[\"model1\"].astype(str)\n",
    "car_models[\"make\"] = car_models[\"make\"].apply(lambda x:re.sub(r\"[^\\w\\s]\", \"\", x.lower()))\n",
    "car_models[\"model1\"] = car_models[\"model1\"].map(lambda x:re.sub(r\"[^\\w\\s]\", \"\", x.lower()))"
   ]
  },
  {
   "cell_type": "code",
   "execution_count": 8,
   "metadata": {},
   "outputs": [
    {
     "name": "stderr",
     "output_type": "stream",
     "text": [
      "C:\\Users\\abhin\\Anaconda2\\envs\\Python3\\lib\\site-packages\\ipykernel_launcher.py:3: UserWarning: DataFrame columns are not unique, some columns will be omitted.\n",
      "  This is separate from the ipykernel package so we can avoid doing imports until\n"
     ]
    },
    {
     "data": {
      "text/plain": [
       "'volkswagen'"
      ]
     },
     "execution_count": 8,
     "metadata": {},
     "output_type": "execute_result"
    }
   ],
   "source": [
    "#converting into dictionary\n",
    "#This will help in identifying make for corresponding model\n",
    "car_dict = car_models.set_index('model1').transpose().to_dict()\n",
    "model = \"beetle\"\n",
    "car_dict[model]['make']"
   ]
  },
  {
   "cell_type": "code",
   "execution_count": 9,
   "metadata": {},
   "outputs": [],
   "source": [
    "model1 = set(car_models[\"model1\"])"
   ]
  },
  {
   "cell_type": "code",
   "execution_count": 10,
   "metadata": {},
   "outputs": [],
   "source": [
    "#replace model with make\n",
    "df[\"post_c2\"] = df.post_clean.map(lambda x: [car_dict[i]['make'] if i in model1 else i for i in x])"
   ]
  },
  {
   "cell_type": "markdown",
   "metadata": {},
   "source": [
    "### Checking frequency for all values"
   ]
  },
  {
   "cell_type": "code",
   "execution_count": 11,
   "metadata": {},
   "outputs": [],
   "source": [
    "#getting frequency distribution\n",
    "car_posts = df['post_c2'].sum()"
   ]
  },
  {
   "cell_type": "code",
   "execution_count": 12,
   "metadata": {},
   "outputs": [],
   "source": [
    "all_words = nltk.FreqDist(car_posts)\n",
    "rslt_all = pd.DataFrame.from_dict(all_words,orient='index').reset_index()\n",
    "rslt_all.columns = ['word','frequency']"
   ]
  },
  {
   "cell_type": "markdown",
   "metadata": {},
   "source": [
    "### Most popular brands (all)"
   ]
  },
  {
   "cell_type": "code",
   "execution_count": 13,
   "metadata": {},
   "outputs": [
    {
     "data": {
      "text/html": [
       "<div>\n",
       "<style scoped>\n",
       "    .dataframe tbody tr th:only-of-type {\n",
       "        vertical-align: middle;\n",
       "    }\n",
       "\n",
       "    .dataframe tbody tr th {\n",
       "        vertical-align: top;\n",
       "    }\n",
       "\n",
       "    .dataframe thead th {\n",
       "        text-align: right;\n",
       "    }\n",
       "</style>\n",
       "<table border=\"1\" class=\"dataframe\">\n",
       "  <thead>\n",
       "    <tr style=\"text-align: right;\">\n",
       "      <th></th>\n",
       "      <th>word</th>\n",
       "      <th>frequency</th>\n",
       "    </tr>\n",
       "  </thead>\n",
       "  <tbody>\n",
       "    <tr>\n",
       "      <th>34</th>\n",
       "      <td>bmw</td>\n",
       "      <td>7835</td>\n",
       "    </tr>\n",
       "    <tr>\n",
       "      <th>206</th>\n",
       "      <td>acura</td>\n",
       "      <td>6937</td>\n",
       "    </tr>\n",
       "    <tr>\n",
       "      <th>298</th>\n",
       "      <td>audi</td>\n",
       "      <td>5753</td>\n",
       "    </tr>\n",
       "    <tr>\n",
       "      <th>204</th>\n",
       "      <td>infiniti</td>\n",
       "      <td>3085</td>\n",
       "    </tr>\n",
       "    <tr>\n",
       "      <th>253</th>\n",
       "      <td>honda</td>\n",
       "      <td>2912</td>\n",
       "    </tr>\n",
       "    <tr>\n",
       "      <th>302</th>\n",
       "      <td>volkswagen</td>\n",
       "      <td>2725</td>\n",
       "    </tr>\n",
       "    <tr>\n",
       "      <th>1129</th>\n",
       "      <td>cadillac</td>\n",
       "      <td>1952</td>\n",
       "    </tr>\n",
       "    <tr>\n",
       "      <th>205</th>\n",
       "      <td>lexus</td>\n",
       "      <td>1421</td>\n",
       "    </tr>\n",
       "    <tr>\n",
       "      <th>4</th>\n",
       "      <td>ford</td>\n",
       "      <td>1361</td>\n",
       "    </tr>\n",
       "    <tr>\n",
       "      <th>153</th>\n",
       "      <td>hyundai</td>\n",
       "      <td>947</td>\n",
       "    </tr>\n",
       "  </tbody>\n",
       "</table>\n",
       "</div>"
      ],
      "text/plain": [
       "            word  frequency\n",
       "34           bmw       7835\n",
       "206        acura       6937\n",
       "298         audi       5753\n",
       "204     infiniti       3085\n",
       "253        honda       2912\n",
       "302   volkswagen       2725\n",
       "1129    cadillac       1952\n",
       "205        lexus       1421\n",
       "4           ford       1361\n",
       "153      hyundai        947"
      ]
     },
     "execution_count": 13,
     "metadata": {},
     "output_type": "execute_result"
    }
   ],
   "source": [
    "rslt_all[rslt_all['word'].isin(car_models[\"make\"])].nlargest(10,'frequency')"
   ]
  },
  {
   "cell_type": "markdown",
   "metadata": {},
   "source": [
    "### Taking unique values (using set)"
   ]
  },
  {
   "cell_type": "code",
   "execution_count": 14,
   "metadata": {},
   "outputs": [],
   "source": [
    "df[\"post_cunique\"] = df.post_c2.map(lambda x: sorted(set(x)))"
   ]
  },
  {
   "cell_type": "code",
   "execution_count": 15,
   "metadata": {},
   "outputs": [],
   "source": [
    "cars_unique = df.post_cunique.sum() "
   ]
  },
  {
   "cell_type": "code",
   "execution_count": 16,
   "metadata": {},
   "outputs": [],
   "source": [
    "unique_words = nltk.FreqDist(cars_unique)\n",
    "rslt_unique = pd.DataFrame.from_dict(unique_words,orient='index').reset_index()\n",
    "rslt_unique.columns = ['word','frequency']"
   ]
  },
  {
   "cell_type": "code",
   "execution_count": 17,
   "metadata": {},
   "outputs": [],
   "source": [
    "pd.DataFrame(unique_words.most_common(2000)).to_csv(\"most common 2k.csv\")"
   ]
  },
  {
   "cell_type": "markdown",
   "metadata": {},
   "source": [
    "### Most popular brands (unique)"
   ]
  },
  {
   "cell_type": "code",
   "execution_count": 18,
   "metadata": {},
   "outputs": [
    {
     "data": {
      "text/html": [
       "<div>\n",
       "<style scoped>\n",
       "    .dataframe tbody tr th:only-of-type {\n",
       "        vertical-align: middle;\n",
       "    }\n",
       "\n",
       "    .dataframe tbody tr th {\n",
       "        vertical-align: top;\n",
       "    }\n",
       "\n",
       "    .dataframe thead th {\n",
       "        text-align: right;\n",
       "    }\n",
       "</style>\n",
       "<table border=\"1\" class=\"dataframe\">\n",
       "  <thead>\n",
       "    <tr style=\"text-align: right;\">\n",
       "      <th></th>\n",
       "      <th>word</th>\n",
       "      <th>frequency</th>\n",
       "    </tr>\n",
       "  </thead>\n",
       "  <tbody>\n",
       "    <tr>\n",
       "      <th>7</th>\n",
       "      <td>bmw</td>\n",
       "      <td>3485</td>\n",
       "    </tr>\n",
       "    <tr>\n",
       "      <th>193</th>\n",
       "      <td>acura</td>\n",
       "      <td>2516</td>\n",
       "    </tr>\n",
       "    <tr>\n",
       "      <th>301</th>\n",
       "      <td>audi</td>\n",
       "      <td>2005</td>\n",
       "    </tr>\n",
       "    <tr>\n",
       "      <th>310</th>\n",
       "      <td>volkswagen</td>\n",
       "      <td>1631</td>\n",
       "    </tr>\n",
       "    <tr>\n",
       "      <th>207</th>\n",
       "      <td>infiniti</td>\n",
       "      <td>1510</td>\n",
       "    </tr>\n",
       "    <tr>\n",
       "      <th>264</th>\n",
       "      <td>honda</td>\n",
       "      <td>1381</td>\n",
       "    </tr>\n",
       "    <tr>\n",
       "      <th>20</th>\n",
       "      <td>ford</td>\n",
       "      <td>921</td>\n",
       "    </tr>\n",
       "    <tr>\n",
       "      <th>1128</th>\n",
       "      <td>cadillac</td>\n",
       "      <td>859</td>\n",
       "    </tr>\n",
       "    <tr>\n",
       "      <th>208</th>\n",
       "      <td>lexus</td>\n",
       "      <td>800</td>\n",
       "    </tr>\n",
       "    <tr>\n",
       "      <th>74</th>\n",
       "      <td>maserati</td>\n",
       "      <td>615</td>\n",
       "    </tr>\n",
       "  </tbody>\n",
       "</table>\n",
       "</div>"
      ],
      "text/plain": [
       "            word  frequency\n",
       "7            bmw       3485\n",
       "193        acura       2516\n",
       "301         audi       2005\n",
       "310   volkswagen       1631\n",
       "207     infiniti       1510\n",
       "264        honda       1381\n",
       "20          ford        921\n",
       "1128    cadillac        859\n",
       "208        lexus        800\n",
       "74      maserati        615"
      ]
     },
     "execution_count": 18,
     "metadata": {},
     "output_type": "execute_result"
    }
   ],
   "source": [
    "rslt_unique[rslt_unique['word'].isin(car_models[\"make\"])].nlargest(10,'frequency')"
   ]
  },
  {
   "cell_type": "markdown",
   "metadata": {},
   "source": [
    "### Calculate Lift Ratio"
   ]
  },
  {
   "cell_type": "markdown",
   "metadata": {},
   "source": [
    "Identify top 10 brands by frequency. From the posts, calculate lift ratios for associations between the brands. You will have to write a script to do this task). Show the brands on a multi-dimensional scaling (MDS) map (use a Python script for MDS, there are multiple scripts available on the Internet). "
   ]
  },
  {
   "cell_type": "markdown",
   "metadata": {},
   "source": [
    "#### Function for calculating lift ratio"
   ]
  },
  {
   "cell_type": "code",
   "execution_count": 19,
   "metadata": {},
   "outputs": [],
   "source": [
    "def ratio(x,y):\n",
    "    if x==0:\n",
    "        return float(y)\n",
    "    if y==0:\n",
    "        return float(x)\n",
    "    return(float(x)*float(y))\n",
    "\n",
    "def get_lift(a,b,tokenized_data):\n",
    "    '''Function to calculate lift scores given any two words from a list of tokenized words'''\n",
    "    if (a==b):\n",
    "        return 1\n",
    "    p_a = len([i for i in tokenized_data if a in i])\n",
    "    p_b = len([i for i in tokenized_data if (b in i)])\n",
    "    p_a_b = len([i for i in tokenized_data if a in i if b in i])\n",
    "    n = len(tokenized_data)\n",
    "    return float(float(n)*float(p_a_b)/ratio(p_a,p_b))"
   ]
  },
  {
   "cell_type": "code",
   "execution_count": 20,
   "metadata": {},
   "outputs": [],
   "source": [
    "def plot_mds(lift_score,labels, euclidean = 0):\n",
    "    dissimilarity = 1/lift_score.astype(np.float64)\n",
    "    adist = np.array(dissimilarity)\n",
    "    amax = np.amax(adist)\n",
    "    adist /= amax\n",
    "    mds = MDS(n_components=2, random_state=6, metric=False, dissimilarity=\"precomputed\")\n",
    "    res = mds.fit(adist)\n",
    "    if euclidean == 1:\n",
    "        similarities = euclidean_distances(lift_score.astype(np.float64))\n",
    "        mds = MDS(n_components=2, random_state=6, dissimilarity=\"precomputed\")\n",
    "        res = mds.fit(similarities)\n",
    "    \n",
    "    plt.figure(figsize=(12,8))\n",
    "    plt.scatter(res.embedding_[:,0],res.embedding_[:, 1])\n",
    "\n",
    "    #plot the brand name labels\n",
    "    for label, x, y in zip(labels, res.embedding_[:, 0], res.embedding_[:, 1]):\n",
    "        plt.annotate(label,xy = (x, y), xytext = (-20, 20),textcoords = 'offset points', ha = 'left', va = 'bottom',\n",
    "                     bbox = dict(boxstyle = 'round,pad=.2', fc = 'orange', alpha = 0.6),\n",
    "                     arrowprops = dict(arrowstyle = '->', connectionstyle = 'arc3,rad=0'))\n",
    "    plt.show()"
   ]
  },
  {
   "cell_type": "markdown",
   "metadata": {},
   "source": [
    "### Insights"
   ]
  },
  {
   "cell_type": "code",
   "execution_count": 21,
   "metadata": {},
   "outputs": [],
   "source": [
    "# plot MDS top 10\n",
    "num_brands = 10\n",
    "top_brands = rslt_unique[rslt_unique['word'].isin(car_models[\"make\"])].nlargest(num_brands,'frequency')\n",
    "lift_score = [get_lift(x,y,df.post_cunique) for x in top_brands.word for y in top_brands.word] #if x!=y]\n",
    "xdf = reshape(lift_score,(num_brands,num_brands))"
   ]
  },
  {
   "cell_type": "code",
   "execution_count": 22,
   "metadata": {},
   "outputs": [
    {
     "data": {
      "image/png": "[encoded data removed]",
      "text/plain": [
       "<Figure size 864x576 with 1 Axes>"
      ]
     },
     "metadata": {},
     "output_type": "display_data"
    }
   ],
   "source": [
    "plot_mds(xdf,top_brands.word)"
   ]
  },
  {
   "cell_type": "code",
   "execution_count": 23,
   "metadata": {},
   "outputs": [
    {
     "data": {
      "image/png": "[encoded data removed]",
      "text/plain": [
       "<Figure size 864x576 with 1 Axes>"
      ]
     },
     "metadata": {},
     "output_type": "display_data"
    }
   ],
   "source": [
    "plot_mds(xdf,top_brands.word,1)"
   ]
  },
  {
   "cell_type": "code",
   "execution_count": 24,
   "metadata": {},
   "outputs": [
    {
     "data": {
      "image/png": "[encoded data removed]",
      "text/plain": [
       "<Figure size 864x576 with 1 Axes>"
      ]
     },
     "metadata": {},
     "output_type": "display_data"
    }
   ],
   "source": [
    "# plot MDS top 20\n",
    "num_brands = 20\n",
    "top_brands = rslt_unique[rslt_unique['word'].isin(car_models[\"make\"])].nlargest(num_brands,'frequency')\n",
    "lift_score = [get_lift(x,y,df.post_cunique) for x in top_brands.word for y in top_brands.word] #if x!=y]\n",
    "xdf = reshape(lift_score,(num_brands,num_brands))\n",
    "plot_mds(xdf,top_brands.word)"
   ]
  },
  {
   "cell_type": "code",
   "execution_count": 25,
   "metadata": {},
   "outputs": [
    {
     "data": {
      "image/png": "[encoded data removed]",
      "text/plain": [
       "<Figure size 864x576 with 1 Axes>"
      ]
     },
     "metadata": {},
     "output_type": "display_data"
    }
   ],
   "source": [
    "plot_mds(xdf,top_brands.word,1)"
   ]
  },
  {
   "cell_type": "markdown",
   "metadata": {},
   "source": [
    "## What insights can you offer brand managers from your analysis in Task A (choose two brands that you can offer the most interesting/useful insights for)? "
   ]
  },
  {
   "cell_type": "code",
   "execution_count": null,
   "metadata": {},
   "outputs": [],
   "source": []
  },
  {
   "cell_type": "markdown",
   "metadata": {},
   "source": [
    "### Frequently mentioned attributes for cars"
   ]
  },
  {
   "cell_type": "markdown",
   "metadata": {},
   "source": [
    "For ientifying the top product attributes, we used the TF-IDF matrix and picked up the top 3 meaningful words (highest TF-IDF score) from every post. Detailed code in:https://github.com/abhinaya08/text_analytics/blob/master/assignment2/Product_Attribute_Recognition.ipynb\n",
    "\n",
    "<br> We also manually scrubbed the top words based on frequency distribution : https://github.com/abhinaya08/text_analytics/blob/master/assignment2/most%20common%202k.csv"
   ]
  },
  {
   "cell_type": "markdown",
   "metadata": {},
   "source": [
    "Following is the list of attributes that people are talking about and their categories:\n",
    "1. Price\n",
    "2. Comfort / interiors\n",
    "3. Performance\n",
    "4. Transmission\n",
    "5. Wheel drive\n",
    "6. Advanced Technological Features - WiFi, High end stereo system, multimedia interface\n",
    "7. Car related features - mirrior, reverse, tyres, bumper, screen etc"
   ]
  },
  {
   "cell_type": "markdown",
   "metadata": {},
   "source": [
    "### Now pick the 5 most frequently mentioned brands. Which attributes are most strongly associated with which of these 5 brands? "
   ]
  },
  {
   "cell_type": "markdown",
   "metadata": {},
   "source": [
    "#### We have picked the top 5 brands and replaced words with similar meaning to identify lift"
   ]
  },
  {
   "cell_type": "code",
   "execution_count": 26,
   "metadata": {},
   "outputs": [],
   "source": [
    "# creating a dictionary for synonyms of product attributes based on most frequent words\n",
    "prod_attributes = {'performance':['engine', 'engines', 'power', 'acceleration', 'quality', 'sport', 'mileage', 'torque', 'suspension', 'speed', 'sports',\n",
    "                                  'weight', 'suspension','hp','efficiency','fuel'],\n",
    "                   'transmission':['manual', 'auto', 'automatic', 'automatics', 'transmission','dsg'],\n",
    "                   'wd':['awd', 'rwd', 'fwd', 'wheel', 'wheels','tires','steering','nif','clutch'],\n",
    "                   'comfort':['class','interior','leather','brand','premium','seat','seats','experience',\n",
    "                              'comfort','lux','comfortable','cushion'],\n",
    "                   'price':['cheap', 'cheaper', 'costs', 'cost', 'economy', 'value',\n",
    "                            '50k','45k','15k','35k','5k','10k','discount','credit'],\n",
    "                  }"
   ]
  },
  {
   "cell_type": "code",
   "execution_count": 27,
   "metadata": {},
   "outputs": [],
   "source": [
    "def getKeysByValue(dictOfElements, valueToFind):\n",
    "    for k,v  in dictOfElements.items():\n",
    "        if valueToFind in v:\n",
    "            return(k)\n",
    "    return  valueToFind\n",
    "\n",
    "def replace_attributes(s):\n",
    "    return([getKeysByValue(prod_attributes,y) for y in s])"
   ]
  },
  {
   "cell_type": "code",
   "execution_count": 28,
   "metadata": {},
   "outputs": [],
   "source": [
    "#replacing product attributes which are synonyms\n",
    "df[\"post_attributes\"] = df.post_cunique.map(replace_attributes)"
   ]
  },
  {
   "cell_type": "code",
   "execution_count": 29,
   "metadata": {},
   "outputs": [],
   "source": [
    "num_brands = 10\n",
    "top_brands = rslt_unique[rslt_unique['word'].isin(car_models[\"make\"])].nlargest(num_brands,'frequency')\n",
    "product_list = prod_attributes.keys()\n",
    "lift_score = [get_lift(x,y,df.post_attributes) for x in top_brands.word for y in product_list]\n",
    "formatted_lift_score = [ round(elem,2) for elem in lift_score ]\n",
    "#round(lift_score,2)"
   ]
  },
  {
   "cell_type": "code",
   "execution_count": 30,
   "metadata": {},
   "outputs": [
    {
     "data": {
      "text/html": [
       "<div>\n",
       "<style scoped>\n",
       "    .dataframe tbody tr th:only-of-type {\n",
       "        vertical-align: middle;\n",
       "    }\n",
       "\n",
       "    .dataframe tbody tr th {\n",
       "        vertical-align: top;\n",
       "    }\n",
       "\n",
       "    .dataframe thead th {\n",
       "        text-align: right;\n",
       "    }\n",
       "</style>\n",
       "<table border=\"1\" class=\"dataframe\">\n",
       "  <thead>\n",
       "    <tr style=\"text-align: right;\">\n",
       "      <th></th>\n",
       "      <th>performance</th>\n",
       "      <th>transmission</th>\n",
       "      <th>wd</th>\n",
       "      <th>comfort</th>\n",
       "      <th>price</th>\n",
       "    </tr>\n",
       "    <tr>\n",
       "      <th>word</th>\n",
       "      <th></th>\n",
       "      <th></th>\n",
       "      <th></th>\n",
       "      <th></th>\n",
       "      <th></th>\n",
       "    </tr>\n",
       "  </thead>\n",
       "  <tbody>\n",
       "    <tr>\n",
       "      <th>bmw</th>\n",
       "      <td>1.62</td>\n",
       "      <td>1.59</td>\n",
       "      <td>1.00</td>\n",
       "      <td>1.60</td>\n",
       "      <td>1.68</td>\n",
       "    </tr>\n",
       "    <tr>\n",
       "      <th>acura</th>\n",
       "      <td>1.38</td>\n",
       "      <td>1.48</td>\n",
       "      <td>1.95</td>\n",
       "      <td>1.51</td>\n",
       "      <td>1.29</td>\n",
       "    </tr>\n",
       "    <tr>\n",
       "      <th>audi</th>\n",
       "      <td>1.57</td>\n",
       "      <td>1.72</td>\n",
       "      <td>1.64</td>\n",
       "      <td>2.17</td>\n",
       "      <td>1.73</td>\n",
       "    </tr>\n",
       "    <tr>\n",
       "      <th>volkswagen</th>\n",
       "      <td>1.56</td>\n",
       "      <td>1.65</td>\n",
       "      <td>1.48</td>\n",
       "      <td>1.73</td>\n",
       "      <td>1.38</td>\n",
       "    </tr>\n",
       "    <tr>\n",
       "      <th>infiniti</th>\n",
       "      <td>1.20</td>\n",
       "      <td>1.45</td>\n",
       "      <td>1.92</td>\n",
       "      <td>1.57</td>\n",
       "      <td>1.50</td>\n",
       "    </tr>\n",
       "    <tr>\n",
       "      <th>honda</th>\n",
       "      <td>1.09</td>\n",
       "      <td>1.31</td>\n",
       "      <td>2.17</td>\n",
       "      <td>1.34</td>\n",
       "      <td>1.27</td>\n",
       "    </tr>\n",
       "    <tr>\n",
       "      <th>ford</th>\n",
       "      <td>1.39</td>\n",
       "      <td>1.48</td>\n",
       "      <td>1.06</td>\n",
       "      <td>1.80</td>\n",
       "      <td>1.52</td>\n",
       "    </tr>\n",
       "    <tr>\n",
       "      <th>cadillac</th>\n",
       "      <td>1.51</td>\n",
       "      <td>1.39</td>\n",
       "      <td>1.04</td>\n",
       "      <td>2.32</td>\n",
       "      <td>1.60</td>\n",
       "    </tr>\n",
       "    <tr>\n",
       "      <th>lexus</th>\n",
       "      <td>1.61</td>\n",
       "      <td>1.97</td>\n",
       "      <td>1.33</td>\n",
       "      <td>2.36</td>\n",
       "      <td>1.84</td>\n",
       "    </tr>\n",
       "    <tr>\n",
       "      <th>maserati</th>\n",
       "      <td>0.91</td>\n",
       "      <td>0.78</td>\n",
       "      <td>0.52</td>\n",
       "      <td>1.16</td>\n",
       "      <td>0.90</td>\n",
       "    </tr>\n",
       "  </tbody>\n",
       "</table>\n",
       "</div>"
      ],
      "text/plain": [
       "            performance  transmission    wd  comfort  price\n",
       "word                                                       \n",
       "bmw                1.62          1.59  1.00     1.60   1.68\n",
       "acura              1.38          1.48  1.95     1.51   1.29\n",
       "audi               1.57          1.72  1.64     2.17   1.73\n",
       "volkswagen         1.56          1.65  1.48     1.73   1.38\n",
       "infiniti           1.20          1.45  1.92     1.57   1.50\n",
       "honda              1.09          1.31  2.17     1.34   1.27\n",
       "ford               1.39          1.48  1.06     1.80   1.52\n",
       "cadillac           1.51          1.39  1.04     2.32   1.60\n",
       "lexus              1.61          1.97  1.33     2.36   1.84\n",
       "maserati           0.91          0.78  0.52     1.16   0.90"
      ]
     },
     "execution_count": 30,
     "metadata": {},
     "output_type": "execute_result"
    }
   ],
   "source": [
    "pd.DataFrame(reshape(formatted_lift_score,(num_brands,len(product_list))),index =top_brands.word , columns = product_list )"
   ]
  },
  {
   "cell_type": "markdown",
   "metadata": {},
   "source": [
    "### While BMW has claimed that they are the “ultimate driving machine”, is that how people feel on Edmunds? Show your analysis.   "
   ]
  },
  {
   "cell_type": "code",
   "execution_count": 31,
   "metadata": {},
   "outputs": [],
   "source": [
    "num_brands = 10\n",
    "top_brands = rslt_unique[rslt_unique['word'].isin(car_models[\"make\"])].nlargest(num_brands,'frequency')\n",
    "product_list = ['ultimate','driving','machine']\n",
    "lift_score = [get_lift(x,y,df.post_attributes) for x in top_brands.word for y in product_list]"
   ]
  },
  {
   "cell_type": "code",
   "execution_count": 32,
   "metadata": {},
   "outputs": [
    {
     "data": {
      "text/html": [
       "<div>\n",
       "<style scoped>\n",
       "    .dataframe tbody tr th:only-of-type {\n",
       "        vertical-align: middle;\n",
       "    }\n",
       "\n",
       "    .dataframe tbody tr th {\n",
       "        vertical-align: top;\n",
       "    }\n",
       "\n",
       "    .dataframe thead th {\n",
       "        text-align: right;\n",
       "    }\n",
       "</style>\n",
       "<table border=\"1\" class=\"dataframe\">\n",
       "  <thead>\n",
       "    <tr style=\"text-align: right;\">\n",
       "      <th></th>\n",
       "      <th>ultimate</th>\n",
       "      <th>driving</th>\n",
       "      <th>machine</th>\n",
       "    </tr>\n",
       "    <tr>\n",
       "      <th>word</th>\n",
       "      <th></th>\n",
       "      <th></th>\n",
       "      <th></th>\n",
       "    </tr>\n",
       "  </thead>\n",
       "  <tbody>\n",
       "    <tr>\n",
       "      <th>bmw</th>\n",
       "      <td>2.70</td>\n",
       "      <td>1.82</td>\n",
       "      <td>2.08</td>\n",
       "    </tr>\n",
       "    <tr>\n",
       "      <th>acura</th>\n",
       "      <td>0.53</td>\n",
       "      <td>1.45</td>\n",
       "      <td>0.98</td>\n",
       "    </tr>\n",
       "    <tr>\n",
       "      <th>audi</th>\n",
       "      <td>1.45</td>\n",
       "      <td>1.97</td>\n",
       "      <td>1.32</td>\n",
       "    </tr>\n",
       "    <tr>\n",
       "      <th>volkswagen</th>\n",
       "      <td>1.10</td>\n",
       "      <td>1.79</td>\n",
       "      <td>0.98</td>\n",
       "    </tr>\n",
       "    <tr>\n",
       "      <th>infiniti</th>\n",
       "      <td>1.48</td>\n",
       "      <td>1.39</td>\n",
       "      <td>1.64</td>\n",
       "    </tr>\n",
       "    <tr>\n",
       "      <th>honda</th>\n",
       "      <td>0.81</td>\n",
       "      <td>1.47</td>\n",
       "      <td>0.38</td>\n",
       "    </tr>\n",
       "    <tr>\n",
       "      <th>ford</th>\n",
       "      <td>1.46</td>\n",
       "      <td>1.80</td>\n",
       "      <td>1.54</td>\n",
       "    </tr>\n",
       "    <tr>\n",
       "      <th>cadillac</th>\n",
       "      <td>3.65</td>\n",
       "      <td>1.70</td>\n",
       "      <td>3.09</td>\n",
       "    </tr>\n",
       "    <tr>\n",
       "      <th>lexus</th>\n",
       "      <td>3.08</td>\n",
       "      <td>1.99</td>\n",
       "      <td>2.21</td>\n",
       "    </tr>\n",
       "    <tr>\n",
       "      <th>maserati</th>\n",
       "      <td>1.46</td>\n",
       "      <td>0.75</td>\n",
       "      <td>0.29</td>\n",
       "    </tr>\n",
       "  </tbody>\n",
       "</table>\n",
       "</div>"
      ],
      "text/plain": [
       "            ultimate  driving  machine\n",
       "word                                  \n",
       "bmw             2.70     1.82     2.08\n",
       "acura           0.53     1.45     0.98\n",
       "audi            1.45     1.97     1.32\n",
       "volkswagen      1.10     1.79     0.98\n",
       "infiniti        1.48     1.39     1.64\n",
       "honda           0.81     1.47     0.38\n",
       "ford            1.46     1.80     1.54\n",
       "cadillac        3.65     1.70     3.09\n",
       "lexus           3.08     1.99     2.21\n",
       "maserati        1.46     0.75     0.29"
      ]
     },
     "execution_count": 32,
     "metadata": {},
     "output_type": "execute_result"
    }
   ],
   "source": [
    "formatted_lift_score = [round(elem,2) for elem in lift_score ]\n",
    "pd.DataFrame(reshape(formatted_lift_score,(num_brands,len(product_list))),index =top_brands.word , columns = product_list )"
   ]
  },
  {
   "cell_type": "code",
   "execution_count": 33,
   "metadata": {},
   "outputs": [
    {
     "data": {
      "text/plain": [
       "word\n",
       "bmw           2.200000\n",
       "acura         0.986667\n",
       "audi          1.580000\n",
       "volkswagen    1.290000\n",
       "infiniti      1.503333\n",
       "honda         0.886667\n",
       "ford          1.600000\n",
       "cadillac      2.813333\n",
       "lexus         2.426667\n",
       "maserati      0.833333\n",
       "dtype: float64"
      ]
     },
     "execution_count": 33,
     "metadata": {},
     "output_type": "execute_result"
    }
   ],
   "source": [
    "# computing average\n",
    "pd.DataFrame(reshape(formatted_lift_score,(num_brands,len(product_list))),index =top_brands.word , columns = product_list ).mean(axis=1)"
   ]
  },
  {
   "cell_type": "markdown",
   "metadata": {},
   "source": [
    "#### Checking for \"ultimate driving machine\" as trigram"
   ]
  },
  {
   "cell_type": "code",
   "execution_count": 34,
   "metadata": {},
   "outputs": [
    {
     "name": "stderr",
     "output_type": "stream",
     "text": [
      "C:\\Users\\abhin\\Anaconda2\\envs\\Python3\\lib\\site-packages\\ipykernel_launcher.py:4: DeprecationWarning: generator 'ngrams' raised StopIteration\n",
      "  after removing the cwd from sys.path.\n"
     ]
    }
   ],
   "source": [
    "#checking with trigrams\n",
    "from nltk import ngrams\n",
    "n=3\n",
    "df[\"post_trigrams\"] = df.post_cunique.map(lambda x: [grams for grams in ngrams(x, n)])"
   ]
  },
  {
   "cell_type": "code",
   "execution_count": 35,
   "metadata": {},
   "outputs": [],
   "source": [
    "trigrams = df[\"post_trigrams\"].sum()"
   ]
  },
  {
   "cell_type": "code",
   "execution_count": 36,
   "metadata": {},
   "outputs": [],
   "source": [
    "trigrams_words = nltk.FreqDist(trigrams)"
   ]
  },
  {
   "cell_type": "markdown",
   "metadata": {},
   "source": [
    "#### \"Ultimate driving machine\" doesnt exist like a trigram. However, we have some interesting insights from the top 20 trigrams"
   ]
  },
  {
   "cell_type": "code",
   "execution_count": 37,
   "metadata": {},
   "outputs": [
    {
     "data": {
      "text/plain": [
       "[(('2001', '2015', '2017'), 397),\n",
       " (('2015', '2017', 'awd'), 397),\n",
       " (('2017', 'awd', 'honda'), 397),\n",
       " (('awd', 'honda', 'infiniti'), 397),\n",
       " (('honda', 'infiniti', 'sh'), 397),\n",
       " (('infiniti', 'sh', 'touring'), 397),\n",
       " (('sh', 'touring', 'type'), 397),\n",
       " (('2018', '430i', 'gran'), 311),\n",
       " (('430i', 'gran', 'maserati'), 311),\n",
       " (('2018', 'acura', 'aspec'), 306),\n",
       " (('acura', 'aspec', 'awd'), 306),\n",
       " (('aspec', 'awd', 'sh'), 306),\n",
       " (('1', '16', '17'), 177),\n",
       " (('16', '17', '4'), 177),\n",
       " (('17', '4', '6t'), 177),\n",
       " (('4', '6t', 'alltrack'), 177),\n",
       " (('6t', 'alltrack', 'audi'), 177),\n",
       " (('alltrack', 'audi', 'awd'), 177),\n",
       " (('audi', 'awd', 'commuter'), 177),\n",
       " (('awd', 'commuter', 'fwd'), 177)]"
      ]
     },
     "execution_count": 37,
     "metadata": {},
     "output_type": "execute_result"
    }
   ],
   "source": [
    "trigrams_words.most_common(20)"
   ]
  },
  {
   "cell_type": "markdown",
   "metadata": {},
   "source": [
    "Honda and infiniti are often compared with 'awd' and 'fwd' (wheeel drives). We can observe this in our product attribute lift chart too"
   ]
  },
  {
   "cell_type": "markdown",
   "metadata": {},
   "source": [
    "### Comparing brands across - ultimate driving machine"
   ]
  },
  {
   "cell_type": "code",
   "execution_count": 38,
   "metadata": {},
   "outputs": [],
   "source": [
    "def get_conditional_lift(a,b,c,tokenized_data):\n",
    "    p_ac = len([i for i in tokenized_data if a in i if c in i])\n",
    "    p_bc = len([i for i in tokenized_data if c in i if b in i])\n",
    "    p_c = len([i for i in tokenized_data if c in i])\n",
    "    p_abc = len([i for i in tokenized_data if a in i if b in i if c in i])\n",
    "    return float((p_abc * p_c)/(p_ac*p_bc))"
   ]
  },
  {
   "cell_type": "code",
   "execution_count": 39,
   "metadata": {},
   "outputs": [],
   "source": [
    "top_brands = ['bmw','lexus','honda','infiniti','cadillac','audi']\n",
    "product_list = ['ultimate','driving','machine']\n",
    "conditional_lift = [get_conditional_lift(x,y,z,df.post_attributes) \n",
    "                    for x in top_brands for y in top_brands for z in product_list \n",
    "                    if x!=y]"
   ]
  },
  {
   "cell_type": "code",
   "execution_count": 40,
   "metadata": {},
   "outputs": [
    {
     "data": {
      "text/html": [
       "<div>\n",
       "<style scoped>\n",
       "    .dataframe tbody tr th:only-of-type {\n",
       "        vertical-align: middle;\n",
       "    }\n",
       "\n",
       "    .dataframe tbody tr th {\n",
       "        vertical-align: top;\n",
       "    }\n",
       "\n",
       "    .dataframe thead th {\n",
       "        text-align: right;\n",
       "    }\n",
       "</style>\n",
       "<table border=\"1\" class=\"dataframe\">\n",
       "  <thead>\n",
       "    <tr style=\"text-align: right;\">\n",
       "      <th></th>\n",
       "      <th>ultimate</th>\n",
       "      <th>driving</th>\n",
       "      <th>machine</th>\n",
       "    </tr>\n",
       "  </thead>\n",
       "  <tbody>\n",
       "    <tr>\n",
       "      <th>(bmw, lexus)</th>\n",
       "      <td>1.33</td>\n",
       "      <td>1.47</td>\n",
       "      <td>1.21</td>\n",
       "    </tr>\n",
       "    <tr>\n",
       "      <th>(bmw, honda)</th>\n",
       "      <td>1.33</td>\n",
       "      <td>0.99</td>\n",
       "      <td>1.15</td>\n",
       "    </tr>\n",
       "    <tr>\n",
       "      <th>(bmw, infiniti)</th>\n",
       "      <td>1.20</td>\n",
       "      <td>1.21</td>\n",
       "      <td>1.24</td>\n",
       "    </tr>\n",
       "    <tr>\n",
       "      <th>(bmw, cadillac)</th>\n",
       "      <td>1.33</td>\n",
       "      <td>1.42</td>\n",
       "      <td>1.39</td>\n",
       "    </tr>\n",
       "    <tr>\n",
       "      <th>(bmw, audi)</th>\n",
       "      <td>0.92</td>\n",
       "      <td>1.21</td>\n",
       "      <td>0.81</td>\n",
       "    </tr>\n",
       "    <tr>\n",
       "      <th>(lexus, bmw)</th>\n",
       "      <td>1.33</td>\n",
       "      <td>1.47</td>\n",
       "      <td>1.21</td>\n",
       "    </tr>\n",
       "    <tr>\n",
       "      <th>(lexus, honda)</th>\n",
       "      <td>2.04</td>\n",
       "      <td>1.20</td>\n",
       "      <td>4.73</td>\n",
       "    </tr>\n",
       "    <tr>\n",
       "      <th>(lexus, infiniti)</th>\n",
       "      <td>3.56</td>\n",
       "      <td>2.56</td>\n",
       "      <td>3.04</td>\n",
       "    </tr>\n",
       "    <tr>\n",
       "      <th>(lexus, cadillac)</th>\n",
       "      <td>1.82</td>\n",
       "      <td>1.59</td>\n",
       "      <td>1.42</td>\n",
       "    </tr>\n",
       "    <tr>\n",
       "      <th>(lexus, audi)</th>\n",
       "      <td>1.57</td>\n",
       "      <td>1.54</td>\n",
       "      <td>1.89</td>\n",
       "    </tr>\n",
       "    <tr>\n",
       "      <th>(honda, bmw)</th>\n",
       "      <td>1.33</td>\n",
       "      <td>0.99</td>\n",
       "      <td>1.15</td>\n",
       "    </tr>\n",
       "    <tr>\n",
       "      <th>(honda, lexus)</th>\n",
       "      <td>2.04</td>\n",
       "      <td>1.20</td>\n",
       "      <td>4.73</td>\n",
       "    </tr>\n",
       "    <tr>\n",
       "      <th>(honda, infiniti)</th>\n",
       "      <td>1.12</td>\n",
       "      <td>1.14</td>\n",
       "      <td>1.69</td>\n",
       "    </tr>\n",
       "    <tr>\n",
       "      <th>(honda, cadillac)</th>\n",
       "      <td>1.60</td>\n",
       "      <td>0.81</td>\n",
       "      <td>0.00</td>\n",
       "    </tr>\n",
       "    <tr>\n",
       "      <th>(honda, audi)</th>\n",
       "      <td>2.58</td>\n",
       "      <td>1.47</td>\n",
       "      <td>3.16</td>\n",
       "    </tr>\n",
       "    <tr>\n",
       "      <th>(infiniti, bmw)</th>\n",
       "      <td>1.20</td>\n",
       "      <td>1.21</td>\n",
       "      <td>1.24</td>\n",
       "    </tr>\n",
       "    <tr>\n",
       "      <th>(infiniti, lexus)</th>\n",
       "      <td>3.56</td>\n",
       "      <td>2.56</td>\n",
       "      <td>3.04</td>\n",
       "    </tr>\n",
       "    <tr>\n",
       "      <th>(infiniti, honda)</th>\n",
       "      <td>1.12</td>\n",
       "      <td>1.14</td>\n",
       "      <td>1.69</td>\n",
       "    </tr>\n",
       "    <tr>\n",
       "      <th>(infiniti, cadillac)</th>\n",
       "      <td>2.00</td>\n",
       "      <td>1.79</td>\n",
       "      <td>1.35</td>\n",
       "    </tr>\n",
       "    <tr>\n",
       "      <th>(infiniti, audi)</th>\n",
       "      <td>2.15</td>\n",
       "      <td>1.42</td>\n",
       "      <td>2.70</td>\n",
       "    </tr>\n",
       "    <tr>\n",
       "      <th>(cadillac, bmw)</th>\n",
       "      <td>1.33</td>\n",
       "      <td>1.42</td>\n",
       "      <td>1.39</td>\n",
       "    </tr>\n",
       "    <tr>\n",
       "      <th>(cadillac, lexus)</th>\n",
       "      <td>1.82</td>\n",
       "      <td>1.59</td>\n",
       "      <td>1.42</td>\n",
       "    </tr>\n",
       "    <tr>\n",
       "      <th>(cadillac, honda)</th>\n",
       "      <td>1.60</td>\n",
       "      <td>0.81</td>\n",
       "      <td>0.00</td>\n",
       "    </tr>\n",
       "    <tr>\n",
       "      <th>(cadillac, infiniti)</th>\n",
       "      <td>2.00</td>\n",
       "      <td>1.79</td>\n",
       "      <td>1.35</td>\n",
       "    </tr>\n",
       "    <tr>\n",
       "      <th>(cadillac, audi)</th>\n",
       "      <td>1.54</td>\n",
       "      <td>1.39</td>\n",
       "      <td>0.95</td>\n",
       "    </tr>\n",
       "    <tr>\n",
       "      <th>(audi, bmw)</th>\n",
       "      <td>0.92</td>\n",
       "      <td>1.21</td>\n",
       "      <td>0.81</td>\n",
       "    </tr>\n",
       "    <tr>\n",
       "      <th>(audi, lexus)</th>\n",
       "      <td>1.57</td>\n",
       "      <td>1.54</td>\n",
       "      <td>1.89</td>\n",
       "    </tr>\n",
       "    <tr>\n",
       "      <th>(audi, honda)</th>\n",
       "      <td>2.58</td>\n",
       "      <td>1.47</td>\n",
       "      <td>3.16</td>\n",
       "    </tr>\n",
       "    <tr>\n",
       "      <th>(audi, infiniti)</th>\n",
       "      <td>2.15</td>\n",
       "      <td>1.42</td>\n",
       "      <td>2.70</td>\n",
       "    </tr>\n",
       "    <tr>\n",
       "      <th>(audi, cadillac)</th>\n",
       "      <td>1.54</td>\n",
       "      <td>1.39</td>\n",
       "      <td>0.95</td>\n",
       "    </tr>\n",
       "  </tbody>\n",
       "</table>\n",
       "</div>"
      ],
      "text/plain": [
       "                      ultimate  driving  machine\n",
       "(bmw, lexus)              1.33     1.47     1.21\n",
       "(bmw, honda)              1.33     0.99     1.15\n",
       "(bmw, infiniti)           1.20     1.21     1.24\n",
       "(bmw, cadillac)           1.33     1.42     1.39\n",
       "(bmw, audi)               0.92     1.21     0.81\n",
       "(lexus, bmw)              1.33     1.47     1.21\n",
       "(lexus, honda)            2.04     1.20     4.73\n",
       "(lexus, infiniti)         3.56     2.56     3.04\n",
       "(lexus, cadillac)         1.82     1.59     1.42\n",
       "(lexus, audi)             1.57     1.54     1.89\n",
       "(honda, bmw)              1.33     0.99     1.15\n",
       "(honda, lexus)            2.04     1.20     4.73\n",
       "(honda, infiniti)         1.12     1.14     1.69\n",
       "(honda, cadillac)         1.60     0.81     0.00\n",
       "(honda, audi)             2.58     1.47     3.16\n",
       "(infiniti, bmw)           1.20     1.21     1.24\n",
       "(infiniti, lexus)         3.56     2.56     3.04\n",
       "(infiniti, honda)         1.12     1.14     1.69\n",
       "(infiniti, cadillac)      2.00     1.79     1.35\n",
       "(infiniti, audi)          2.15     1.42     2.70\n",
       "(cadillac, bmw)           1.33     1.42     1.39\n",
       "(cadillac, lexus)         1.82     1.59     1.42\n",
       "(cadillac, honda)         1.60     0.81     0.00\n",
       "(cadillac, infiniti)      2.00     1.79     1.35\n",
       "(cadillac, audi)          1.54     1.39     0.95\n",
       "(audi, bmw)               0.92     1.21     0.81\n",
       "(audi, lexus)             1.57     1.54     1.89\n",
       "(audi, honda)             2.58     1.47     3.16\n",
       "(audi, infiniti)          2.15     1.42     2.70\n",
       "(audi, cadillac)          1.54     1.39     0.95"
      ]
     },
     "execution_count": 40,
     "metadata": {},
     "output_type": "execute_result"
    }
   ],
   "source": [
    "formatted_lift_score = [round(elem,2) for elem in conditional_lift ]\n",
    "index_list = [(x,y) for x in top_brands for y in top_brands if x!=y] \n",
    "pd.DataFrame(reshape(formatted_lift_score,(len(index_list),len(product_list))), index = index_list,columns = product_list)"
   ]
  },
  {
   "cell_type": "markdown",
   "metadata": {},
   "source": [
    "### Given a post talks about a certain brand, do reviewers talk about \"ultimate driving machine\""
   ]
  },
  {
   "cell_type": "code",
   "execution_count": 41,
   "metadata": {},
   "outputs": [],
   "source": [
    "top_brands = ['bmw','lexus','honda','infiniti','cadillac','audi']\n",
    "product_list = ['ultimate','driving','machine']\n",
    "conditional_lift = [get_conditional_lift(x,y,z,df.post_attributes) \n",
    "                    for x in product_list for y in product_list for z in top_brands \n",
    "                    if x!=y]"
   ]
  },
  {
   "cell_type": "code",
   "execution_count": 42,
   "metadata": {},
   "outputs": [
    {
     "data": {
      "text/html": [
       "<div>\n",
       "<style scoped>\n",
       "    .dataframe tbody tr th:only-of-type {\n",
       "        vertical-align: middle;\n",
       "    }\n",
       "\n",
       "    .dataframe tbody tr th {\n",
       "        vertical-align: top;\n",
       "    }\n",
       "\n",
       "    .dataframe thead th {\n",
       "        text-align: right;\n",
       "    }\n",
       "</style>\n",
       "<table border=\"1\" class=\"dataframe\">\n",
       "  <thead>\n",
       "    <tr style=\"text-align: right;\">\n",
       "      <th></th>\n",
       "      <th>bmw</th>\n",
       "      <th>lexus</th>\n",
       "      <th>honda</th>\n",
       "      <th>infiniti</th>\n",
       "      <th>cadillac</th>\n",
       "      <th>audi</th>\n",
       "    </tr>\n",
       "  </thead>\n",
       "  <tbody>\n",
       "    <tr>\n",
       "      <th>(ultimate, driving)</th>\n",
       "      <td>5.36</td>\n",
       "      <td>3.52</td>\n",
       "      <td>5.24</td>\n",
       "      <td>5.56</td>\n",
       "      <td>5.92</td>\n",
       "      <td>3.00</td>\n",
       "    </tr>\n",
       "    <tr>\n",
       "      <th>(ultimate, machine)</th>\n",
       "      <td>46.55</td>\n",
       "      <td>36.36</td>\n",
       "      <td>184.13</td>\n",
       "      <td>43.14</td>\n",
       "      <td>32.72</td>\n",
       "      <td>30.85</td>\n",
       "    </tr>\n",
       "    <tr>\n",
       "      <th>(driving, ultimate)</th>\n",
       "      <td>5.36</td>\n",
       "      <td>3.52</td>\n",
       "      <td>5.24</td>\n",
       "      <td>5.56</td>\n",
       "      <td>5.92</td>\n",
       "      <td>3.00</td>\n",
       "    </tr>\n",
       "    <tr>\n",
       "      <th>(driving, machine)</th>\n",
       "      <td>4.29</td>\n",
       "      <td>4.52</td>\n",
       "      <td>5.83</td>\n",
       "      <td>5.29</td>\n",
       "      <td>5.53</td>\n",
       "      <td>3.47</td>\n",
       "    </tr>\n",
       "    <tr>\n",
       "      <th>(machine, ultimate)</th>\n",
       "      <td>46.55</td>\n",
       "      <td>36.36</td>\n",
       "      <td>184.13</td>\n",
       "      <td>43.14</td>\n",
       "      <td>32.72</td>\n",
       "      <td>30.85</td>\n",
       "    </tr>\n",
       "    <tr>\n",
       "      <th>(machine, driving)</th>\n",
       "      <td>4.29</td>\n",
       "      <td>4.52</td>\n",
       "      <td>5.83</td>\n",
       "      <td>5.29</td>\n",
       "      <td>5.53</td>\n",
       "      <td>3.47</td>\n",
       "    </tr>\n",
       "  </tbody>\n",
       "</table>\n",
       "</div>"
      ],
      "text/plain": [
       "                       bmw  lexus   honda  infiniti  cadillac   audi\n",
       "(ultimate, driving)   5.36   3.52    5.24      5.56      5.92   3.00\n",
       "(ultimate, machine)  46.55  36.36  184.13     43.14     32.72  30.85\n",
       "(driving, ultimate)   5.36   3.52    5.24      5.56      5.92   3.00\n",
       "(driving, machine)    4.29   4.52    5.83      5.29      5.53   3.47\n",
       "(machine, ultimate)  46.55  36.36  184.13     43.14     32.72  30.85\n",
       "(machine, driving)    4.29   4.52    5.83      5.29      5.53   3.47"
      ]
     },
     "execution_count": 42,
     "metadata": {},
     "output_type": "execute_result"
    }
   ],
   "source": [
    "formatted_lift_score = [round(elem,2) for elem in conditional_lift]\n",
    "index_list = [(x,y) for x in product_list for y in product_list if x!=y] \n",
    "pd.DataFrame(reshape(formatted_lift_score,(len(index_list),len(top_brands))), index = index_list,columns = top_brands)"
   ]
  },
  {
   "cell_type": "markdown",
   "metadata": {},
   "source": [
    "### Advice to (i) product manager, and (ii) marketing/advertising manager of these brands based on attribute relations"
   ]
  },
  {
   "cell_type": "code",
   "execution_count": null,
   "metadata": {},
   "outputs": [],
   "source": []
  },
  {
   "cell_type": "markdown",
   "metadata": {},
   "source": [
    "### Most aspirational brand in your data in terms of people actually wanting to buy or own? Describe your analysis. What are the business implications for this brand?"
   ]
  },
  {
   "cell_type": "code",
   "execution_count": 43,
   "metadata": {},
   "outputs": [],
   "source": [
    "num_brands = 10\n",
    "top_brands = rslt_unique[rslt_unique['word'].isin(car_models[\"make\"])].nlargest(num_brands,'frequency')\n",
    "product_list = ['hope','dream','desire','wish','aspire','pray','want']\n",
    "lift_score = [get_lift(x,y,df.post_attributes) for x in top_brands.word for y in product_list]"
   ]
  },
  {
   "cell_type": "code",
   "execution_count": 44,
   "metadata": {},
   "outputs": [
    {
     "data": {
      "text/html": [
       "<div>\n",
       "<style scoped>\n",
       "    .dataframe tbody tr th:only-of-type {\n",
       "        vertical-align: middle;\n",
       "    }\n",
       "\n",
       "    .dataframe tbody tr th {\n",
       "        vertical-align: top;\n",
       "    }\n",
       "\n",
       "    .dataframe thead th {\n",
       "        text-align: right;\n",
       "    }\n",
       "</style>\n",
       "<table border=\"1\" class=\"dataframe\">\n",
       "  <thead>\n",
       "    <tr style=\"text-align: right;\">\n",
       "      <th></th>\n",
       "      <th>hope</th>\n",
       "      <th>dream</th>\n",
       "      <th>desire</th>\n",
       "      <th>wish</th>\n",
       "      <th>aspire</th>\n",
       "      <th>pray</th>\n",
       "      <th>want</th>\n",
       "    </tr>\n",
       "    <tr>\n",
       "      <th>word</th>\n",
       "      <th></th>\n",
       "      <th></th>\n",
       "      <th></th>\n",
       "      <th></th>\n",
       "      <th></th>\n",
       "      <th></th>\n",
       "      <th></th>\n",
       "    </tr>\n",
       "  </thead>\n",
       "  <tbody>\n",
       "    <tr>\n",
       "      <th>bmw</th>\n",
       "      <td>1.56</td>\n",
       "      <td>2.00</td>\n",
       "      <td>1.32</td>\n",
       "      <td>2.09</td>\n",
       "      <td>1.13</td>\n",
       "      <td>2.06</td>\n",
       "      <td>1.76</td>\n",
       "    </tr>\n",
       "    <tr>\n",
       "      <th>acura</th>\n",
       "      <td>1.61</td>\n",
       "      <td>0.83</td>\n",
       "      <td>1.12</td>\n",
       "      <td>0.70</td>\n",
       "      <td>0.62</td>\n",
       "      <td>0.00</td>\n",
       "      <td>1.25</td>\n",
       "    </tr>\n",
       "    <tr>\n",
       "      <th>audi</th>\n",
       "      <td>1.77</td>\n",
       "      <td>3.83</td>\n",
       "      <td>2.30</td>\n",
       "      <td>1.70</td>\n",
       "      <td>2.74</td>\n",
       "      <td>1.79</td>\n",
       "      <td>1.98</td>\n",
       "    </tr>\n",
       "    <tr>\n",
       "      <th>volkswagen</th>\n",
       "      <td>1.98</td>\n",
       "      <td>1.71</td>\n",
       "      <td>1.10</td>\n",
       "      <td>1.49</td>\n",
       "      <td>1.92</td>\n",
       "      <td>1.10</td>\n",
       "      <td>1.61</td>\n",
       "    </tr>\n",
       "    <tr>\n",
       "      <th>infiniti</th>\n",
       "      <td>1.72</td>\n",
       "      <td>1.85</td>\n",
       "      <td>1.02</td>\n",
       "      <td>0.97</td>\n",
       "      <td>0.52</td>\n",
       "      <td>0.00</td>\n",
       "      <td>1.53</td>\n",
       "    </tr>\n",
       "    <tr>\n",
       "      <th>honda</th>\n",
       "      <td>1.56</td>\n",
       "      <td>3.03</td>\n",
       "      <td>0.93</td>\n",
       "      <td>1.06</td>\n",
       "      <td>1.70</td>\n",
       "      <td>0.00</td>\n",
       "      <td>1.35</td>\n",
       "    </tr>\n",
       "    <tr>\n",
       "      <th>ford</th>\n",
       "      <td>2.27</td>\n",
       "      <td>3.79</td>\n",
       "      <td>0.83</td>\n",
       "      <td>1.69</td>\n",
       "      <td>3.41</td>\n",
       "      <td>0.00</td>\n",
       "      <td>2.03</td>\n",
       "    </tr>\n",
       "    <tr>\n",
       "      <th>cadillac</th>\n",
       "      <td>2.66</td>\n",
       "      <td>4.06</td>\n",
       "      <td>0.60</td>\n",
       "      <td>2.38</td>\n",
       "      <td>0.00</td>\n",
       "      <td>0.00</td>\n",
       "      <td>1.92</td>\n",
       "    </tr>\n",
       "    <tr>\n",
       "      <th>lexus</th>\n",
       "      <td>1.58</td>\n",
       "      <td>2.62</td>\n",
       "      <td>1.60</td>\n",
       "      <td>1.09</td>\n",
       "      <td>2.94</td>\n",
       "      <td>0.00</td>\n",
       "      <td>2.35</td>\n",
       "    </tr>\n",
       "    <tr>\n",
       "      <th>maserati</th>\n",
       "      <td>1.55</td>\n",
       "      <td>1.13</td>\n",
       "      <td>1.25</td>\n",
       "      <td>0.47</td>\n",
       "      <td>0.00</td>\n",
       "      <td>2.92</td>\n",
       "      <td>1.03</td>\n",
       "    </tr>\n",
       "  </tbody>\n",
       "</table>\n",
       "</div>"
      ],
      "text/plain": [
       "            hope  dream  desire  wish  aspire  pray  want\n",
       "word                                                     \n",
       "bmw         1.56   2.00    1.32  2.09    1.13  2.06  1.76\n",
       "acura       1.61   0.83    1.12  0.70    0.62  0.00  1.25\n",
       "audi        1.77   3.83    2.30  1.70    2.74  1.79  1.98\n",
       "volkswagen  1.98   1.71    1.10  1.49    1.92  1.10  1.61\n",
       "infiniti    1.72   1.85    1.02  0.97    0.52  0.00  1.53\n",
       "honda       1.56   3.03    0.93  1.06    1.70  0.00  1.35\n",
       "ford        2.27   3.79    0.83  1.69    3.41  0.00  2.03\n",
       "cadillac    2.66   4.06    0.60  2.38    0.00  0.00  1.92\n",
       "lexus       1.58   2.62    1.60  1.09    2.94  0.00  2.35\n",
       "maserati    1.55   1.13    1.25  0.47    0.00  2.92  1.03"
      ]
     },
     "execution_count": 44,
     "metadata": {},
     "output_type": "execute_result"
    }
   ],
   "source": [
    "#checking average scores per brand\n",
    "formatted_lift_score = [round(elem,2) for elem in lift_score ]\n",
    "asp_df = pd.DataFrame(reshape(formatted_lift_score,(num_brands,len(product_list)))\n",
    "                      ,index =top_brands.word \n",
    "                      , columns = product_list)\n",
    "asp_df"
   ]
  },
  {
   "cell_type": "code",
   "execution_count": 45,
   "metadata": {},
   "outputs": [
    {
     "data": {
      "text/plain": [
       "word\n",
       "bmw           1.702857\n",
       "acura         0.875714\n",
       "audi          2.301429\n",
       "volkswagen    1.558571\n",
       "infiniti      1.087143\n",
       "honda         1.375714\n",
       "ford          2.002857\n",
       "cadillac      1.660000\n",
       "lexus         1.740000\n",
       "maserati      1.192857\n",
       "dtype: float64"
      ]
     },
     "execution_count": 45,
     "metadata": {},
     "output_type": "execute_result"
    }
   ],
   "source": [
    "#Taking an average\n",
    "asp_df.mean(axis=1)"
   ]
  },
  {
   "cell_type": "markdown",
   "metadata": {},
   "source": [
    "### Aspirational brand comment"
   ]
  },
  {
   "cell_type": "code",
   "execution_count": null,
   "metadata": {},
   "outputs": [],
   "source": []
  }
 ],
 "metadata": {
  "kernelspec": {
   "display_name": "Python 3",
   "language": "python",
   "name": "python3"
  },
  "language_info": {
   "codemirror_mode": {
    "name": "ipython",
    "version": 3
   },
   "file_extension": ".py",
   "mimetype": "text/x-python",
   "name": "python",
   "nbconvert_exporter": "python",
   "pygments_lexer": "ipython3",
   "version": "3.6.6"
  }
 },
 "nbformat": 4,
 "nbformat_minor": 2
}
